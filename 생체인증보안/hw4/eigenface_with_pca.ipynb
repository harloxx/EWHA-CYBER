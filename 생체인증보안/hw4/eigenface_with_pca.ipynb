{
  "nbformat": 4,
  "nbformat_minor": 0,
  "metadata": {
    "colab": {
      "name": "hw4_eigenface_1970025_김하은.ipynb",
      "provenance": [],
      "collapsed_sections": []
    },
    "kernelspec": {
      "name": "python3",
      "display_name": "Python 3"
    },
    "language_info": {
      "name": "python"
    },
    "accelerator": "GPU",
    "widgets": {
      "application/vnd.jupyter.widget-state+json": {
        "66f1082e168e4d5d862a7d5b3c7ffae4": {
          "model_module": "@jupyter-widgets/controls",
          "model_name": "HBoxModel",
          "model_module_version": "1.5.0",
          "state": {
            "_dom_classes": [],
            "_model_module": "@jupyter-widgets/controls",
            "_model_module_version": "1.5.0",
            "_model_name": "HBoxModel",
            "_view_count": null,
            "_view_module": "@jupyter-widgets/controls",
            "_view_module_version": "1.5.0",
            "_view_name": "HBoxView",
            "box_style": "",
            "children": [
              "IPY_MODEL_1b0c83203b4b46b7bf384c5bd5c371b9",
              "IPY_MODEL_87df656210174b42a53181978f5ade2d",
              "IPY_MODEL_c6a6888809b3403d92817e28d8f9e0a1"
            ],
            "layout": "IPY_MODEL_8cb4feeeeffd4da78e2b8a1de0105b2b"
          }
        },
        "1b0c83203b4b46b7bf384c5bd5c371b9": {
          "model_module": "@jupyter-widgets/controls",
          "model_name": "HTMLModel",
          "model_module_version": "1.5.0",
          "state": {
            "_dom_classes": [],
            "_model_module": "@jupyter-widgets/controls",
            "_model_module_version": "1.5.0",
            "_model_name": "HTMLModel",
            "_view_count": null,
            "_view_module": "@jupyter-widgets/controls",
            "_view_module_version": "1.5.0",
            "_view_name": "HTMLView",
            "description": "",
            "description_tooltip": null,
            "layout": "IPY_MODEL_744597b8d4c542e19c9973fb0b73814b",
            "placeholder": "​",
            "style": "IPY_MODEL_d09e7ac5a936463983f170912cbd8ee2",
            "value": "100%"
          }
        },
        "87df656210174b42a53181978f5ade2d": {
          "model_module": "@jupyter-widgets/controls",
          "model_name": "FloatProgressModel",
          "model_module_version": "1.5.0",
          "state": {
            "_dom_classes": [],
            "_model_module": "@jupyter-widgets/controls",
            "_model_module_version": "1.5.0",
            "_model_name": "FloatProgressModel",
            "_view_count": null,
            "_view_module": "@jupyter-widgets/controls",
            "_view_module_version": "1.5.0",
            "_view_name": "ProgressView",
            "bar_style": "success",
            "description": "",
            "description_tooltip": null,
            "layout": "IPY_MODEL_4d45cdee5af641719ca54d52ced52b16",
            "max": 966,
            "min": 0,
            "orientation": "horizontal",
            "style": "IPY_MODEL_56d1aac19b8849048b8e177b618abfa0",
            "value": 966
          }
        },
        "c6a6888809b3403d92817e28d8f9e0a1": {
          "model_module": "@jupyter-widgets/controls",
          "model_name": "HTMLModel",
          "model_module_version": "1.5.0",
          "state": {
            "_dom_classes": [],
            "_model_module": "@jupyter-widgets/controls",
            "_model_module_version": "1.5.0",
            "_model_name": "HTMLModel",
            "_view_count": null,
            "_view_module": "@jupyter-widgets/controls",
            "_view_module_version": "1.5.0",
            "_view_name": "HTMLView",
            "description": "",
            "description_tooltip": null,
            "layout": "IPY_MODEL_5e9ae1f3ef194a9e9ae2085a72eab1cd",
            "placeholder": "​",
            "style": "IPY_MODEL_d7aecce68a834bd392ef2ea33df7a161",
            "value": " 966/966 [00:05&lt;00:00, 165.86it/s]"
          }
        },
        "8cb4feeeeffd4da78e2b8a1de0105b2b": {
          "model_module": "@jupyter-widgets/base",
          "model_name": "LayoutModel",
          "model_module_version": "1.2.0",
          "state": {
            "_model_module": "@jupyter-widgets/base",
            "_model_module_version": "1.2.0",
            "_model_name": "LayoutModel",
            "_view_count": null,
            "_view_module": "@jupyter-widgets/base",
            "_view_module_version": "1.2.0",
            "_view_name": "LayoutView",
            "align_content": null,
            "align_items": null,
            "align_self": null,
            "border": null,
            "bottom": null,
            "display": null,
            "flex": null,
            "flex_flow": null,
            "grid_area": null,
            "grid_auto_columns": null,
            "grid_auto_flow": null,
            "grid_auto_rows": null,
            "grid_column": null,
            "grid_gap": null,
            "grid_row": null,
            "grid_template_areas": null,
            "grid_template_columns": null,
            "grid_template_rows": null,
            "height": null,
            "justify_content": null,
            "justify_items": null,
            "left": null,
            "margin": null,
            "max_height": null,
            "max_width": null,
            "min_height": null,
            "min_width": null,
            "object_fit": null,
            "object_position": null,
            "order": null,
            "overflow": null,
            "overflow_x": null,
            "overflow_y": null,
            "padding": null,
            "right": null,
            "top": null,
            "visibility": null,
            "width": null
          }
        },
        "744597b8d4c542e19c9973fb0b73814b": {
          "model_module": "@jupyter-widgets/base",
          "model_name": "LayoutModel",
          "model_module_version": "1.2.0",
          "state": {
            "_model_module": "@jupyter-widgets/base",
            "_model_module_version": "1.2.0",
            "_model_name": "LayoutModel",
            "_view_count": null,
            "_view_module": "@jupyter-widgets/base",
            "_view_module_version": "1.2.0",
            "_view_name": "LayoutView",
            "align_content": null,
            "align_items": null,
            "align_self": null,
            "border": null,
            "bottom": null,
            "display": null,
            "flex": null,
            "flex_flow": null,
            "grid_area": null,
            "grid_auto_columns": null,
            "grid_auto_flow": null,
            "grid_auto_rows": null,
            "grid_column": null,
            "grid_gap": null,
            "grid_row": null,
            "grid_template_areas": null,
            "grid_template_columns": null,
            "grid_template_rows": null,
            "height": null,
            "justify_content": null,
            "justify_items": null,
            "left": null,
            "margin": null,
            "max_height": null,
            "max_width": null,
            "min_height": null,
            "min_width": null,
            "object_fit": null,
            "object_position": null,
            "order": null,
            "overflow": null,
            "overflow_x": null,
            "overflow_y": null,
            "padding": null,
            "right": null,
            "top": null,
            "visibility": null,
            "width": null
          }
        },
        "d09e7ac5a936463983f170912cbd8ee2": {
          "model_module": "@jupyter-widgets/controls",
          "model_name": "DescriptionStyleModel",
          "model_module_version": "1.5.0",
          "state": {
            "_model_module": "@jupyter-widgets/controls",
            "_model_module_version": "1.5.0",
            "_model_name": "DescriptionStyleModel",
            "_view_count": null,
            "_view_module": "@jupyter-widgets/base",
            "_view_module_version": "1.2.0",
            "_view_name": "StyleView",
            "description_width": ""
          }
        },
        "4d45cdee5af641719ca54d52ced52b16": {
          "model_module": "@jupyter-widgets/base",
          "model_name": "LayoutModel",
          "model_module_version": "1.2.0",
          "state": {
            "_model_module": "@jupyter-widgets/base",
            "_model_module_version": "1.2.0",
            "_model_name": "LayoutModel",
            "_view_count": null,
            "_view_module": "@jupyter-widgets/base",
            "_view_module_version": "1.2.0",
            "_view_name": "LayoutView",
            "align_content": null,
            "align_items": null,
            "align_self": null,
            "border": null,
            "bottom": null,
            "display": null,
            "flex": null,
            "flex_flow": null,
            "grid_area": null,
            "grid_auto_columns": null,
            "grid_auto_flow": null,
            "grid_auto_rows": null,
            "grid_column": null,
            "grid_gap": null,
            "grid_row": null,
            "grid_template_areas": null,
            "grid_template_columns": null,
            "grid_template_rows": null,
            "height": null,
            "justify_content": null,
            "justify_items": null,
            "left": null,
            "margin": null,
            "max_height": null,
            "max_width": null,
            "min_height": null,
            "min_width": null,
            "object_fit": null,
            "object_position": null,
            "order": null,
            "overflow": null,
            "overflow_x": null,
            "overflow_y": null,
            "padding": null,
            "right": null,
            "top": null,
            "visibility": null,
            "width": null
          }
        },
        "56d1aac19b8849048b8e177b618abfa0": {
          "model_module": "@jupyter-widgets/controls",
          "model_name": "ProgressStyleModel",
          "model_module_version": "1.5.0",
          "state": {
            "_model_module": "@jupyter-widgets/controls",
            "_model_module_version": "1.5.0",
            "_model_name": "ProgressStyleModel",
            "_view_count": null,
            "_view_module": "@jupyter-widgets/base",
            "_view_module_version": "1.2.0",
            "_view_name": "StyleView",
            "bar_color": null,
            "description_width": ""
          }
        },
        "5e9ae1f3ef194a9e9ae2085a72eab1cd": {
          "model_module": "@jupyter-widgets/base",
          "model_name": "LayoutModel",
          "model_module_version": "1.2.0",
          "state": {
            "_model_module": "@jupyter-widgets/base",
            "_model_module_version": "1.2.0",
            "_model_name": "LayoutModel",
            "_view_count": null,
            "_view_module": "@jupyter-widgets/base",
            "_view_module_version": "1.2.0",
            "_view_name": "LayoutView",
            "align_content": null,
            "align_items": null,
            "align_self": null,
            "border": null,
            "bottom": null,
            "display": null,
            "flex": null,
            "flex_flow": null,
            "grid_area": null,
            "grid_auto_columns": null,
            "grid_auto_flow": null,
            "grid_auto_rows": null,
            "grid_column": null,
            "grid_gap": null,
            "grid_row": null,
            "grid_template_areas": null,
            "grid_template_columns": null,
            "grid_template_rows": null,
            "height": null,
            "justify_content": null,
            "justify_items": null,
            "left": null,
            "margin": null,
            "max_height": null,
            "max_width": null,
            "min_height": null,
            "min_width": null,
            "object_fit": null,
            "object_position": null,
            "order": null,
            "overflow": null,
            "overflow_x": null,
            "overflow_y": null,
            "padding": null,
            "right": null,
            "top": null,
            "visibility": null,
            "width": null
          }
        },
        "d7aecce68a834bd392ef2ea33df7a161": {
          "model_module": "@jupyter-widgets/controls",
          "model_name": "DescriptionStyleModel",
          "model_module_version": "1.5.0",
          "state": {
            "_model_module": "@jupyter-widgets/controls",
            "_model_module_version": "1.5.0",
            "_model_name": "DescriptionStyleModel",
            "_view_count": null,
            "_view_module": "@jupyter-widgets/base",
            "_view_module_version": "1.2.0",
            "_view_name": "StyleView",
            "description_width": ""
          }
        },
        "cc38b50bde8d4874b027f9e5e2119d20": {
          "model_module": "@jupyter-widgets/controls",
          "model_name": "HBoxModel",
          "model_module_version": "1.5.0",
          "state": {
            "_dom_classes": [],
            "_model_module": "@jupyter-widgets/controls",
            "_model_module_version": "1.5.0",
            "_model_name": "HBoxModel",
            "_view_count": null,
            "_view_module": "@jupyter-widgets/controls",
            "_view_module_version": "1.5.0",
            "_view_name": "HBoxView",
            "box_style": "",
            "children": [
              "IPY_MODEL_4cca5e28b7e84432b461dc5f24002f41",
              "IPY_MODEL_7c3bb91668944922863290352eb204c3",
              "IPY_MODEL_cdcb16fe2939484c84fc00b92779aa89"
            ],
            "layout": "IPY_MODEL_546f5e77d3cd4491b150ddd025700867"
          }
        },
        "4cca5e28b7e84432b461dc5f24002f41": {
          "model_module": "@jupyter-widgets/controls",
          "model_name": "HTMLModel",
          "model_module_version": "1.5.0",
          "state": {
            "_dom_classes": [],
            "_model_module": "@jupyter-widgets/controls",
            "_model_module_version": "1.5.0",
            "_model_name": "HTMLModel",
            "_view_count": null,
            "_view_module": "@jupyter-widgets/controls",
            "_view_module_version": "1.5.0",
            "_view_name": "HTMLView",
            "description": "",
            "description_tooltip": null,
            "layout": "IPY_MODEL_03339097c5a74165be479362f215b84c",
            "placeholder": "​",
            "style": "IPY_MODEL_c4f4401ed4c74cb583a46a24b6b642dc",
            "value": "100%"
          }
        },
        "7c3bb91668944922863290352eb204c3": {
          "model_module": "@jupyter-widgets/controls",
          "model_name": "FloatProgressModel",
          "model_module_version": "1.5.0",
          "state": {
            "_dom_classes": [],
            "_model_module": "@jupyter-widgets/controls",
            "_model_module_version": "1.5.0",
            "_model_name": "FloatProgressModel",
            "_view_count": null,
            "_view_module": "@jupyter-widgets/controls",
            "_view_module_version": "1.5.0",
            "_view_name": "ProgressView",
            "bar_style": "success",
            "description": "",
            "description_tooltip": null,
            "layout": "IPY_MODEL_a352624b6e724e22b4876ef96e912f8f",
            "max": 322,
            "min": 0,
            "orientation": "horizontal",
            "style": "IPY_MODEL_2a02029d5a9b4fbe8d2b72be64afd816",
            "value": 322
          }
        },
        "cdcb16fe2939484c84fc00b92779aa89": {
          "model_module": "@jupyter-widgets/controls",
          "model_name": "HTMLModel",
          "model_module_version": "1.5.0",
          "state": {
            "_dom_classes": [],
            "_model_module": "@jupyter-widgets/controls",
            "_model_module_version": "1.5.0",
            "_model_name": "HTMLModel",
            "_view_count": null,
            "_view_module": "@jupyter-widgets/controls",
            "_view_module_version": "1.5.0",
            "_view_name": "HTMLView",
            "description": "",
            "description_tooltip": null,
            "layout": "IPY_MODEL_410779b4c4e24e158df91a873b7cac21",
            "placeholder": "​",
            "style": "IPY_MODEL_e60ec08e9b314efe98c8a5c89debb107",
            "value": " 322/322 [00:02&lt;00:00, 198.53it/s]"
          }
        },
        "546f5e77d3cd4491b150ddd025700867": {
          "model_module": "@jupyter-widgets/base",
          "model_name": "LayoutModel",
          "model_module_version": "1.2.0",
          "state": {
            "_model_module": "@jupyter-widgets/base",
            "_model_module_version": "1.2.0",
            "_model_name": "LayoutModel",
            "_view_count": null,
            "_view_module": "@jupyter-widgets/base",
            "_view_module_version": "1.2.0",
            "_view_name": "LayoutView",
            "align_content": null,
            "align_items": null,
            "align_self": null,
            "border": null,
            "bottom": null,
            "display": null,
            "flex": null,
            "flex_flow": null,
            "grid_area": null,
            "grid_auto_columns": null,
            "grid_auto_flow": null,
            "grid_auto_rows": null,
            "grid_column": null,
            "grid_gap": null,
            "grid_row": null,
            "grid_template_areas": null,
            "grid_template_columns": null,
            "grid_template_rows": null,
            "height": null,
            "justify_content": null,
            "justify_items": null,
            "left": null,
            "margin": null,
            "max_height": null,
            "max_width": null,
            "min_height": null,
            "min_width": null,
            "object_fit": null,
            "object_position": null,
            "order": null,
            "overflow": null,
            "overflow_x": null,
            "overflow_y": null,
            "padding": null,
            "right": null,
            "top": null,
            "visibility": null,
            "width": null
          }
        },
        "03339097c5a74165be479362f215b84c": {
          "model_module": "@jupyter-widgets/base",
          "model_name": "LayoutModel",
          "model_module_version": "1.2.0",
          "state": {
            "_model_module": "@jupyter-widgets/base",
            "_model_module_version": "1.2.0",
            "_model_name": "LayoutModel",
            "_view_count": null,
            "_view_module": "@jupyter-widgets/base",
            "_view_module_version": "1.2.0",
            "_view_name": "LayoutView",
            "align_content": null,
            "align_items": null,
            "align_self": null,
            "border": null,
            "bottom": null,
            "display": null,
            "flex": null,
            "flex_flow": null,
            "grid_area": null,
            "grid_auto_columns": null,
            "grid_auto_flow": null,
            "grid_auto_rows": null,
            "grid_column": null,
            "grid_gap": null,
            "grid_row": null,
            "grid_template_areas": null,
            "grid_template_columns": null,
            "grid_template_rows": null,
            "height": null,
            "justify_content": null,
            "justify_items": null,
            "left": null,
            "margin": null,
            "max_height": null,
            "max_width": null,
            "min_height": null,
            "min_width": null,
            "object_fit": null,
            "object_position": null,
            "order": null,
            "overflow": null,
            "overflow_x": null,
            "overflow_y": null,
            "padding": null,
            "right": null,
            "top": null,
            "visibility": null,
            "width": null
          }
        },
        "c4f4401ed4c74cb583a46a24b6b642dc": {
          "model_module": "@jupyter-widgets/controls",
          "model_name": "DescriptionStyleModel",
          "model_module_version": "1.5.0",
          "state": {
            "_model_module": "@jupyter-widgets/controls",
            "_model_module_version": "1.5.0",
            "_model_name": "DescriptionStyleModel",
            "_view_count": null,
            "_view_module": "@jupyter-widgets/base",
            "_view_module_version": "1.2.0",
            "_view_name": "StyleView",
            "description_width": ""
          }
        },
        "a352624b6e724e22b4876ef96e912f8f": {
          "model_module": "@jupyter-widgets/base",
          "model_name": "LayoutModel",
          "model_module_version": "1.2.0",
          "state": {
            "_model_module": "@jupyter-widgets/base",
            "_model_module_version": "1.2.0",
            "_model_name": "LayoutModel",
            "_view_count": null,
            "_view_module": "@jupyter-widgets/base",
            "_view_module_version": "1.2.0",
            "_view_name": "LayoutView",
            "align_content": null,
            "align_items": null,
            "align_self": null,
            "border": null,
            "bottom": null,
            "display": null,
            "flex": null,
            "flex_flow": null,
            "grid_area": null,
            "grid_auto_columns": null,
            "grid_auto_flow": null,
            "grid_auto_rows": null,
            "grid_column": null,
            "grid_gap": null,
            "grid_row": null,
            "grid_template_areas": null,
            "grid_template_columns": null,
            "grid_template_rows": null,
            "height": null,
            "justify_content": null,
            "justify_items": null,
            "left": null,
            "margin": null,
            "max_height": null,
            "max_width": null,
            "min_height": null,
            "min_width": null,
            "object_fit": null,
            "object_position": null,
            "order": null,
            "overflow": null,
            "overflow_x": null,
            "overflow_y": null,
            "padding": null,
            "right": null,
            "top": null,
            "visibility": null,
            "width": null
          }
        },
        "2a02029d5a9b4fbe8d2b72be64afd816": {
          "model_module": "@jupyter-widgets/controls",
          "model_name": "ProgressStyleModel",
          "model_module_version": "1.5.0",
          "state": {
            "_model_module": "@jupyter-widgets/controls",
            "_model_module_version": "1.5.0",
            "_model_name": "ProgressStyleModel",
            "_view_count": null,
            "_view_module": "@jupyter-widgets/base",
            "_view_module_version": "1.2.0",
            "_view_name": "StyleView",
            "bar_color": null,
            "description_width": ""
          }
        },
        "410779b4c4e24e158df91a873b7cac21": {
          "model_module": "@jupyter-widgets/base",
          "model_name": "LayoutModel",
          "model_module_version": "1.2.0",
          "state": {
            "_model_module": "@jupyter-widgets/base",
            "_model_module_version": "1.2.0",
            "_model_name": "LayoutModel",
            "_view_count": null,
            "_view_module": "@jupyter-widgets/base",
            "_view_module_version": "1.2.0",
            "_view_name": "LayoutView",
            "align_content": null,
            "align_items": null,
            "align_self": null,
            "border": null,
            "bottom": null,
            "display": null,
            "flex": null,
            "flex_flow": null,
            "grid_area": null,
            "grid_auto_columns": null,
            "grid_auto_flow": null,
            "grid_auto_rows": null,
            "grid_column": null,
            "grid_gap": null,
            "grid_row": null,
            "grid_template_areas": null,
            "grid_template_columns": null,
            "grid_template_rows": null,
            "height": null,
            "justify_content": null,
            "justify_items": null,
            "left": null,
            "margin": null,
            "max_height": null,
            "max_width": null,
            "min_height": null,
            "min_width": null,
            "object_fit": null,
            "object_position": null,
            "order": null,
            "overflow": null,
            "overflow_x": null,
            "overflow_y": null,
            "padding": null,
            "right": null,
            "top": null,
            "visibility": null,
            "width": null
          }
        },
        "e60ec08e9b314efe98c8a5c89debb107": {
          "model_module": "@jupyter-widgets/controls",
          "model_name": "DescriptionStyleModel",
          "model_module_version": "1.5.0",
          "state": {
            "_model_module": "@jupyter-widgets/controls",
            "_model_module_version": "1.5.0",
            "_model_name": "DescriptionStyleModel",
            "_view_count": null,
            "_view_module": "@jupyter-widgets/base",
            "_view_module_version": "1.2.0",
            "_view_name": "StyleView",
            "description_width": ""
          }
        },
        "1ce15add78564cd7a008ecf28682ade9": {
          "model_module": "@jupyter-widgets/controls",
          "model_name": "HBoxModel",
          "model_module_version": "1.5.0",
          "state": {
            "_dom_classes": [],
            "_model_module": "@jupyter-widgets/controls",
            "_model_module_version": "1.5.0",
            "_model_name": "HBoxModel",
            "_view_count": null,
            "_view_module": "@jupyter-widgets/controls",
            "_view_module_version": "1.5.0",
            "_view_name": "HBoxView",
            "box_style": "",
            "children": [
              "IPY_MODEL_c8dc52ec5a244e96aeba1f377ed2f7c4",
              "IPY_MODEL_4b74e98ae6d44d998bf58ae610ffd12b",
              "IPY_MODEL_2b6e6232791a4b1894921b553e09f038"
            ],
            "layout": "IPY_MODEL_7653aa11cf7c465e995d31943e4bd73c"
          }
        },
        "c8dc52ec5a244e96aeba1f377ed2f7c4": {
          "model_module": "@jupyter-widgets/controls",
          "model_name": "HTMLModel",
          "model_module_version": "1.5.0",
          "state": {
            "_dom_classes": [],
            "_model_module": "@jupyter-widgets/controls",
            "_model_module_version": "1.5.0",
            "_model_name": "HTMLModel",
            "_view_count": null,
            "_view_module": "@jupyter-widgets/controls",
            "_view_module_version": "1.5.0",
            "_view_name": "HTMLView",
            "description": "",
            "description_tooltip": null,
            "layout": "IPY_MODEL_916e2a8632624b9480fd81b62eabce88",
            "placeholder": "​",
            "style": "IPY_MODEL_9cc7ebfa6b9c457bb5ded5f8bf232507",
            "value": "100%"
          }
        },
        "4b74e98ae6d44d998bf58ae610ffd12b": {
          "model_module": "@jupyter-widgets/controls",
          "model_name": "FloatProgressModel",
          "model_module_version": "1.5.0",
          "state": {
            "_dom_classes": [],
            "_model_module": "@jupyter-widgets/controls",
            "_model_module_version": "1.5.0",
            "_model_name": "FloatProgressModel",
            "_view_count": null,
            "_view_module": "@jupyter-widgets/controls",
            "_view_module_version": "1.5.0",
            "_view_name": "ProgressView",
            "bar_style": "success",
            "description": "",
            "description_tooltip": null,
            "layout": "IPY_MODEL_0a0be3f43406438b866e32d38176517f",
            "max": 966,
            "min": 0,
            "orientation": "horizontal",
            "style": "IPY_MODEL_bb713c1213434ee28e248082b076130f",
            "value": 966
          }
        },
        "2b6e6232791a4b1894921b553e09f038": {
          "model_module": "@jupyter-widgets/controls",
          "model_name": "HTMLModel",
          "model_module_version": "1.5.0",
          "state": {
            "_dom_classes": [],
            "_model_module": "@jupyter-widgets/controls",
            "_model_module_version": "1.5.0",
            "_model_name": "HTMLModel",
            "_view_count": null,
            "_view_module": "@jupyter-widgets/controls",
            "_view_module_version": "1.5.0",
            "_view_name": "HTMLView",
            "description": "",
            "description_tooltip": null,
            "layout": "IPY_MODEL_ff40775c4858467b8d0cad979e0a7d3f",
            "placeholder": "​",
            "style": "IPY_MODEL_d1a950dc9bce43bcb881f076b5a5562c",
            "value": " 966/966 [00:14&lt;00:00, 75.30it/s]"
          }
        },
        "7653aa11cf7c465e995d31943e4bd73c": {
          "model_module": "@jupyter-widgets/base",
          "model_name": "LayoutModel",
          "model_module_version": "1.2.0",
          "state": {
            "_model_module": "@jupyter-widgets/base",
            "_model_module_version": "1.2.0",
            "_model_name": "LayoutModel",
            "_view_count": null,
            "_view_module": "@jupyter-widgets/base",
            "_view_module_version": "1.2.0",
            "_view_name": "LayoutView",
            "align_content": null,
            "align_items": null,
            "align_self": null,
            "border": null,
            "bottom": null,
            "display": null,
            "flex": null,
            "flex_flow": null,
            "grid_area": null,
            "grid_auto_columns": null,
            "grid_auto_flow": null,
            "grid_auto_rows": null,
            "grid_column": null,
            "grid_gap": null,
            "grid_row": null,
            "grid_template_areas": null,
            "grid_template_columns": null,
            "grid_template_rows": null,
            "height": null,
            "justify_content": null,
            "justify_items": null,
            "left": null,
            "margin": null,
            "max_height": null,
            "max_width": null,
            "min_height": null,
            "min_width": null,
            "object_fit": null,
            "object_position": null,
            "order": null,
            "overflow": null,
            "overflow_x": null,
            "overflow_y": null,
            "padding": null,
            "right": null,
            "top": null,
            "visibility": null,
            "width": null
          }
        },
        "916e2a8632624b9480fd81b62eabce88": {
          "model_module": "@jupyter-widgets/base",
          "model_name": "LayoutModel",
          "model_module_version": "1.2.0",
          "state": {
            "_model_module": "@jupyter-widgets/base",
            "_model_module_version": "1.2.0",
            "_model_name": "LayoutModel",
            "_view_count": null,
            "_view_module": "@jupyter-widgets/base",
            "_view_module_version": "1.2.0",
            "_view_name": "LayoutView",
            "align_content": null,
            "align_items": null,
            "align_self": null,
            "border": null,
            "bottom": null,
            "display": null,
            "flex": null,
            "flex_flow": null,
            "grid_area": null,
            "grid_auto_columns": null,
            "grid_auto_flow": null,
            "grid_auto_rows": null,
            "grid_column": null,
            "grid_gap": null,
            "grid_row": null,
            "grid_template_areas": null,
            "grid_template_columns": null,
            "grid_template_rows": null,
            "height": null,
            "justify_content": null,
            "justify_items": null,
            "left": null,
            "margin": null,
            "max_height": null,
            "max_width": null,
            "min_height": null,
            "min_width": null,
            "object_fit": null,
            "object_position": null,
            "order": null,
            "overflow": null,
            "overflow_x": null,
            "overflow_y": null,
            "padding": null,
            "right": null,
            "top": null,
            "visibility": null,
            "width": null
          }
        },
        "9cc7ebfa6b9c457bb5ded5f8bf232507": {
          "model_module": "@jupyter-widgets/controls",
          "model_name": "DescriptionStyleModel",
          "model_module_version": "1.5.0",
          "state": {
            "_model_module": "@jupyter-widgets/controls",
            "_model_module_version": "1.5.0",
            "_model_name": "DescriptionStyleModel",
            "_view_count": null,
            "_view_module": "@jupyter-widgets/base",
            "_view_module_version": "1.2.0",
            "_view_name": "StyleView",
            "description_width": ""
          }
        },
        "0a0be3f43406438b866e32d38176517f": {
          "model_module": "@jupyter-widgets/base",
          "model_name": "LayoutModel",
          "model_module_version": "1.2.0",
          "state": {
            "_model_module": "@jupyter-widgets/base",
            "_model_module_version": "1.2.0",
            "_model_name": "LayoutModel",
            "_view_count": null,
            "_view_module": "@jupyter-widgets/base",
            "_view_module_version": "1.2.0",
            "_view_name": "LayoutView",
            "align_content": null,
            "align_items": null,
            "align_self": null,
            "border": null,
            "bottom": null,
            "display": null,
            "flex": null,
            "flex_flow": null,
            "grid_area": null,
            "grid_auto_columns": null,
            "grid_auto_flow": null,
            "grid_auto_rows": null,
            "grid_column": null,
            "grid_gap": null,
            "grid_row": null,
            "grid_template_areas": null,
            "grid_template_columns": null,
            "grid_template_rows": null,
            "height": null,
            "justify_content": null,
            "justify_items": null,
            "left": null,
            "margin": null,
            "max_height": null,
            "max_width": null,
            "min_height": null,
            "min_width": null,
            "object_fit": null,
            "object_position": null,
            "order": null,
            "overflow": null,
            "overflow_x": null,
            "overflow_y": null,
            "padding": null,
            "right": null,
            "top": null,
            "visibility": null,
            "width": null
          }
        },
        "bb713c1213434ee28e248082b076130f": {
          "model_module": "@jupyter-widgets/controls",
          "model_name": "ProgressStyleModel",
          "model_module_version": "1.5.0",
          "state": {
            "_model_module": "@jupyter-widgets/controls",
            "_model_module_version": "1.5.0",
            "_model_name": "ProgressStyleModel",
            "_view_count": null,
            "_view_module": "@jupyter-widgets/base",
            "_view_module_version": "1.2.0",
            "_view_name": "StyleView",
            "bar_color": null,
            "description_width": ""
          }
        },
        "ff40775c4858467b8d0cad979e0a7d3f": {
          "model_module": "@jupyter-widgets/base",
          "model_name": "LayoutModel",
          "model_module_version": "1.2.0",
          "state": {
            "_model_module": "@jupyter-widgets/base",
            "_model_module_version": "1.2.0",
            "_model_name": "LayoutModel",
            "_view_count": null,
            "_view_module": "@jupyter-widgets/base",
            "_view_module_version": "1.2.0",
            "_view_name": "LayoutView",
            "align_content": null,
            "align_items": null,
            "align_self": null,
            "border": null,
            "bottom": null,
            "display": null,
            "flex": null,
            "flex_flow": null,
            "grid_area": null,
            "grid_auto_columns": null,
            "grid_auto_flow": null,
            "grid_auto_rows": null,
            "grid_column": null,
            "grid_gap": null,
            "grid_row": null,
            "grid_template_areas": null,
            "grid_template_columns": null,
            "grid_template_rows": null,
            "height": null,
            "justify_content": null,
            "justify_items": null,
            "left": null,
            "margin": null,
            "max_height": null,
            "max_width": null,
            "min_height": null,
            "min_width": null,
            "object_fit": null,
            "object_position": null,
            "order": null,
            "overflow": null,
            "overflow_x": null,
            "overflow_y": null,
            "padding": null,
            "right": null,
            "top": null,
            "visibility": null,
            "width": null
          }
        },
        "d1a950dc9bce43bcb881f076b5a5562c": {
          "model_module": "@jupyter-widgets/controls",
          "model_name": "DescriptionStyleModel",
          "model_module_version": "1.5.0",
          "state": {
            "_model_module": "@jupyter-widgets/controls",
            "_model_module_version": "1.5.0",
            "_model_name": "DescriptionStyleModel",
            "_view_count": null,
            "_view_module": "@jupyter-widgets/base",
            "_view_module_version": "1.2.0",
            "_view_name": "StyleView",
            "description_width": ""
          }
        },
        "2e7e39ff8cc64330b07b42716771218a": {
          "model_module": "@jupyter-widgets/controls",
          "model_name": "HBoxModel",
          "model_module_version": "1.5.0",
          "state": {
            "_dom_classes": [],
            "_model_module": "@jupyter-widgets/controls",
            "_model_module_version": "1.5.0",
            "_model_name": "HBoxModel",
            "_view_count": null,
            "_view_module": "@jupyter-widgets/controls",
            "_view_module_version": "1.5.0",
            "_view_name": "HBoxView",
            "box_style": "",
            "children": [
              "IPY_MODEL_7374cf2630484b8496d00dd59b2c6ba2",
              "IPY_MODEL_08e023316e4c49ba9260c98037c9956a",
              "IPY_MODEL_783021928bd54b7482abc9877f85c65a"
            ],
            "layout": "IPY_MODEL_b89ebc83d59e437bb9e6988ab16a46a1"
          }
        },
        "7374cf2630484b8496d00dd59b2c6ba2": {
          "model_module": "@jupyter-widgets/controls",
          "model_name": "HTMLModel",
          "model_module_version": "1.5.0",
          "state": {
            "_dom_classes": [],
            "_model_module": "@jupyter-widgets/controls",
            "_model_module_version": "1.5.0",
            "_model_name": "HTMLModel",
            "_view_count": null,
            "_view_module": "@jupyter-widgets/controls",
            "_view_module_version": "1.5.0",
            "_view_name": "HTMLView",
            "description": "",
            "description_tooltip": null,
            "layout": "IPY_MODEL_337b4f4793b94dd38282d3c5041c1c70",
            "placeholder": "​",
            "style": "IPY_MODEL_7b8bc6671b2a4177bb309f6f0bd2ccbb",
            "value": "100%"
          }
        },
        "08e023316e4c49ba9260c98037c9956a": {
          "model_module": "@jupyter-widgets/controls",
          "model_name": "FloatProgressModel",
          "model_module_version": "1.5.0",
          "state": {
            "_dom_classes": [],
            "_model_module": "@jupyter-widgets/controls",
            "_model_module_version": "1.5.0",
            "_model_name": "FloatProgressModel",
            "_view_count": null,
            "_view_module": "@jupyter-widgets/controls",
            "_view_module_version": "1.5.0",
            "_view_name": "ProgressView",
            "bar_style": "success",
            "description": "",
            "description_tooltip": null,
            "layout": "IPY_MODEL_2a0674d7f9af4fcb8f60ebc2d7162db5",
            "max": 322,
            "min": 0,
            "orientation": "horizontal",
            "style": "IPY_MODEL_409b8c2ba998412baa267ee399fd86ca",
            "value": 322
          }
        },
        "783021928bd54b7482abc9877f85c65a": {
          "model_module": "@jupyter-widgets/controls",
          "model_name": "HTMLModel",
          "model_module_version": "1.5.0",
          "state": {
            "_dom_classes": [],
            "_model_module": "@jupyter-widgets/controls",
            "_model_module_version": "1.5.0",
            "_model_name": "HTMLModel",
            "_view_count": null,
            "_view_module": "@jupyter-widgets/controls",
            "_view_module_version": "1.5.0",
            "_view_name": "HTMLView",
            "description": "",
            "description_tooltip": null,
            "layout": "IPY_MODEL_134fc2e3511c4ff58915b96e54a45b37",
            "placeholder": "​",
            "style": "IPY_MODEL_4765fa9295674fb580679f070a68876d",
            "value": " 322/322 [00:05&lt;00:00, 74.42it/s]"
          }
        },
        "b89ebc83d59e437bb9e6988ab16a46a1": {
          "model_module": "@jupyter-widgets/base",
          "model_name": "LayoutModel",
          "model_module_version": "1.2.0",
          "state": {
            "_model_module": "@jupyter-widgets/base",
            "_model_module_version": "1.2.0",
            "_model_name": "LayoutModel",
            "_view_count": null,
            "_view_module": "@jupyter-widgets/base",
            "_view_module_version": "1.2.0",
            "_view_name": "LayoutView",
            "align_content": null,
            "align_items": null,
            "align_self": null,
            "border": null,
            "bottom": null,
            "display": null,
            "flex": null,
            "flex_flow": null,
            "grid_area": null,
            "grid_auto_columns": null,
            "grid_auto_flow": null,
            "grid_auto_rows": null,
            "grid_column": null,
            "grid_gap": null,
            "grid_row": null,
            "grid_template_areas": null,
            "grid_template_columns": null,
            "grid_template_rows": null,
            "height": null,
            "justify_content": null,
            "justify_items": null,
            "left": null,
            "margin": null,
            "max_height": null,
            "max_width": null,
            "min_height": null,
            "min_width": null,
            "object_fit": null,
            "object_position": null,
            "order": null,
            "overflow": null,
            "overflow_x": null,
            "overflow_y": null,
            "padding": null,
            "right": null,
            "top": null,
            "visibility": null,
            "width": null
          }
        },
        "337b4f4793b94dd38282d3c5041c1c70": {
          "model_module": "@jupyter-widgets/base",
          "model_name": "LayoutModel",
          "model_module_version": "1.2.0",
          "state": {
            "_model_module": "@jupyter-widgets/base",
            "_model_module_version": "1.2.0",
            "_model_name": "LayoutModel",
            "_view_count": null,
            "_view_module": "@jupyter-widgets/base",
            "_view_module_version": "1.2.0",
            "_view_name": "LayoutView",
            "align_content": null,
            "align_items": null,
            "align_self": null,
            "border": null,
            "bottom": null,
            "display": null,
            "flex": null,
            "flex_flow": null,
            "grid_area": null,
            "grid_auto_columns": null,
            "grid_auto_flow": null,
            "grid_auto_rows": null,
            "grid_column": null,
            "grid_gap": null,
            "grid_row": null,
            "grid_template_areas": null,
            "grid_template_columns": null,
            "grid_template_rows": null,
            "height": null,
            "justify_content": null,
            "justify_items": null,
            "left": null,
            "margin": null,
            "max_height": null,
            "max_width": null,
            "min_height": null,
            "min_width": null,
            "object_fit": null,
            "object_position": null,
            "order": null,
            "overflow": null,
            "overflow_x": null,
            "overflow_y": null,
            "padding": null,
            "right": null,
            "top": null,
            "visibility": null,
            "width": null
          }
        },
        "7b8bc6671b2a4177bb309f6f0bd2ccbb": {
          "model_module": "@jupyter-widgets/controls",
          "model_name": "DescriptionStyleModel",
          "model_module_version": "1.5.0",
          "state": {
            "_model_module": "@jupyter-widgets/controls",
            "_model_module_version": "1.5.0",
            "_model_name": "DescriptionStyleModel",
            "_view_count": null,
            "_view_module": "@jupyter-widgets/base",
            "_view_module_version": "1.2.0",
            "_view_name": "StyleView",
            "description_width": ""
          }
        },
        "2a0674d7f9af4fcb8f60ebc2d7162db5": {
          "model_module": "@jupyter-widgets/base",
          "model_name": "LayoutModel",
          "model_module_version": "1.2.0",
          "state": {
            "_model_module": "@jupyter-widgets/base",
            "_model_module_version": "1.2.0",
            "_model_name": "LayoutModel",
            "_view_count": null,
            "_view_module": "@jupyter-widgets/base",
            "_view_module_version": "1.2.0",
            "_view_name": "LayoutView",
            "align_content": null,
            "align_items": null,
            "align_self": null,
            "border": null,
            "bottom": null,
            "display": null,
            "flex": null,
            "flex_flow": null,
            "grid_area": null,
            "grid_auto_columns": null,
            "grid_auto_flow": null,
            "grid_auto_rows": null,
            "grid_column": null,
            "grid_gap": null,
            "grid_row": null,
            "grid_template_areas": null,
            "grid_template_columns": null,
            "grid_template_rows": null,
            "height": null,
            "justify_content": null,
            "justify_items": null,
            "left": null,
            "margin": null,
            "max_height": null,
            "max_width": null,
            "min_height": null,
            "min_width": null,
            "object_fit": null,
            "object_position": null,
            "order": null,
            "overflow": null,
            "overflow_x": null,
            "overflow_y": null,
            "padding": null,
            "right": null,
            "top": null,
            "visibility": null,
            "width": null
          }
        },
        "409b8c2ba998412baa267ee399fd86ca": {
          "model_module": "@jupyter-widgets/controls",
          "model_name": "ProgressStyleModel",
          "model_module_version": "1.5.0",
          "state": {
            "_model_module": "@jupyter-widgets/controls",
            "_model_module_version": "1.5.0",
            "_model_name": "ProgressStyleModel",
            "_view_count": null,
            "_view_module": "@jupyter-widgets/base",
            "_view_module_version": "1.2.0",
            "_view_name": "StyleView",
            "bar_color": null,
            "description_width": ""
          }
        },
        "134fc2e3511c4ff58915b96e54a45b37": {
          "model_module": "@jupyter-widgets/base",
          "model_name": "LayoutModel",
          "model_module_version": "1.2.0",
          "state": {
            "_model_module": "@jupyter-widgets/base",
            "_model_module_version": "1.2.0",
            "_model_name": "LayoutModel",
            "_view_count": null,
            "_view_module": "@jupyter-widgets/base",
            "_view_module_version": "1.2.0",
            "_view_name": "LayoutView",
            "align_content": null,
            "align_items": null,
            "align_self": null,
            "border": null,
            "bottom": null,
            "display": null,
            "flex": null,
            "flex_flow": null,
            "grid_area": null,
            "grid_auto_columns": null,
            "grid_auto_flow": null,
            "grid_auto_rows": null,
            "grid_column": null,
            "grid_gap": null,
            "grid_row": null,
            "grid_template_areas": null,
            "grid_template_columns": null,
            "grid_template_rows": null,
            "height": null,
            "justify_content": null,
            "justify_items": null,
            "left": null,
            "margin": null,
            "max_height": null,
            "max_width": null,
            "min_height": null,
            "min_width": null,
            "object_fit": null,
            "object_position": null,
            "order": null,
            "overflow": null,
            "overflow_x": null,
            "overflow_y": null,
            "padding": null,
            "right": null,
            "top": null,
            "visibility": null,
            "width": null
          }
        },
        "4765fa9295674fb580679f070a68876d": {
          "model_module": "@jupyter-widgets/controls",
          "model_name": "DescriptionStyleModel",
          "model_module_version": "1.5.0",
          "state": {
            "_model_module": "@jupyter-widgets/controls",
            "_model_module_version": "1.5.0",
            "_model_name": "DescriptionStyleModel",
            "_view_count": null,
            "_view_module": "@jupyter-widgets/base",
            "_view_module_version": "1.2.0",
            "_view_name": "StyleView",
            "description_width": ""
          }
        },
        "2053103fc39a459380baf225ad0fb9b1": {
          "model_module": "@jupyter-widgets/controls",
          "model_name": "HBoxModel",
          "model_module_version": "1.5.0",
          "state": {
            "_dom_classes": [],
            "_model_module": "@jupyter-widgets/controls",
            "_model_module_version": "1.5.0",
            "_model_name": "HBoxModel",
            "_view_count": null,
            "_view_module": "@jupyter-widgets/controls",
            "_view_module_version": "1.5.0",
            "_view_name": "HBoxView",
            "box_style": "",
            "children": [
              "IPY_MODEL_226dfc613dd34995b4d5b16620a77202",
              "IPY_MODEL_c9b8fe25c2034ff4b696d7193e675885",
              "IPY_MODEL_e6d5f6a958814e9ab2d9010a82f1f75a"
            ],
            "layout": "IPY_MODEL_445de9df527848d8a75373ff49776aa6"
          }
        },
        "226dfc613dd34995b4d5b16620a77202": {
          "model_module": "@jupyter-widgets/controls",
          "model_name": "HTMLModel",
          "model_module_version": "1.5.0",
          "state": {
            "_dom_classes": [],
            "_model_module": "@jupyter-widgets/controls",
            "_model_module_version": "1.5.0",
            "_model_name": "HTMLModel",
            "_view_count": null,
            "_view_module": "@jupyter-widgets/controls",
            "_view_module_version": "1.5.0",
            "_view_name": "HTMLView",
            "description": "",
            "description_tooltip": null,
            "layout": "IPY_MODEL_ab29356eb80a4eb1a19165271dfe7154",
            "placeholder": "​",
            "style": "IPY_MODEL_734068e504bd4d4083b9b2c26b1cb15e",
            "value": "100%"
          }
        },
        "c9b8fe25c2034ff4b696d7193e675885": {
          "model_module": "@jupyter-widgets/controls",
          "model_name": "FloatProgressModel",
          "model_module_version": "1.5.0",
          "state": {
            "_dom_classes": [],
            "_model_module": "@jupyter-widgets/controls",
            "_model_module_version": "1.5.0",
            "_model_name": "FloatProgressModel",
            "_view_count": null,
            "_view_module": "@jupyter-widgets/controls",
            "_view_module_version": "1.5.0",
            "_view_name": "ProgressView",
            "bar_style": "success",
            "description": "",
            "description_tooltip": null,
            "layout": "IPY_MODEL_5e87bf2ba65d4a2f855ff1c75b9b26d9",
            "max": 3,
            "min": 0,
            "orientation": "horizontal",
            "style": "IPY_MODEL_c6c299b057ad4d3e9223d67071da0f48",
            "value": 3
          }
        },
        "e6d5f6a958814e9ab2d9010a82f1f75a": {
          "model_module": "@jupyter-widgets/controls",
          "model_name": "HTMLModel",
          "model_module_version": "1.5.0",
          "state": {
            "_dom_classes": [],
            "_model_module": "@jupyter-widgets/controls",
            "_model_module_version": "1.5.0",
            "_model_name": "HTMLModel",
            "_view_count": null,
            "_view_module": "@jupyter-widgets/controls",
            "_view_module_version": "1.5.0",
            "_view_name": "HTMLView",
            "description": "",
            "description_tooltip": null,
            "layout": "IPY_MODEL_37ee0883b7304661880f56d5231d805f",
            "placeholder": "​",
            "style": "IPY_MODEL_d67f2230f730494f978bb27183b4a4a9",
            "value": " 3/3 [00:03&lt;00:00,  1.11s/it]"
          }
        },
        "445de9df527848d8a75373ff49776aa6": {
          "model_module": "@jupyter-widgets/base",
          "model_name": "LayoutModel",
          "model_module_version": "1.2.0",
          "state": {
            "_model_module": "@jupyter-widgets/base",
            "_model_module_version": "1.2.0",
            "_model_name": "LayoutModel",
            "_view_count": null,
            "_view_module": "@jupyter-widgets/base",
            "_view_module_version": "1.2.0",
            "_view_name": "LayoutView",
            "align_content": null,
            "align_items": null,
            "align_self": null,
            "border": null,
            "bottom": null,
            "display": null,
            "flex": null,
            "flex_flow": null,
            "grid_area": null,
            "grid_auto_columns": null,
            "grid_auto_flow": null,
            "grid_auto_rows": null,
            "grid_column": null,
            "grid_gap": null,
            "grid_row": null,
            "grid_template_areas": null,
            "grid_template_columns": null,
            "grid_template_rows": null,
            "height": null,
            "justify_content": null,
            "justify_items": null,
            "left": null,
            "margin": null,
            "max_height": null,
            "max_width": null,
            "min_height": null,
            "min_width": null,
            "object_fit": null,
            "object_position": null,
            "order": null,
            "overflow": null,
            "overflow_x": null,
            "overflow_y": null,
            "padding": null,
            "right": null,
            "top": null,
            "visibility": null,
            "width": null
          }
        },
        "ab29356eb80a4eb1a19165271dfe7154": {
          "model_module": "@jupyter-widgets/base",
          "model_name": "LayoutModel",
          "model_module_version": "1.2.0",
          "state": {
            "_model_module": "@jupyter-widgets/base",
            "_model_module_version": "1.2.0",
            "_model_name": "LayoutModel",
            "_view_count": null,
            "_view_module": "@jupyter-widgets/base",
            "_view_module_version": "1.2.0",
            "_view_name": "LayoutView",
            "align_content": null,
            "align_items": null,
            "align_self": null,
            "border": null,
            "bottom": null,
            "display": null,
            "flex": null,
            "flex_flow": null,
            "grid_area": null,
            "grid_auto_columns": null,
            "grid_auto_flow": null,
            "grid_auto_rows": null,
            "grid_column": null,
            "grid_gap": null,
            "grid_row": null,
            "grid_template_areas": null,
            "grid_template_columns": null,
            "grid_template_rows": null,
            "height": null,
            "justify_content": null,
            "justify_items": null,
            "left": null,
            "margin": null,
            "max_height": null,
            "max_width": null,
            "min_height": null,
            "min_width": null,
            "object_fit": null,
            "object_position": null,
            "order": null,
            "overflow": null,
            "overflow_x": null,
            "overflow_y": null,
            "padding": null,
            "right": null,
            "top": null,
            "visibility": null,
            "width": null
          }
        },
        "734068e504bd4d4083b9b2c26b1cb15e": {
          "model_module": "@jupyter-widgets/controls",
          "model_name": "DescriptionStyleModel",
          "model_module_version": "1.5.0",
          "state": {
            "_model_module": "@jupyter-widgets/controls",
            "_model_module_version": "1.5.0",
            "_model_name": "DescriptionStyleModel",
            "_view_count": null,
            "_view_module": "@jupyter-widgets/base",
            "_view_module_version": "1.2.0",
            "_view_name": "StyleView",
            "description_width": ""
          }
        },
        "5e87bf2ba65d4a2f855ff1c75b9b26d9": {
          "model_module": "@jupyter-widgets/base",
          "model_name": "LayoutModel",
          "model_module_version": "1.2.0",
          "state": {
            "_model_module": "@jupyter-widgets/base",
            "_model_module_version": "1.2.0",
            "_model_name": "LayoutModel",
            "_view_count": null,
            "_view_module": "@jupyter-widgets/base",
            "_view_module_version": "1.2.0",
            "_view_name": "LayoutView",
            "align_content": null,
            "align_items": null,
            "align_self": null,
            "border": null,
            "bottom": null,
            "display": null,
            "flex": null,
            "flex_flow": null,
            "grid_area": null,
            "grid_auto_columns": null,
            "grid_auto_flow": null,
            "grid_auto_rows": null,
            "grid_column": null,
            "grid_gap": null,
            "grid_row": null,
            "grid_template_areas": null,
            "grid_template_columns": null,
            "grid_template_rows": null,
            "height": null,
            "justify_content": null,
            "justify_items": null,
            "left": null,
            "margin": null,
            "max_height": null,
            "max_width": null,
            "min_height": null,
            "min_width": null,
            "object_fit": null,
            "object_position": null,
            "order": null,
            "overflow": null,
            "overflow_x": null,
            "overflow_y": null,
            "padding": null,
            "right": null,
            "top": null,
            "visibility": null,
            "width": null
          }
        },
        "c6c299b057ad4d3e9223d67071da0f48": {
          "model_module": "@jupyter-widgets/controls",
          "model_name": "ProgressStyleModel",
          "model_module_version": "1.5.0",
          "state": {
            "_model_module": "@jupyter-widgets/controls",
            "_model_module_version": "1.5.0",
            "_model_name": "ProgressStyleModel",
            "_view_count": null,
            "_view_module": "@jupyter-widgets/base",
            "_view_module_version": "1.2.0",
            "_view_name": "StyleView",
            "bar_color": null,
            "description_width": ""
          }
        },
        "37ee0883b7304661880f56d5231d805f": {
          "model_module": "@jupyter-widgets/base",
          "model_name": "LayoutModel",
          "model_module_version": "1.2.0",
          "state": {
            "_model_module": "@jupyter-widgets/base",
            "_model_module_version": "1.2.0",
            "_model_name": "LayoutModel",
            "_view_count": null,
            "_view_module": "@jupyter-widgets/base",
            "_view_module_version": "1.2.0",
            "_view_name": "LayoutView",
            "align_content": null,
            "align_items": null,
            "align_self": null,
            "border": null,
            "bottom": null,
            "display": null,
            "flex": null,
            "flex_flow": null,
            "grid_area": null,
            "grid_auto_columns": null,
            "grid_auto_flow": null,
            "grid_auto_rows": null,
            "grid_column": null,
            "grid_gap": null,
            "grid_row": null,
            "grid_template_areas": null,
            "grid_template_columns": null,
            "grid_template_rows": null,
            "height": null,
            "justify_content": null,
            "justify_items": null,
            "left": null,
            "margin": null,
            "max_height": null,
            "max_width": null,
            "min_height": null,
            "min_width": null,
            "object_fit": null,
            "object_position": null,
            "order": null,
            "overflow": null,
            "overflow_x": null,
            "overflow_y": null,
            "padding": null,
            "right": null,
            "top": null,
            "visibility": null,
            "width": null
          }
        },
        "d67f2230f730494f978bb27183b4a4a9": {
          "model_module": "@jupyter-widgets/controls",
          "model_name": "DescriptionStyleModel",
          "model_module_version": "1.5.0",
          "state": {
            "_model_module": "@jupyter-widgets/controls",
            "_model_module_version": "1.5.0",
            "_model_name": "DescriptionStyleModel",
            "_view_count": null,
            "_view_module": "@jupyter-widgets/base",
            "_view_module_version": "1.2.0",
            "_view_name": "StyleView",
            "description_width": ""
          }
        }
      }
    }
  },
  "cells": [
    {
      "cell_type": "code",
      "execution_count": 35,
      "metadata": {
        "colab": {
          "base_uri": "https://localhost:8080/"
        },
        "id": "DNqr68xFmoRk",
        "outputId": "87f41aa5-d20d-4ffc-82cd-59de04a75428"
      },
      "outputs": [
        {
          "output_type": "stream",
          "name": "stdout",
          "text": [
            "Drive already mounted at /content/gdrive; to attempt to forcibly remount, call drive.mount(\"/content/gdrive\", force_remount=True).\n"
          ]
        }
      ],
      "source": [
        "from google.colab import drive\n",
        "drive.mount('/content/gdrive')"
      ]
    },
    {
      "cell_type": "markdown",
      "source": [
        "Install Necessary Modules:"
      ],
      "metadata": {
        "id": "0zDAAdMcr7TQ"
      }
    },
    {
      "cell_type": "code",
      "source": [
        "!pip install numpy pandas opencv-python face-recognition"
      ],
      "metadata": {
        "colab": {
          "base_uri": "https://localhost:8080/"
        },
        "id": "pSChhSuEseQa",
        "outputId": "25cb2039-256e-48b1-d492-2503cc5c02f1"
      },
      "execution_count": 36,
      "outputs": [
        {
          "output_type": "stream",
          "name": "stdout",
          "text": [
            "Requirement already satisfied: numpy in /usr/local/lib/python3.7/dist-packages (1.21.6)\n",
            "Requirement already satisfied: pandas in /usr/local/lib/python3.7/dist-packages (1.3.5)\n",
            "Requirement already satisfied: opencv-python in /usr/local/lib/python3.7/dist-packages (4.1.2.30)\n",
            "Requirement already satisfied: face-recognition in /usr/local/lib/python3.7/dist-packages (1.3.0)\n",
            "Requirement already satisfied: python-dateutil>=2.7.3 in /usr/local/lib/python3.7/dist-packages (from pandas) (2.8.2)\n",
            "Requirement already satisfied: pytz>=2017.3 in /usr/local/lib/python3.7/dist-packages (from pandas) (2022.1)\n",
            "Requirement already satisfied: six>=1.5 in /usr/local/lib/python3.7/dist-packages (from python-dateutil>=2.7.3->pandas) (1.15.0)\n",
            "Requirement already satisfied: face-recognition-models>=0.3.0 in /usr/local/lib/python3.7/dist-packages (from face-recognition) (0.3.0)\n",
            "Requirement already satisfied: Pillow in /usr/local/lib/python3.7/dist-packages (from face-recognition) (7.1.2)\n",
            "Requirement already satisfied: Click>=6.0 in /usr/local/lib/python3.7/dist-packages (from face-recognition) (7.1.2)\n",
            "Requirement already satisfied: dlib>=19.7 in /usr/local/lib/python3.7/dist-packages (from face-recognition) (19.18.0)\n"
          ]
        }
      ]
    },
    {
      "cell_type": "markdown",
      "source": [
        "Import Necessary Libraries:"
      ],
      "metadata": {
        "id": "riedCyVgsCvW"
      }
    },
    {
      "cell_type": "code",
      "source": [
        "import os\n",
        "from os.path import join\n",
        "from glob import glob\n",
        "import pandas as pd\n",
        "import numpy as np\n",
        "import cv2\n",
        "import matplotlib.pyplot as plt\n",
        "import face_recognition\n",
        "from tqdm.notebook import tqdm\n",
        "from skimage.io import imshow\n",
        "from time import time\n",
        "import logging\n",
        "from sklearn.model_selection import train_test_split\n",
        "from sklearn.model_selection import GridSearchCV\n",
        "from sklearn.metrics import classification_report, accuracy_score\n",
        "from sklearn.metrics import confusion_matrix\n",
        "from sklearn.decomposition import PCA as RandomizedPCA\n",
        "from sklearn.svm import SVC\n",
        "from sklearn.datasets import fetch_lfw_people"
      ],
      "metadata": {
        "id": "ReJ4hrZ7mpGJ"
      },
      "execution_count": 37,
      "outputs": []
    },
    {
      "cell_type": "markdown",
      "source": [
        "# Load dataset"
      ],
      "metadata": {
        "id": "jaSd_nQpsHg5"
      }
    },
    {
      "cell_type": "markdown",
      "source": [
        "Load train dataset"
      ],
      "metadata": {
        "id": "4DfWLihAscja"
      }
    },
    {
      "cell_type": "code",
      "source": [
        "lfw_dir_train =  '../content/gdrive/MyDrive/생체/pca_data1/data/pca_data1/train'\n",
        "list_human_train = sorted(glob(join(lfw_dir_train, '*')))\n",
        "list_jpg_train = sorted(glob(join(lfw_dir_train, '*/*.png')))\n",
        "\n",
        "# 전체 얼굴 이미지 로딩하기\n",
        "list_img_train = []\n",
        "for jpg_path in tqdm(list_jpg_train):\n",
        "    list_img_train.append(cv2.imread(jpg_path, 1))\n",
        "np_imgs_train = np.array(list_img_train)\n",
        "print(np_imgs_train.shape)\n",
        "# (966, 50, 37, 3)"
      ],
      "metadata": {
        "id": "V2JBUJ-ur2Yv",
        "colab": {
          "base_uri": "https://localhost:8080/",
          "height": 67,
          "referenced_widgets": [
            "66f1082e168e4d5d862a7d5b3c7ffae4",
            "1b0c83203b4b46b7bf384c5bd5c371b9",
            "87df656210174b42a53181978f5ade2d",
            "c6a6888809b3403d92817e28d8f9e0a1",
            "8cb4feeeeffd4da78e2b8a1de0105b2b",
            "744597b8d4c542e19c9973fb0b73814b",
            "d09e7ac5a936463983f170912cbd8ee2",
            "4d45cdee5af641719ca54d52ced52b16",
            "56d1aac19b8849048b8e177b618abfa0",
            "5e9ae1f3ef194a9e9ae2085a72eab1cd",
            "d7aecce68a834bd392ef2ea33df7a161"
          ]
        },
        "outputId": "566ea9b8-b626-46fd-8eda-0fd8ddd5c321"
      },
      "execution_count": 38,
      "outputs": [
        {
          "output_type": "display_data",
          "data": {
            "text/plain": [
              "  0%|          | 0/966 [00:00<?, ?it/s]"
            ],
            "application/vnd.jupyter.widget-view+json": {
              "version_major": 2,
              "version_minor": 0,
              "model_id": "66f1082e168e4d5d862a7d5b3c7ffae4"
            }
          },
          "metadata": {}
        },
        {
          "output_type": "stream",
          "name": "stdout",
          "text": [
            "(966, 50, 37, 3)\n"
          ]
        }
      ]
    },
    {
      "cell_type": "markdown",
      "source": [
        "classify y_train values"
      ],
      "metadata": {
        "id": "dFvz0TNdsM_k"
      }
    },
    {
      "cell_type": "code",
      "source": [
        "lfw_dir_train_Ariel= os.listdir('../content/gdrive/MyDrive/생체/pca_data1/data/pca_data1/train/Ariel_Sharon')\n",
        "lfw_dir_train_Colin =os.listdir('../content/gdrive/MyDrive/생체/pca_data1/data/pca_data1/train/Colin_Powell')\n",
        "lfw_dir_train_Donald= os.listdir('../content/gdrive/MyDrive/생체/pca_data1/data/pca_data1/train/Donald_Rumsfeld')\n",
        "lfw_dir_train_George= os.listdir('../content/gdrive/MyDrive/생체/pca_data1/data/pca_data1/train/George_W_Bush')\n",
        "lfw_dir_train_Gerhard= os.listdir('../content/gdrive/MyDrive/생체/pca_data1/data/pca_data1/train/Gerhard_Schroeder')\n",
        "lfw_dir_train_Hugo= os.listdir('../content/gdrive/MyDrive/생체/pca_data1/data/pca_data1/train/Hugo_Chavez')\n",
        "lfw_dir_train_Tony= os.listdir('../content/gdrive/MyDrive/생체/pca_data1/data/pca_data1/train/Tony_Blair')\n",
        "\n",
        "y_train=np.array([])\n",
        "\n",
        "for i in range(len(lfw_dir_train_Ariel)):\n",
        "  y_train=np.append(y_train,0)\n",
        "for i in range(len(lfw_dir_train_Colin)):\n",
        "  y_train=np.append(y_train,1)\n",
        "for i in range(len(lfw_dir_train_Donald)):\n",
        "  y_train=np.append(y_train,2)\n",
        "for i in range(len(lfw_dir_train_George)):\n",
        "  y_train=np.append(y_train,3)\n",
        "for i in range(len(lfw_dir_train_Gerhard)):\n",
        "  y_train=np.append(y_train,4)\n",
        "for i in range(len(lfw_dir_train_Hugo)):\n",
        "  y_train=np.append(y_train,5)\n",
        "for i in range(len(lfw_dir_train_Tony)):\n",
        "  y_train=np.append(y_train,6)\n",
        "y_train = y_train.astype(int)\n",
        "#print(y_train)"
      ],
      "metadata": {
        "id": "bvE1Xg-54wtA"
      },
      "execution_count": 39,
      "outputs": []
    },
    {
      "cell_type": "markdown",
      "source": [
        "Load test dataset"
      ],
      "metadata": {
        "id": "Qdt5wyBzsW_4"
      }
    },
    {
      "cell_type": "code",
      "source": [
        "lfw_dir_test =  '../content/gdrive/MyDrive/생체/pca_data1/data/pca_data1/test'\n",
        "\n",
        "list_human_test = sorted(glob(join(lfw_dir_test, '*')))\n",
        "print(list_human_test[:3])\n",
        "list_jpg_test = sorted(glob(join(lfw_dir_test, '*/*.png')))\n",
        "print(len(list_jpg_test), list_jpg_test[:10])\n",
        "\n",
        "# 전체 얼굴 이미지 로딩하기\n",
        "list_img_test = []\n",
        "for jpg_path in tqdm(list_jpg_test):\n",
        "    list_img_test.append(cv2.imread(jpg_path, 1))\n",
        "np_imgs_test = np.array(list_img_test)\n",
        "print(np_imgs_test.shape)\n",
        "# (322, 50, 37, 3)"
      ],
      "metadata": {
        "id": "o_3yLRlk1d9C",
        "colab": {
          "base_uri": "https://localhost:8080/",
          "height": 123,
          "referenced_widgets": [
            "cc38b50bde8d4874b027f9e5e2119d20",
            "4cca5e28b7e84432b461dc5f24002f41",
            "7c3bb91668944922863290352eb204c3",
            "cdcb16fe2939484c84fc00b92779aa89",
            "546f5e77d3cd4491b150ddd025700867",
            "03339097c5a74165be479362f215b84c",
            "c4f4401ed4c74cb583a46a24b6b642dc",
            "a352624b6e724e22b4876ef96e912f8f",
            "2a02029d5a9b4fbe8d2b72be64afd816",
            "410779b4c4e24e158df91a873b7cac21",
            "e60ec08e9b314efe98c8a5c89debb107"
          ]
        },
        "outputId": "1ddfe4e6-65d8-4a68-dc4c-b18c3fd96e34"
      },
      "execution_count": 40,
      "outputs": [
        {
          "output_type": "stream",
          "name": "stdout",
          "text": [
            "['../content/gdrive/MyDrive/생체/pca_data1/data/pca_data1/test/Ariel_Sharon', '../content/gdrive/MyDrive/생체/pca_data1/data/pca_data1/test/Colin_Powell', '../content/gdrive/MyDrive/생체/pca_data1/data/pca_data1/test/Donald_Rumsfeld']\n",
            "322 ['../content/gdrive/MyDrive/생체/pca_data1/data/pca_data1/test/Ariel_Sharon/00024.png', '../content/gdrive/MyDrive/생체/pca_data1/data/pca_data1/test/Ariel_Sharon/00052.png', '../content/gdrive/MyDrive/생체/pca_data1/data/pca_data1/test/Ariel_Sharon/00081.png', '../content/gdrive/MyDrive/생체/pca_data1/data/pca_data1/test/Ariel_Sharon/00123.png', '../content/gdrive/MyDrive/생체/pca_data1/data/pca_data1/test/Ariel_Sharon/00157.png', '../content/gdrive/MyDrive/생체/pca_data1/data/pca_data1/test/Ariel_Sharon/00168.png', '../content/gdrive/MyDrive/생체/pca_data1/data/pca_data1/test/Ariel_Sharon/00209.png', '../content/gdrive/MyDrive/생체/pca_data1/data/pca_data1/test/Ariel_Sharon/00217.png', '../content/gdrive/MyDrive/생체/pca_data1/data/pca_data1/test/Ariel_Sharon/00218.png', '../content/gdrive/MyDrive/생체/pca_data1/data/pca_data1/test/Ariel_Sharon/00233.png']\n"
          ]
        },
        {
          "output_type": "display_data",
          "data": {
            "text/plain": [
              "  0%|          | 0/322 [00:00<?, ?it/s]"
            ],
            "application/vnd.jupyter.widget-view+json": {
              "version_major": 2,
              "version_minor": 0,
              "model_id": "cc38b50bde8d4874b027f9e5e2119d20"
            }
          },
          "metadata": {}
        },
        {
          "output_type": "stream",
          "name": "stdout",
          "text": [
            "(322, 50, 37, 3)\n"
          ]
        }
      ]
    },
    {
      "cell_type": "markdown",
      "source": [
        "classify y_test values"
      ],
      "metadata": {
        "id": "Xjrdvs2FsvXb"
      }
    },
    {
      "cell_type": "code",
      "source": [
        "lfw_dir_test_Ariel= os.listdir('../content/gdrive/MyDrive/생체/pca_data1/data/pca_data1/test/Ariel_Sharon')\n",
        "lfw_dir_test_Colin =os.listdir('../content/gdrive/MyDrive/생체/pca_data1/data/pca_data1/test/Colin_Powell')\n",
        "lfw_dir_test_Donald= os.listdir('../content/gdrive/MyDrive/생체/pca_data1/data/pca_data1/test/Donald_Rumsfeld')\n",
        "lfw_dir_test_George= os.listdir('../content/gdrive/MyDrive/생체/pca_data1/data/pca_data1/test/George_W_Bush')\n",
        "lfw_dir_train_Gerhard= os.listdir('../content/gdrive/MyDrive/생체/pca_data1/data/pca_data1/test/Gerhard_Schroeder')\n",
        "lfw_dir_test_Hugo= os.listdir('../content/gdrive/MyDrive/생체/pca_data1/data/pca_data1/test/Hugo_Chavez')\n",
        "lfw_dir_test_Tony= os.listdir('../content/gdrive/MyDrive/생체/pca_data1/data/pca_data1/test/Tony_Blair')\n",
        "\n",
        "\n",
        "y_test=np.array([])\n",
        "\n",
        "for i in range(len(lfw_dir_test_Ariel)):\n",
        "  y_test=np.append(y_test, 0)\n",
        "for i in range(len(lfw_dir_test_Colin)):\n",
        "  y_test=np.append(y_test,1)\n",
        "for i in range(len(lfw_dir_test_Donald)):\n",
        "  y_test=np.append(y_test,2)\n",
        "for i in range(len(lfw_dir_test_George)):\n",
        "  y_test=np.append(y_test,3)\n",
        "for i in range(len(lfw_dir_train_Gerhard)):\n",
        "  y_test=np.append(y_test,4)\n",
        "for i in range(len(lfw_dir_test_Hugo)):\n",
        "  y_test=np.append(y_test,5)\n",
        "for i in range(len(lfw_dir_test_Tony)):\n",
        "  y_test=np.append(y_test,6)\n",
        "\n",
        "print(len(y_test))\n",
        "y_test = y_test.astype(int)"
      ],
      "metadata": {
        "id": "4xpTvEUr3wlC",
        "colab": {
          "base_uri": "https://localhost:8080/"
        },
        "outputId": "d748c0ce-51ab-46bc-d02b-42cb1690147b"
      },
      "execution_count": 41,
      "outputs": [
        {
          "output_type": "stream",
          "name": "stdout",
          "text": [
            "322\n"
          ]
        }
      ]
    },
    {
      "cell_type": "code",
      "source": [
        "def show(img_bgr):\n",
        "    plt.imshow(cv2.cvtColor(img_bgr, cv2.COLOR_BGR2RGB))\n",
        "    plt.show()"
      ],
      "metadata": {
        "id": "LMfvXWoBdJ1s"
      },
      "execution_count": 42,
      "outputs": []
    },
    {
      "cell_type": "code",
      "source": [
        "n_components = 150\n",
        "X_train= np_imgs_train\n",
        "X_test = np_imgs_test\n",
        "\n",
        "height=50\n",
        "width=37\n",
        "train_tensor = np.ndarray(shape=(len(np_imgs_train), height*width), dtype=np.float64)\n",
        "test_tensor = np.ndarray(shape=(len(np_imgs_test), height*width), dtype=np.float64)\n",
        "\n",
        "for i in range(len(np_imgs_train)):\n",
        "  img = plt.imread(list_jpg_train[i])\n",
        "  train_tensor[i,:] = np.array(img, dtype='float64').flatten()\n",
        "\n",
        "for i in range(len(np_imgs_test)):\n",
        "  img=plt.imread(list_jpg_test[i])\n",
        "  test_tensor[i,:]= np.array(img, dtype='float64').flatten()\n",
        "print(len(train_tensor), len(test_tensor)) # 966 322"
      ],
      "metadata": {
        "id": "wOL1RZYer5gK",
        "colab": {
          "base_uri": "https://localhost:8080/"
        },
        "outputId": "2eb6f218-d8b6-4449-c7d7-6528d0a5ec91"
      },
      "execution_count": 43,
      "outputs": [
        {
          "output_type": "stream",
          "name": "stdout",
          "text": [
            "966 322\n"
          ]
        }
      ]
    },
    {
      "cell_type": "code",
      "source": [
        "print(test_tensor)\n",
        "\n",
        "# [[0.64313728 0.63529414 0.63529414 ... 0.07450981 0.06666667 0.05882353]\n",
        "# [0.65490198 0.64313728 0.65882355 ... 0.1254902  0.11764706 0.12156863]\n",
        "# [0.54509807 0.53725493 0.54509807 ... 0.86666667 0.90980393 0.91764706]\n",
        "# ...\n",
        "# [0.31764707 0.31764707 0.21568628 ... 0.76862746 0.73725492 0.74509805]\n",
        "# [0.40784314 0.49803922 0.74509805 ... 0.57254905 0.55686277 0.5529412 ]\n",
        "# [0.27450982 0.25882354 0.34117648 ... 0.5411765  0.48235294 0.44705883]]"
      ],
      "metadata": {
        "id": "dNyxbGun71DG",
        "colab": {
          "base_uri": "https://localhost:8080/"
        },
        "outputId": "bf88cc7b-b8e8-4bd9-9a7f-0d20c47cca32"
      },
      "execution_count": 44,
      "outputs": [
        {
          "output_type": "stream",
          "name": "stdout",
          "text": [
            "[[0.64313728 0.63529414 0.63529414 ... 0.07450981 0.06666667 0.05882353]\n",
            " [0.65490198 0.64313728 0.65882355 ... 0.1254902  0.11764706 0.12156863]\n",
            " [0.54509807 0.53725493 0.54509807 ... 0.86666667 0.90980393 0.91764706]\n",
            " ...\n",
            " [0.31764707 0.31764707 0.21568628 ... 0.76862746 0.73725492 0.74509805]\n",
            " [0.40784314 0.49803922 0.74509805 ... 0.57254905 0.55686277 0.5529412 ]\n",
            " [0.27450982 0.25882354 0.34117648 ... 0.5411765  0.48235294 0.44705883]]\n"
          ]
        }
      ]
    },
    {
      "cell_type": "code",
      "source": [
        "print(train_tensor.shape, test_tensor.shape)\n",
        "# (966, 1850) (322, 1850)\n",
        "print(len(train_tensor))\n",
        "# 966"
      ],
      "metadata": {
        "id": "JJD5xJ3jC17n",
        "colab": {
          "base_uri": "https://localhost:8080/"
        },
        "outputId": "3ade630a-5327-4d3d-c926-9a3473b4cb42"
      },
      "execution_count": 45,
      "outputs": [
        {
          "output_type": "stream",
          "name": "stdout",
          "text": [
            "(966, 1850) (322, 1850)\n",
            "966\n"
          ]
        }
      ]
    },
    {
      "cell_type": "code",
      "source": [
        "print(\"Extract top %d eigenfaces from %d faces\" % (n_components, X_train.shape[0]))\n",
        "# Extract top 150 eigenfaces from 966 faces\n",
        "\n",
        "pca = RandomizedPCA(n_components=n_components, whiten=True).fit(train_tensor)\n",
        "eigenfaces = pca.components_.reshape(n_components, height, width)\n",
        "\n",
        "X_train_pca = pca.transform(train_tensor)\n",
        "X_test_pca = pca.transform(test_tensor)"
      ],
      "metadata": {
        "id": "VD51vLaE4cSi",
        "colab": {
          "base_uri": "https://localhost:8080/"
        },
        "outputId": "daa2493b-366a-4ca9-83ea-e7ce0143e182"
      },
      "execution_count": 46,
      "outputs": [
        {
          "output_type": "stream",
          "name": "stdout",
          "text": [
            "Extract top 150 eigenfaces from 966 faces\n"
          ]
        }
      ]
    },
    {
      "cell_type": "code",
      "source": [
        "def plot_gallery(images, titles=None, h=50, w=37, n_row=1, n_col=5):\n",
        "    plt.figure(figsize=(1.8 * n_col, 2.4 * n_row))\n",
        "    plt.subplots_adjust(bottom=0, left=.01, right=.99, top=.90, hspace=.35)\n",
        "    for i in range(n_row * n_col):\n",
        "        plt.subplot(n_row, n_col, i + 1)\n",
        "        plt.imshow(images[i].reshape((h, w)), cmap=plt.cm.gray)\n",
        "        plt.xticks([]), plt.yticks([])\n",
        "        if titles is not None:\n",
        "            plt.title(titles[i], size=12)"
      ],
      "metadata": {
        "id": "pDGlXV_3DrvY"
      },
      "execution_count": 67,
      "outputs": []
    },
    {
      "cell_type": "code",
      "source": [
        "print(eigenfaces.shape[0])"
      ],
      "metadata": {
        "colab": {
          "base_uri": "https://localhost:8080/"
        },
        "id": "IN1RMkfOD43d",
        "outputId": "cb253c68-9e64-4d89-cfaa-e2ff4d12fa8f"
      },
      "execution_count": 48,
      "outputs": [
        {
          "output_type": "stream",
          "name": "stdout",
          "text": [
            "150\n"
          ]
        }
      ]
    },
    {
      "cell_type": "code",
      "source": [
        "eigenface_titles = [\"eigenface %d\" % i for i in range(eigenfaces.shape[0])]\n",
        "plot_gallery(eigenfaces, eigenface_titles, height, width)"
      ],
      "metadata": {
        "id": "4u1FDDykDprx",
        "colab": {
          "base_uri": "https://localhost:8080/",
          "height": 198
        },
        "outputId": "57958f32-b07a-4d0a-96e1-9b71b40ff4a8"
      },
      "execution_count": 68,
      "outputs": [
        {
          "output_type": "display_data",
          "data": {
            "text/plain": [
              "<Figure size 648x172.8 with 5 Axes>"
            ],
            "image/png": "[encoded data removed]"
          },
          "metadata": {}
        }
      ]
    },
    {
      "cell_type": "markdown",
      "source": [
        "choose number of component to use"
      ],
      "metadata": {
        "id": "QgmlMLp9uJU3"
      }
    },
    {
      "cell_type": "code",
      "source": [
        "f = plt.plot(pca.explained_variance_ratio_, label=\"actual\")\n",
        "f = plt.plot(pca.explained_variance_ratio_.cumsum(), label=\"cummulative\")\n",
        "f = plt.title(\"% variance explained per component\"), plt.legend()"
      ],
      "metadata": {
        "id": "8Oh-it-4Dnfd",
        "colab": {
          "base_uri": "https://localhost:8080/",
          "height": 281
        },
        "outputId": "4c47f22e-afb5-4659-aaf1-9d686be53735"
      },
      "execution_count": 50,
      "outputs": [
        {
          "output_type": "display_data",
          "data": {
            "text/plain": [
              "<Figure size 432x288 with 1 Axes>"
            ],
            "image/png": "[encoded data removed]"
          },
          "metadata": {
            "needs_background": "light"
          }
        }
      ]
    },
    {
      "cell_type": "code",
      "source": [
        "print(eigenfaces.shape)"
      ],
      "metadata": {
        "id": "rk1KP3Y5Dv6w",
        "colab": {
          "base_uri": "https://localhost:8080/"
        },
        "outputId": "5473feae-d572-4db5-d059-706733e5ef92"
      },
      "execution_count": 51,
      "outputs": [
        {
          "output_type": "stream",
          "name": "stdout",
          "text": [
            "(150, 50, 37)\n"
          ]
        }
      ]
    },
    {
      "cell_type": "code",
      "source": [
        "mean_face = pca.mean_.reshape(height, width)\n",
        "show_components = [0, 1, 5, 10, 50, 100, 149]\n",
        "\n",
        "components = pca.components_\n",
        "if pca.whiten:  # If `whiten` was True, multiply components by their singular value\n",
        "    components = np.array([pca.explained_variance_[i] * components[i] for i in range(n_components)])\n",
        "\n",
        "no = np.random.choice(np.where(y_train == 3)[0])  # Bush 중 한 장 임의로 선정\n",
        "faces = np.array([X_train_pca[no][i] * components.reshape(n_components, height, width)[i] \n",
        "                  for i in range(n_components)]).cumsum(axis=0)\n",
        "show_faces = [mean_face] + [mean_face + faces[k] for k in show_components]\n",
        "target_names_array=['Ariel Sharon', 'Colin Powell', 'Donald Rumsfeld', 'George W Bush', 'Gerhard Schroeder', 'Hugo Chavez' ,'Tony Blair']\n",
        "target_names=np.array([])\n",
        "\n",
        "for i in (target_names_array):\n",
        "  target_names=np.append(target_names,i)\n",
        "titles = [target_names[y_train[no]] + \"\\nUsing %d components\" % k for k in show_components]\n",
        "plot_gallery(show_faces,titles, n_row=1)"
      ],
      "metadata": {
        "id": "ID7DVcJsDw9m",
        "colab": {
          "base_uri": "https://localhost:8080/",
          "height": 202
        },
        "outputId": "54fa6de7-e95b-4e6f-cf83-727a93275ced"
      },
      "execution_count": 52,
      "outputs": [
        {
          "output_type": "display_data",
          "data": {
            "text/plain": [
              "<Figure size 907.2x172.8 with 7 Axes>"
            ],
            "image/png": "[encoded data removed]"
          },
          "metadata": {}
        }
      ]
    },
    {
      "cell_type": "markdown",
      "source": [
        "### 1. compare L2 distance"
      ],
      "metadata": {
        "id": "B5RFdQ_k-YJk"
      }
    },
    {
      "cell_type": "code",
      "source": [
        "np_embs_train = np.zeros((len(np_imgs_train), 128))\n",
        "\n",
        "for idx, img in enumerate(tqdm(np_imgs_train)):\n",
        "    locations = face_recognition.face_locations(img)\n",
        "    encodings = face_recognition.face_encodings(img, locations)\n",
        "    if len(encodings) > 0:\n",
        "      np_embs_train[idx] = encodings[0]\n",
        "\n",
        "print(np_embs_train.shape)\n",
        "# (966, 128)\n",
        "\n",
        "  \n",
        "np_embs_test = np.zeros((len(np_imgs_test), 128))\n",
        "\n",
        "for idx, img in enumerate(tqdm(list_img_test)):\n",
        "  locations = face_recognition.face_locations(img)\n",
        "  encodings = face_recognition.face_encodings(img, locations)\n",
        "  if len(encodings) > 0:\n",
        "    np_embs_test[idx] = encodings[0]\n",
        "print(np_embs_test.shape)"
      ],
      "metadata": {
        "id": "VC6PEmvlTJfq",
        "colab": {
          "base_uri": "https://localhost:8080/",
          "height": 118,
          "referenced_widgets": [
            "1ce15add78564cd7a008ecf28682ade9",
            "c8dc52ec5a244e96aeba1f377ed2f7c4",
            "4b74e98ae6d44d998bf58ae610ffd12b",
            "2b6e6232791a4b1894921b553e09f038",
            "7653aa11cf7c465e995d31943e4bd73c",
            "916e2a8632624b9480fd81b62eabce88",
            "9cc7ebfa6b9c457bb5ded5f8bf232507",
            "0a0be3f43406438b866e32d38176517f",
            "bb713c1213434ee28e248082b076130f",
            "ff40775c4858467b8d0cad979e0a7d3f",
            "d1a950dc9bce43bcb881f076b5a5562c",
            "2e7e39ff8cc64330b07b42716771218a",
            "7374cf2630484b8496d00dd59b2c6ba2",
            "08e023316e4c49ba9260c98037c9956a",
            "783021928bd54b7482abc9877f85c65a",
            "b89ebc83d59e437bb9e6988ab16a46a1",
            "337b4f4793b94dd38282d3c5041c1c70",
            "7b8bc6671b2a4177bb309f6f0bd2ccbb",
            "2a0674d7f9af4fcb8f60ebc2d7162db5",
            "409b8c2ba998412baa267ee399fd86ca",
            "134fc2e3511c4ff58915b96e54a45b37",
            "4765fa9295674fb580679f070a68876d"
          ]
        },
        "outputId": "5146d4f6-fb49-4670-d2f1-6ea36596ff6d"
      },
      "execution_count": 53,
      "outputs": [
        {
          "output_type": "display_data",
          "data": {
            "text/plain": [
              "  0%|          | 0/966 [00:00<?, ?it/s]"
            ],
            "application/vnd.jupyter.widget-view+json": {
              "version_major": 2,
              "version_minor": 0,
              "model_id": "1ce15add78564cd7a008ecf28682ade9"
            }
          },
          "metadata": {}
        },
        {
          "output_type": "stream",
          "name": "stdout",
          "text": [
            "(966, 128)\n"
          ]
        },
        {
          "output_type": "display_data",
          "data": {
            "text/plain": [
              "  0%|          | 0/322 [00:00<?, ?it/s]"
            ],
            "application/vnd.jupyter.widget-view+json": {
              "version_major": 2,
              "version_minor": 0,
              "model_id": "2e7e39ff8cc64330b07b42716771218a"
            }
          },
          "metadata": {}
        },
        {
          "output_type": "stream",
          "name": "stdout",
          "text": [
            "(322, 128)\n"
          ]
        }
      ]
    },
    {
      "cell_type": "markdown",
      "source": [
        "prediction with L2 distance"
      ],
      "metadata": {
        "id": "09eCp-jfLRYF"
      }
    },
    {
      "cell_type": "code",
      "source": [
        "y_pred_dis=np.array([])\n",
        "for i in range(len(np_imgs_test)):\n",
        "  np_dis_test = np.linalg.norm(np_embs_test[i] - np_embs_train, axis=1)\n",
        "  y_pred_dis=np.append(y_pred_dis,y_train[np_dis_test.argmin()])\n",
        "y_pred_dis = y_pred_dis.astype(int)\n",
        "print(y_pred_dis)"
      ],
      "metadata": {
        "colab": {
          "base_uri": "https://localhost:8080/"
        },
        "id": "51FnovBqBVdh",
        "outputId": "98fbcce1-e9fc-4916-b8b4-8b928c5cbc7b"
      },
      "execution_count": 54,
      "outputs": [
        {
          "output_type": "stream",
          "name": "stdout",
          "text": [
            "[0 0 0 0 0 0 0 0 0 0 0 0 0 1 1 1 0 1 1 1 1 1 1 1 1 1 1 1 1 1 1 0 1 1 0 1 1\n",
            " 1 1 1 1 1 1 0 1 1 0 1 0 1 1 1 0 0 0 1 1 1 1 1 0 1 1 1 1 0 0 0 1 0 0 1 1 2\n",
            " 0 0 0 2 2 2 2 2 2 2 2 2 2 2 0 2 2 2 2 0 2 2 2 0 2 0 3 0 3 3 3 3 3 3 3 3 3\n",
            " 3 3 3 3 3 3 3 3 0 3 3 0 3 3 3 3 3 3 3 3 3 3 3 0 3 0 3 3 3 3 3 3 3 3 3 3 3\n",
            " 3 3 0 3 3 3 3 3 3 3 3 3 3 3 3 3 3 3 0 0 3 3 3 3 3 0 3 3 3 3 3 3 3 3 3 3 3\n",
            " 3 3 3 3 3 3 3 0 0 3 3 3 3 3 3 0 3 3 3 3 3 3 3 3 3 0 3 3 3 3 3 3 3 0 3 3 3\n",
            " 3 3 3 0 3 3 3 3 3 3 3 3 3 3 3 3 3 0 3 3 3 3 0 3 4 4 0 4 4 4 4 0 4 4 0 4 4\n",
            " 4 0 4 4 4 4 4 4 4 4 0 4 5 5 5 0 5 0 0 5 5 0 5 5 5 5 5 6 0 6 6 6 6 6 0 6 6\n",
            " 6 6 0 6 0 6 6 0 0 6 6 6 6 6 6 0 6 6 0 6 6 6 6 6 0 0]\n"
          ]
        }
      ]
    },
    {
      "cell_type": "markdown",
      "source": [
        "### 2. use SVM classification model"
      ],
      "metadata": {
        "id": "sFEwlKcJm8fZ"
      }
    },
    {
      "cell_type": "markdown",
      "source": [
        "Training"
      ],
      "metadata": {
        "id": "w444KNzb-tJy"
      }
    },
    {
      "cell_type": "code",
      "source": [
        "param_grid = {'C': [1e3, 5e3, 1e4, 5e4, 1e5],'gamma': [0.0001, 0.0005, 0.001, 0.005, 0.01, 0.1],}\n",
        "\n",
        "classifier = GridSearchCV(SVC(kernel='rbf', class_weight='balanced'), param_grid)\n",
        "print(len(X_train_pca),len(y_train))\n",
        "classifier = classifier.fit(X_train_pca, y_train)\n",
        "print(\"Best estimator found by grid search:\")\n",
        "print(classifier.best_estimator_)"
      ],
      "metadata": {
        "id": "k_TqFjCHOFsS",
        "colab": {
          "base_uri": "https://localhost:8080/"
        },
        "outputId": "582fa2d7-34bd-483f-cb28-3d07a86c7345"
      },
      "execution_count": 55,
      "outputs": [
        {
          "output_type": "stream",
          "name": "stdout",
          "text": [
            "966 966\n",
            "Best estimator found by grid search:\n",
            "SVC(C=1000.0, class_weight='balanced', gamma=0.005)\n"
          ]
        }
      ]
    },
    {
      "cell_type": "markdown",
      "source": [
        "Testing the classifier "
      ],
      "metadata": {
        "id": "8HLzJP95nnui"
      }
    },
    {
      "cell_type": "code",
      "source": [
        "y_pred = classifier.predict(X_test_pca)"
      ],
      "metadata": {
        "id": "9mksn-ilQgcB"
      },
      "execution_count": 56,
      "outputs": []
    },
    {
      "cell_type": "markdown",
      "source": [
        "# Calculate Matrix"
      ],
      "metadata": {
        "id": "t6-O__Mc-Cu5"
      }
    },
    {
      "cell_type": "markdown",
      "source": [
        "### 1. L2 distance"
      ],
      "metadata": {
        "id": "npO5Y2P4MK6H"
      }
    },
    {
      "cell_type": "markdown",
      "source": [
        "calculate precision, recall, accuracy"
      ],
      "metadata": {
        "id": "wOreCKeGMS33"
      }
    },
    {
      "cell_type": "code",
      "source": [
        "print(classification_report(y_test, y_pred_dis, target_names=target_names))"
      ],
      "metadata": {
        "colab": {
          "base_uri": "https://localhost:8080/"
        },
        "id": "798mq3f6LbDC",
        "outputId": "143fde26-7fd4-48b3-81c5-69c840affbc0"
      },
      "execution_count": 57,
      "outputs": [
        {
          "output_type": "stream",
          "name": "stdout",
          "text": [
            "                   precision    recall  f1-score   support\n",
            "\n",
            "     Ariel Sharon       0.18      1.00      0.31        13\n",
            "     Colin Powell       1.00      0.75      0.86        60\n",
            "  Donald Rumsfeld       1.00      0.74      0.85        27\n",
            "    George W Bush       1.00      0.88      0.94       146\n",
            "Gerhard Schroeder       1.00      0.80      0.89        25\n",
            "      Hugo Chavez       1.00      0.73      0.85        15\n",
            "       Tony Blair       1.00      0.72      0.84        36\n",
            "\n",
            "         accuracy                           0.82       322\n",
            "        macro avg       0.88      0.80      0.79       322\n",
            "     weighted avg       0.97      0.82      0.87       322\n",
            "\n"
          ]
        }
      ]
    },
    {
      "cell_type": "markdown",
      "source": [
        "confusion matrix"
      ],
      "metadata": {
        "id": "9C7MyWouWVlN"
      }
    },
    {
      "cell_type": "code",
      "source": [
        "confusion_matrix_dis=(confusion_matrix(y_test, y_pred_dis, labels=range(7)))\n",
        "print(confusion_matrix_dis)\n",
        "plt.gray()\n",
        "_ = plt.imshow(confusion_matrix_dis, interpolation='nearest')"
      ],
      "metadata": {
        "colab": {
          "base_uri": "https://localhost:8080/",
          "height": 392
        },
        "id": "5yhbv1UIMZxR",
        "outputId": "7a9a5f30-140f-4805-bee7-77c3d71a6fc4"
      },
      "execution_count": 58,
      "outputs": [
        {
          "output_type": "stream",
          "name": "stdout",
          "text": [
            "[[ 13   0   0   0   0   0   0]\n",
            " [ 15  45   0   0   0   0   0]\n",
            " [  7   0  20   0   0   0   0]\n",
            " [ 17   0   0 129   0   0   0]\n",
            " [  5   0   0   0  20   0   0]\n",
            " [  4   0   0   0   0  11   0]\n",
            " [ 10   0   0   0   0   0  26]]\n"
          ]
        },
        {
          "output_type": "display_data",
          "data": {
            "text/plain": [
              "<Figure size 432x288 with 1 Axes>"
            ],
            "image/png": "[encoded data removed]"
          },
          "metadata": {
            "needs_background": "light"
          }
        }
      ]
    },
    {
      "cell_type": "markdown",
      "source": [
        "### SVM classifier"
      ],
      "metadata": {
        "id": "mYtg06tdMHFy"
      }
    },
    {
      "cell_type": "markdown",
      "source": [
        "calculate precision, recall, accuracy"
      ],
      "metadata": {
        "id": "u44J1SxlWZlH"
      }
    },
    {
      "cell_type": "code",
      "source": [
        "print (classification_report(y_test, y_pred, target_names=target_names))"
      ],
      "metadata": {
        "colab": {
          "base_uri": "https://localhost:8080/"
        },
        "id": "m44OtssEL7Hd",
        "outputId": "4a323894-b678-46d5-863a-37f522c054ee"
      },
      "execution_count": 59,
      "outputs": [
        {
          "output_type": "stream",
          "name": "stdout",
          "text": [
            "                   precision    recall  f1-score   support\n",
            "\n",
            "     Ariel Sharon       0.88      0.54      0.67        13\n",
            "     Colin Powell       0.81      0.87      0.84        60\n",
            "  Donald Rumsfeld       0.94      0.63      0.76        27\n",
            "    George W Bush       0.82      0.98      0.89       146\n",
            "Gerhard Schroeder       0.95      0.80      0.87        25\n",
            "      Hugo Chavez       1.00      0.53      0.70        15\n",
            "       Tony Blair       1.00      0.81      0.89        36\n",
            "\n",
            "         accuracy                           0.86       322\n",
            "        macro avg       0.92      0.74      0.80       322\n",
            "     weighted avg       0.87      0.86      0.85       322\n",
            "\n"
          ]
        }
      ]
    },
    {
      "cell_type": "markdown",
      "source": [
        "plot confusion matrix"
      ],
      "metadata": {
        "id": "3CXJVlm3x6YE"
      }
    },
    {
      "cell_type": "code",
      "source": [
        "confusion_matrix=(confusion_matrix(y_test, y_pred, labels=range(7)))\n",
        "print(confusion_matrix)\n",
        "plt.gray()\n",
        "_ = plt.imshow(confusion_matrix, interpolation='nearest')"
      ],
      "metadata": {
        "id": "Ibt9hrv_Rp48",
        "colab": {
          "base_uri": "https://localhost:8080/",
          "height": 392
        },
        "outputId": "bbb6971a-bb61-405f-96f1-a4b011b979aa"
      },
      "execution_count": 60,
      "outputs": [
        {
          "output_type": "stream",
          "name": "stdout",
          "text": [
            "[[  7   1   0   5   0   0   0]\n",
            " [  1  52   0   7   0   0   0]\n",
            " [  0   2  17   8   0   0   0]\n",
            " [  0   3   0 143   0   0   0]\n",
            " [  0   1   0   4  20   0   0]\n",
            " [  0   4   0   2   1   8   0]\n",
            " [  0   1   1   5   0   0  29]]\n"
          ]
        },
        {
          "output_type": "display_data",
          "data": {
            "text/plain": [
              "<Figure size 432x288 with 1 Axes>"
            ],
            "image/png": "[encoded data removed]"
          },
          "metadata": {
            "needs_background": "light"
          }
        }
      ]
    },
    {
      "cell_type": "markdown",
      "source": [
        "### Calulate George_W_Bush FAR, FRR "
      ],
      "metadata": {
        "id": "KIZp84Pmy5kZ"
      }
    },
    {
      "cell_type": "code",
      "source": [
        "print(y_test)"
      ],
      "metadata": {
        "colab": {
          "base_uri": "https://localhost:8080/"
        },
        "id": "a20hCDOH1fM3",
        "outputId": "f46fbe01-cb73-4102-b7c7-53199e06085a"
      },
      "execution_count": 61,
      "outputs": [
        {
          "output_type": "stream",
          "name": "stdout",
          "text": [
            "[0 0 0 0 0 0 0 0 0 0 0 0 0 1 1 1 1 1 1 1 1 1 1 1 1 1 1 1 1 1 1 1 1 1 1 1 1\n",
            " 1 1 1 1 1 1 1 1 1 1 1 1 1 1 1 1 1 1 1 1 1 1 1 1 1 1 1 1 1 1 1 1 1 1 1 1 2\n",
            " 2 2 2 2 2 2 2 2 2 2 2 2 2 2 2 2 2 2 2 2 2 2 2 2 2 2 3 3 3 3 3 3 3 3 3 3 3\n",
            " 3 3 3 3 3 3 3 3 3 3 3 3 3 3 3 3 3 3 3 3 3 3 3 3 3 3 3 3 3 3 3 3 3 3 3 3 3\n",
            " 3 3 3 3 3 3 3 3 3 3 3 3 3 3 3 3 3 3 3 3 3 3 3 3 3 3 3 3 3 3 3 3 3 3 3 3 3\n",
            " 3 3 3 3 3 3 3 3 3 3 3 3 3 3 3 3 3 3 3 3 3 3 3 3 3 3 3 3 3 3 3 3 3 3 3 3 3\n",
            " 3 3 3 3 3 3 3 3 3 3 3 3 3 3 3 3 3 3 3 3 3 3 3 3 4 4 4 4 4 4 4 4 4 4 4 4 4\n",
            " 4 4 4 4 4 4 4 4 4 4 4 4 5 5 5 5 5 5 5 5 5 5 5 5 5 5 5 6 6 6 6 6 6 6 6 6 6\n",
            " 6 6 6 6 6 6 6 6 6 6 6 6 6 6 6 6 6 6 6 6 6 6 6 6 6 6]\n"
          ]
        }
      ]
    },
    {
      "cell_type": "code",
      "source": [
        "correct_pred = 0\n",
        "FRR_count = 0\n",
        "FAR_count = 0\n",
        "\n",
        "\n",
        "for i in range(len(y_test)):\n",
        "  match=y_test[i]==y_pred[i]\n",
        "  if y_test[i]==y_pred[i]==3:\n",
        "    correct_pred+=1\n",
        "  elif y_test[i]==3:\n",
        "    FRR_count+=1;\n",
        "  elif y_train[i]==3:\n",
        "    FAR_count+=1\n",
        "\n",
        "print(correct_pred, FRR_count, FAR_count) #143 3 0\n",
        "\n",
        "FRR = FRR_count/len(y_test) # 0.009316770186335404\n",
        "FAR=FAR_count/len(y_test) # 0.0\n",
        "print(FRR, FAR)"
      ],
      "metadata": {
        "id": "hoWT5jvyRyLQ",
        "colab": {
          "base_uri": "https://localhost:8080/"
        },
        "outputId": "cf31b3fa-d373-431b-98b6-df26fa3581e6"
      },
      "execution_count": 62,
      "outputs": [
        {
          "output_type": "stream",
          "name": "stdout",
          "text": [
            "143 3 0\n",
            "0.009316770186335404 0.0\n"
          ]
        }
      ]
    },
    {
      "cell_type": "markdown",
      "source": [
        "# recognization with my face"
      ],
      "metadata": {
        "id": "Aq4-UeqH-yqF"
      }
    },
    {
      "cell_type": "code",
      "source": [
        "my_face_path = sorted(glob('../content/gdrive/MyDrive/생체/pca_data1/data/my_face_*.jpg'))\n",
        "  \n",
        "\n",
        "list_my_img = [cv2.resize(cv2.imread(p), None, fx=0.5, fy=0.5) for p in my_face_path]\n",
        "for img in list_my_img:\n",
        "  print(img.shape)\n",
        "\n",
        "# (1080, 1080, 3)\n",
        "# (1440, 1080, 3)\n",
        "# (1158, 1544, 3)\n",
        "\n",
        "np_embs_user = np.zeros((len(list_my_img), 128))\n",
        "\n",
        "for idx, img in enumerate(tqdm(list_my_img)):\n",
        "  locations = face_recognition.face_locations(img)\n",
        "  encodings = face_recognition.face_encodings(img, locations)\n",
        "  if len(encodings) > 0:\n",
        "      np_embs_user[idx] = encodings[0]\n",
        "  else:\n",
        "      print(idx, 'no face')"
      ],
      "metadata": {
        "colab": {
          "base_uri": "https://localhost:8080/",
          "height": 103,
          "referenced_widgets": [
            "2053103fc39a459380baf225ad0fb9b1",
            "226dfc613dd34995b4d5b16620a77202",
            "c9b8fe25c2034ff4b696d7193e675885",
            "e6d5f6a958814e9ab2d9010a82f1f75a",
            "445de9df527848d8a75373ff49776aa6",
            "ab29356eb80a4eb1a19165271dfe7154",
            "734068e504bd4d4083b9b2c26b1cb15e",
            "5e87bf2ba65d4a2f855ff1c75b9b26d9",
            "c6c299b057ad4d3e9223d67071da0f48",
            "37ee0883b7304661880f56d5231d805f",
            "d67f2230f730494f978bb27183b4a4a9"
          ]
        },
        "id": "oK22KbwaUL8G",
        "outputId": "5d681f93-40dc-4be6-a835-e3a73dfd349e"
      },
      "execution_count": 63,
      "outputs": [
        {
          "output_type": "stream",
          "name": "stdout",
          "text": [
            "(1440, 1080, 3)\n",
            "(1158, 1544, 3)\n",
            "(1080, 1080, 3)\n"
          ]
        },
        {
          "output_type": "display_data",
          "data": {
            "text/plain": [
              "  0%|          | 0/3 [00:00<?, ?it/s]"
            ],
            "application/vnd.jupyter.widget-view+json": {
              "version_major": 2,
              "version_minor": 0,
              "model_id": "2053103fc39a459380baf225ad0fb9b1"
            }
          },
          "metadata": {}
        }
      ]
    },
    {
      "cell_type": "markdown",
      "source": [
        "Classified by training dataset people"
      ],
      "metadata": {
        "id": "cqnhYg8d-6yl"
      }
    },
    {
      "cell_type": "code",
      "source": [
        "# 0번 이미지와 train db 의 거리 계산\n",
        "np_dist_user_db = np.linalg.norm(np_embs_user[0] - np_embs_train, axis=1)\n",
        "print(np_dist_user_db.min()) # 0.6154929696118564\n",
        "show(list_img_train[np_dist_user_db.argmin()])\n",
        "\n",
        "# 0번 이미지와 user 이미지 전체의 거리 계산\n",
        "np_dist_user_user = np.linalg.norm(np_embs_user[0] - np_embs_user, axis=1)\n",
        "print(np_dist_user_user)\n"
      ],
      "metadata": {
        "id": "ZBLBK7bETT87",
        "colab": {
          "base_uri": "https://localhost:8080/",
          "height": 303
        },
        "outputId": "56a1922d-ee23-4d23-85a7-ffa7c5814caa"
      },
      "execution_count": 64,
      "outputs": [
        {
          "output_type": "stream",
          "name": "stdout",
          "text": [
            "0.6154929696118564\n"
          ]
        },
        {
          "output_type": "display_data",
          "data": {
            "text/plain": [
              "<Figure size 432x288 with 1 Axes>"
            ],
            "image/png": "[encoded data removed]"
          },
          "metadata": {
            "needs_background": "light"
          }
        },
        {
          "output_type": "stream",
          "name": "stdout",
          "text": [
            "[0.         0.29664289 0.25213758]\n"
          ]
        }
      ]
    },
    {
      "cell_type": "code",
      "source": [
        "# 다른 user 이미지 값 distance\n",
        "np_dist_user_db_1 = np.linalg.norm(np_embs_user[1] - np_embs_train, axis=1)\n",
        "print(np_dist_user_db_1.min()) # 0.6201928088830718\n",
        "np_dist_user_db_2 = np.linalg.norm(np_embs_user[2] - np_embs_train, axis=1)\n",
        "print(np_dist_user_db_2.min()) # 0.6016237963227641"
      ],
      "metadata": {
        "colab": {
          "base_uri": "https://localhost:8080/"
        },
        "id": "CLdIJZ6LHJCw",
        "outputId": "1ca2f51d-d7b5-4d49-f79a-bfbb426edb6a"
      },
      "execution_count": 65,
      "outputs": [
        {
          "output_type": "stream",
          "name": "stdout",
          "text": [
            "0.6201928088830718\n",
            "0.6016237963227641\n"
          ]
        }
      ]
    },
    {
      "cell_type": "markdown",
      "source": [
        "classify 7 people and me"
      ],
      "metadata": {
        "id": "r477CZXv_TF_"
      }
    },
    {
      "cell_type": "code",
      "source": [
        "plt.hist(np_dist_user_db, range=(0.4,1.4), bins=80)"
      ],
      "metadata": {
        "colab": {
          "base_uri": "https://localhost:8080/",
          "height": 628
        },
        "id": "hD5Vwi6viPVU",
        "outputId": "e9688ab3-477b-4615-cf90-d32c30bb7978"
      },
      "execution_count": 66,
      "outputs": [
        {
          "output_type": "execute_result",
          "data": {
            "text/plain": [
              "(array([  0.,   0.,   0.,   0.,   0.,   0.,   0.,   0.,   0.,   0.,   0.,\n",
              "          0.,   0.,   0.,   0.,   0.,   0.,   1.,   0.,   0.,   0.,   1.,\n",
              "          0.,   1.,   1.,   7.,  11.,  13.,  19.,  20.,  15.,  24.,  25.,\n",
              "         22.,  28.,  33.,  42.,  20.,  29.,  48.,  49.,  59.,  89.,  75.,\n",
              "         82.,  60.,  20.,  11.,   5.,   0.,   0.,   0.,   0.,   0.,   0.,\n",
              "          0.,   0.,   0.,   0.,   0.,   0.,   0.,   0.,   0.,   0.,   0.,\n",
              "          0.,   0.,   0.,   0.,   0.,   0.,   0.,   0., 156.,   0.,   0.,\n",
              "          0.,   0.,   0.]),\n",
              " array([0.4   , 0.4125, 0.425 , 0.4375, 0.45  , 0.4625, 0.475 , 0.4875,\n",
              "        0.5   , 0.5125, 0.525 , 0.5375, 0.55  , 0.5625, 0.575 , 0.5875,\n",
              "        0.6   , 0.6125, 0.625 , 0.6375, 0.65  , 0.6625, 0.675 , 0.6875,\n",
              "        0.7   , 0.7125, 0.725 , 0.7375, 0.75  , 0.7625, 0.775 , 0.7875,\n",
              "        0.8   , 0.8125, 0.825 , 0.8375, 0.85  , 0.8625, 0.875 , 0.8875,\n",
              "        0.9   , 0.9125, 0.925 , 0.9375, 0.95  , 0.9625, 0.975 , 0.9875,\n",
              "        1.    , 1.0125, 1.025 , 1.0375, 1.05  , 1.0625, 1.075 , 1.0875,\n",
              "        1.1   , 1.1125, 1.125 , 1.1375, 1.15  , 1.1625, 1.175 , 1.1875,\n",
              "        1.2   , 1.2125, 1.225 , 1.2375, 1.25  , 1.2625, 1.275 , 1.2875,\n",
              "        1.3   , 1.3125, 1.325 , 1.3375, 1.35  , 1.3625, 1.375 , 1.3875,\n",
              "        1.4   ]),\n",
              " <a list of 80 Patch objects>)"
            ]
          },
          "metadata": {},
          "execution_count": 66
        },
        {
          "output_type": "display_data",
          "data": {
            "text/plain": [
              "<Figure size 432x288 with 1 Axes>"
            ],
            "image/png": "[encoded data removed]"
          },
          "metadata": {
            "needs_background": "light"
          }
        }
      ]
    },
    {
      "cell_type": "code",
      "source": [
        ""
      ],
      "metadata": {
        "id": "PE49BT8EQIey"
      },
      "execution_count": null,
      "outputs": []
    }
  ]
}