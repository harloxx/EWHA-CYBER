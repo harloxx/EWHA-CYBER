{
  "cells": [
    {
      "cell_type": "code",
      "execution_count": 1,
      "metadata": {
        "colab": {
          "base_uri": "https://localhost:8080/"
        },
        "id": "lMde13VLDjiH",
        "outputId": "cef7f7d6-2edc-4234-b795-0dac8f92067c"
      },
      "outputs": [
        {
          "output_type": "stream",
          "name": "stdout",
          "text": [
            "\u001b[K     |████████████████████████████████| 109 kB 8.1 MB/s \n",
            "\u001b[K     |████████████████████████████████| 85.5 MB 110 kB/s \n",
            "\u001b[?25h"
          ]
        }
      ],
      "source": [
        "!pip install pytorch-metric-learning -q\n",
        "!pip install faiss-gpu -q"
      ]
    },
    {
      "cell_type": "code",
      "source": [
        "import torch\n",
        "import torch.nn as nn\n",
        "import torch.nn.functional as F\n",
        "import torch.optim as optim\n",
        "from torchvision import datasets, transforms\n",
        "import torchvision.models as models\n",
        "\n",
        "from pytorch_metric_learning import losses, testers, miners, reducers, distances\n",
        "from pytorch_metric_learning.utils.accuracy_calculator import AccuracyCalculator\n"
      ],
      "metadata": {
        "id": "r9EdaKs7YvzR"
      },
      "execution_count": 2,
      "outputs": []
    },
    {
      "cell_type": "code",
      "source": [
        "mm = models.resnet18()"
      ],
      "metadata": {
        "id": "kzDddLjXskJS"
      },
      "execution_count": 3,
      "outputs": []
    },
    {
      "cell_type": "code",
      "source": [
        "mm"
      ],
      "metadata": {
        "id": "_YZkpPaVsukM",
        "outputId": "59ba4d3a-2680-49fc-b351-5928d683e2c9",
        "colab": {
          "base_uri": "https://localhost:8080/"
        }
      },
      "execution_count": 4,
      "outputs": [
        {
          "output_type": "execute_result",
          "data": {
            "text/plain": [
              "ResNet(\n",
              "  (conv1): Conv2d(3, 64, kernel_size=(7, 7), stride=(2, 2), padding=(3, 3), bias=False)\n",
              "  (bn1): BatchNorm2d(64, eps=1e-05, momentum=0.1, affine=True, track_running_stats=True)\n",
              "  (relu): ReLU(inplace=True)\n",
              "  (maxpool): MaxPool2d(kernel_size=3, stride=2, padding=1, dilation=1, ceil_mode=False)\n",
              "  (layer1): Sequential(\n",
              "    (0): BasicBlock(\n",
              "      (conv1): Conv2d(64, 64, kernel_size=(3, 3), stride=(1, 1), padding=(1, 1), bias=False)\n",
              "      (bn1): BatchNorm2d(64, eps=1e-05, momentum=0.1, affine=True, track_running_stats=True)\n",
              "      (relu): ReLU(inplace=True)\n",
              "      (conv2): Conv2d(64, 64, kernel_size=(3, 3), stride=(1, 1), padding=(1, 1), bias=False)\n",
              "      (bn2): BatchNorm2d(64, eps=1e-05, momentum=0.1, affine=True, track_running_stats=True)\n",
              "    )\n",
              "    (1): BasicBlock(\n",
              "      (conv1): Conv2d(64, 64, kernel_size=(3, 3), stride=(1, 1), padding=(1, 1), bias=False)\n",
              "      (bn1): BatchNorm2d(64, eps=1e-05, momentum=0.1, affine=True, track_running_stats=True)\n",
              "      (relu): ReLU(inplace=True)\n",
              "      (conv2): Conv2d(64, 64, kernel_size=(3, 3), stride=(1, 1), padding=(1, 1), bias=False)\n",
              "      (bn2): BatchNorm2d(64, eps=1e-05, momentum=0.1, affine=True, track_running_stats=True)\n",
              "    )\n",
              "  )\n",
              "  (layer2): Sequential(\n",
              "    (0): BasicBlock(\n",
              "      (conv1): Conv2d(64, 128, kernel_size=(3, 3), stride=(2, 2), padding=(1, 1), bias=False)\n",
              "      (bn1): BatchNorm2d(128, eps=1e-05, momentum=0.1, affine=True, track_running_stats=True)\n",
              "      (relu): ReLU(inplace=True)\n",
              "      (conv2): Conv2d(128, 128, kernel_size=(3, 3), stride=(1, 1), padding=(1, 1), bias=False)\n",
              "      (bn2): BatchNorm2d(128, eps=1e-05, momentum=0.1, affine=True, track_running_stats=True)\n",
              "      (downsample): Sequential(\n",
              "        (0): Conv2d(64, 128, kernel_size=(1, 1), stride=(2, 2), bias=False)\n",
              "        (1): BatchNorm2d(128, eps=1e-05, momentum=0.1, affine=True, track_running_stats=True)\n",
              "      )\n",
              "    )\n",
              "    (1): BasicBlock(\n",
              "      (conv1): Conv2d(128, 128, kernel_size=(3, 3), stride=(1, 1), padding=(1, 1), bias=False)\n",
              "      (bn1): BatchNorm2d(128, eps=1e-05, momentum=0.1, affine=True, track_running_stats=True)\n",
              "      (relu): ReLU(inplace=True)\n",
              "      (conv2): Conv2d(128, 128, kernel_size=(3, 3), stride=(1, 1), padding=(1, 1), bias=False)\n",
              "      (bn2): BatchNorm2d(128, eps=1e-05, momentum=0.1, affine=True, track_running_stats=True)\n",
              "    )\n",
              "  )\n",
              "  (layer3): Sequential(\n",
              "    (0): BasicBlock(\n",
              "      (conv1): Conv2d(128, 256, kernel_size=(3, 3), stride=(2, 2), padding=(1, 1), bias=False)\n",
              "      (bn1): BatchNorm2d(256, eps=1e-05, momentum=0.1, affine=True, track_running_stats=True)\n",
              "      (relu): ReLU(inplace=True)\n",
              "      (conv2): Conv2d(256, 256, kernel_size=(3, 3), stride=(1, 1), padding=(1, 1), bias=False)\n",
              "      (bn2): BatchNorm2d(256, eps=1e-05, momentum=0.1, affine=True, track_running_stats=True)\n",
              "      (downsample): Sequential(\n",
              "        (0): Conv2d(128, 256, kernel_size=(1, 1), stride=(2, 2), bias=False)\n",
              "        (1): BatchNorm2d(256, eps=1e-05, momentum=0.1, affine=True, track_running_stats=True)\n",
              "      )\n",
              "    )\n",
              "    (1): BasicBlock(\n",
              "      (conv1): Conv2d(256, 256, kernel_size=(3, 3), stride=(1, 1), padding=(1, 1), bias=False)\n",
              "      (bn1): BatchNorm2d(256, eps=1e-05, momentum=0.1, affine=True, track_running_stats=True)\n",
              "      (relu): ReLU(inplace=True)\n",
              "      (conv2): Conv2d(256, 256, kernel_size=(3, 3), stride=(1, 1), padding=(1, 1), bias=False)\n",
              "      (bn2): BatchNorm2d(256, eps=1e-05, momentum=0.1, affine=True, track_running_stats=True)\n",
              "    )\n",
              "  )\n",
              "  (layer4): Sequential(\n",
              "    (0): BasicBlock(\n",
              "      (conv1): Conv2d(256, 512, kernel_size=(3, 3), stride=(2, 2), padding=(1, 1), bias=False)\n",
              "      (bn1): BatchNorm2d(512, eps=1e-05, momentum=0.1, affine=True, track_running_stats=True)\n",
              "      (relu): ReLU(inplace=True)\n",
              "      (conv2): Conv2d(512, 512, kernel_size=(3, 3), stride=(1, 1), padding=(1, 1), bias=False)\n",
              "      (bn2): BatchNorm2d(512, eps=1e-05, momentum=0.1, affine=True, track_running_stats=True)\n",
              "      (downsample): Sequential(\n",
              "        (0): Conv2d(256, 512, kernel_size=(1, 1), stride=(2, 2), bias=False)\n",
              "        (1): BatchNorm2d(512, eps=1e-05, momentum=0.1, affine=True, track_running_stats=True)\n",
              "      )\n",
              "    )\n",
              "    (1): BasicBlock(\n",
              "      (conv1): Conv2d(512, 512, kernel_size=(3, 3), stride=(1, 1), padding=(1, 1), bias=False)\n",
              "      (bn1): BatchNorm2d(512, eps=1e-05, momentum=0.1, affine=True, track_running_stats=True)\n",
              "      (relu): ReLU(inplace=True)\n",
              "      (conv2): Conv2d(512, 512, kernel_size=(3, 3), stride=(1, 1), padding=(1, 1), bias=False)\n",
              "      (bn2): BatchNorm2d(512, eps=1e-05, momentum=0.1, affine=True, track_running_stats=True)\n",
              "    )\n",
              "  )\n",
              "  (avgpool): AdaptiveAvgPool2d(output_size=(1, 1))\n",
              "  (fc): Linear(in_features=512, out_features=1000, bias=True)\n",
              ")"
            ]
          },
          "metadata": {},
          "execution_count": 4
        }
      ]
    },
    {
      "cell_type": "code",
      "execution_count": 5,
      "metadata": {
        "id": "GJ_L0TrTDnEA",
        "colab": {
          "base_uri": "https://localhost:8080/",
          "height": 507,
          "referenced_widgets": [
            "94e8605f3a224fd0a6daa8bd408f6c4c",
            "bac22256d9dc4203978eca2bd6eeb3ba",
            "fa26b36c3f414b6cb774a7d7ddb34b0a",
            "660db4a0d9d84eca9f2437c70e2450dd",
            "ab82b1d6f7bd48dfac23c71462723cea",
            "202014a1a0e64f06a5ff9dd9ead41107",
            "352cb29aef284734ab2fd22909b119c9",
            "bb9f8183996f4da398359e8a73dbc85a",
            "b9fc5e5e21ed4de582becb319b8115ae",
            "017e099fc13848858675120a35d2d759",
            "2d600fefb92e46abaa9d4486c9129e6e",
            "ac7a63fda3da4930b0121074a6efeebe",
            "64a51753d537423996a1766ef1a6f23c",
            "41f45dee03e049d28b4e904ee9945ff3",
            "8eb1eab72b5a4f808d7aefa9869ff693",
            "4c4110f00ba949edb375ccfd22d96fc9",
            "f3dcd8da516542c1acb33d8fb7baba66",
            "fe7e90492e774e1b959fc781ccbea58f",
            "e7c6ebf4fe01447b95d76175a204b143",
            "67bc71551f494cc1868e2fdf437ba68a",
            "c9a3e1400eb24089a0c08a4aca277b6e",
            "92fb7def288246599b31a86b1b98be86",
            "a505e31d2847447699941ea0e253b2fb",
            "f6075708ff6240ee9589da906a802177",
            "c3f9fb5358bc4cadbb47af5c2472bb30",
            "4e5390288b3c4ea0b4f6b96b072912d4",
            "d40976b4e39b4677a85b82de217bc3e6",
            "c42c2dea947148e892b923eb04049413",
            "4f68953219bf441ab4112c701adf6a56",
            "f3e1d61c390844ca8208ad6c3b07f7e6",
            "f5bcd810b3f74b478bee79652543e0dd",
            "1c163fa2eb6c4b3fb45261a6195d7e8f",
            "30e6b305c515474aab2ec0215d055822",
            "8548cd4df73c4448930d5d3bc24841d6",
            "215cb0735b9545b180cd6a1465579ab6",
            "4e3408881ec24714b361c43b9368d8d8",
            "60a8fe3d202c4a4faba6434501086e18",
            "c64ba594743c4a5db46848e0cc4674b9",
            "4a9efc26182e43848724a2a5bb581b03",
            "e9794a167fa244e8948fb6894a43e8b4",
            "0e7855240d554f46b99537b63b8432a8",
            "6684621ca1fb4576bdff8a50e8608efd",
            "ac2c069812ab4e2f83e977d04fffb50d",
            "8943a6ec5763493b868b9b792f2002a5",
            "8ed2578a64f1443b8806755ec8c266d5",
            "8bcd2b0cd1c1470aadb28b29aacf9337",
            "b443d077d1d7473d8c2964537834b4f8",
            "77acc3195193412ba3b7ca0120df9928",
            "506714be5e1b4d0f9792ef851b90c760",
            "6f11ccf6a37847fcb55d7b4be7f30b37",
            "210b1c72bcea4f13b74ca289b1299b6d",
            "7f859b2c90d74673af8d196c9a7788ba",
            "84941c74c93d44898dc9a222ebab5482",
            "892a15ba2d8841f2ab14f1676a10c649",
            "9701b92eca2c4150b299bd3ec3220709"
          ]
        },
        "outputId": "a846c28f-2108-4ee1-b770-2b6592213afc"
      },
      "outputs": [
        {
          "output_type": "stream",
          "name": "stdout",
          "text": [
            "Downloading http://yann.lecun.com/exdb/mnist/train-images-idx3-ubyte.gz\n",
            "Downloading http://yann.lecun.com/exdb/mnist/train-images-idx3-ubyte.gz to ./MNIST/raw/train-images-idx3-ubyte.gz\n"
          ]
        },
        {
          "output_type": "display_data",
          "data": {
            "text/plain": [
              "  0%|          | 0/9912422 [00:00<?, ?it/s]"
            ],
            "application/vnd.jupyter.widget-view+json": {
              "version_major": 2,
              "version_minor": 0,
              "model_id": "94e8605f3a224fd0a6daa8bd408f6c4c"
            }
          },
          "metadata": {}
        },
        {
          "output_type": "stream",
          "name": "stdout",
          "text": [
            "Extracting ./MNIST/raw/train-images-idx3-ubyte.gz to ./MNIST/raw\n",
            "\n",
            "Downloading http://yann.lecun.com/exdb/mnist/train-labels-idx1-ubyte.gz\n",
            "Downloading http://yann.lecun.com/exdb/mnist/train-labels-idx1-ubyte.gz to ./MNIST/raw/train-labels-idx1-ubyte.gz\n"
          ]
        },
        {
          "output_type": "display_data",
          "data": {
            "text/plain": [
              "  0%|          | 0/28881 [00:00<?, ?it/s]"
            ],
            "application/vnd.jupyter.widget-view+json": {
              "version_major": 2,
              "version_minor": 0,
              "model_id": "ac7a63fda3da4930b0121074a6efeebe"
            }
          },
          "metadata": {}
        },
        {
          "output_type": "stream",
          "name": "stdout",
          "text": [
            "Extracting ./MNIST/raw/train-labels-idx1-ubyte.gz to ./MNIST/raw\n",
            "\n",
            "Downloading http://yann.lecun.com/exdb/mnist/t10k-images-idx3-ubyte.gz\n",
            "Downloading http://yann.lecun.com/exdb/mnist/t10k-images-idx3-ubyte.gz to ./MNIST/raw/t10k-images-idx3-ubyte.gz\n"
          ]
        },
        {
          "output_type": "display_data",
          "data": {
            "text/plain": [
              "  0%|          | 0/1648877 [00:00<?, ?it/s]"
            ],
            "application/vnd.jupyter.widget-view+json": {
              "version_major": 2,
              "version_minor": 0,
              "model_id": "a505e31d2847447699941ea0e253b2fb"
            }
          },
          "metadata": {}
        },
        {
          "output_type": "stream",
          "name": "stdout",
          "text": [
            "Extracting ./MNIST/raw/t10k-images-idx3-ubyte.gz to ./MNIST/raw\n",
            "\n",
            "Downloading http://yann.lecun.com/exdb/mnist/t10k-labels-idx1-ubyte.gz\n",
            "Downloading http://yann.lecun.com/exdb/mnist/t10k-labels-idx1-ubyte.gz to ./MNIST/raw/t10k-labels-idx1-ubyte.gz\n"
          ]
        },
        {
          "output_type": "display_data",
          "data": {
            "text/plain": [
              "  0%|          | 0/4542 [00:00<?, ?it/s]"
            ],
            "application/vnd.jupyter.widget-view+json": {
              "version_major": 2,
              "version_minor": 0,
              "model_id": "8548cd4df73c4448930d5d3bc24841d6"
            }
          },
          "metadata": {}
        },
        {
          "output_type": "stream",
          "name": "stdout",
          "text": [
            "Extracting ./MNIST/raw/t10k-labels-idx1-ubyte.gz to ./MNIST/raw\n",
            "\n"
          ]
        },
        {
          "output_type": "stream",
          "name": "stderr",
          "text": [
            "Downloading: \"https://download.pytorch.org/models/resnet18-f37072fd.pth\" to /root/.cache/torch/hub/checkpoints/resnet18-f37072fd.pth\n"
          ]
        },
        {
          "output_type": "display_data",
          "data": {
            "text/plain": [
              "  0%|          | 0.00/44.7M [00:00<?, ?B/s]"
            ],
            "application/vnd.jupyter.widget-view+json": {
              "version_major": 2,
              "version_minor": 0,
              "model_id": "8ed2578a64f1443b8806755ec8c266d5"
            }
          },
          "metadata": {}
        }
      ],
      "source": [
        "### MNIST code originally from https://github.com/pytorch/examples/blob/master/mnist/main.py ###\n",
        "class Net(nn.Module):\n",
        "    def __init__(self):\n",
        "        super(Net, self).__init__()\n",
        "        self.conv1 = nn.Conv2d(1, 32, 3, 1)\n",
        "        self.conv2 = nn.Conv2d(32, 64, 3, 1)\n",
        "        self.dropout1 = nn.Dropout2d(0.25)\n",
        "        self.dropout2 = nn.Dropout2d(0.5)\n",
        "        self.fc1 = nn.Linear(9216, 128)\n",
        "\n",
        "    def forward(self, x):\n",
        "        x = self.conv1(x)\n",
        "        x = F.relu(x)\n",
        "        x = self.conv2(x)\n",
        "        x = F.relu(x)\n",
        "        x = F.max_pool2d(x, 2)\n",
        "        x = self.dropout1(x)\n",
        "        x = torch.flatten(x, 1)\n",
        "        x = self.fc1(x)\n",
        "        return x\n",
        "\n",
        "\n",
        "### MNIST code originally from https://github.com/pytorch/examples/blob/master/mnist/main.py ###\n",
        "def train(model, loss_func, mining_func, device, train_loader, optimizer, epoch):\n",
        "    model.train()\n",
        "\n",
        "    for batch_idx, (data, labels) in enumerate(train_loader):\n",
        "        data, labels = data.to(device), labels.to(device)\n",
        "        optimizer.zero_grad()\n",
        "        embeddings = model(data)\n",
        "        indices_tuple = mining_func(embeddings, labels)\n",
        "        loss = loss_func(embeddings, labels, indices_tuple)\n",
        "        loss.backward()\n",
        "        optimizer.step()\n",
        "        if batch_idx % 100 == 0:\n",
        "            print(\n",
        "                \"Epoch {} Iteration {}: Loss = {}, Number of mined triplets = {}\".format(\n",
        "                    epoch, batch_idx, loss, mining_func.num_triplets\n",
        "                )\n",
        "            )\n",
        "\n",
        "\n",
        "### convenient function from pytorch-metric-learning ###\n",
        "def get_all_embeddings(dataset, model):\n",
        "    tester = testers.BaseTester()\n",
        "    return tester.get_all_embeddings(dataset, model)\n",
        "\n",
        "\n",
        "### compute accuracy using AccuracyCalculator from pytorch-metric-learning ###\n",
        "def test(train_set, test_set, model, accuracy_calculator):\n",
        "    train_embeddings, train_labels = get_all_embeddings(train_set, model)\n",
        "    test_embeddings, test_labels = get_all_embeddings(test_set, model)\n",
        "    train_labels = train_labels.squeeze(1)\n",
        "    test_labels = test_labels.squeeze(1)\n",
        "    print(\"Computing accuracy\")\n",
        "    accuracies = accuracy_calculator.get_accuracy(\n",
        "        test_embeddings, train_embeddings, test_labels, train_labels, False\n",
        "    )\n",
        "    print(\"Test set accuracy (Precision@1) = {}\".format(accuracies[\"precision_at_1\"]))\n",
        "\n",
        "\n",
        "device = torch.device(\"cuda\")\n",
        "\n",
        "img_mean, img_std = (0.1307,), (0.3081,)\n",
        "normalize = transforms.Normalize(img_mean, img_std)\n",
        "# normalize = transforms.Normalize(mean=[0.485, 0.456, 0.406],\n",
        "#                                  std=[0.229, 0.224, 0.225])\n",
        "\n",
        "transform = transforms.Compose(\n",
        "    [transforms.ToTensor(), normalize]\n",
        ")\n",
        "\n",
        "batch_size = 128\n",
        "\n",
        "dataset1 = datasets.MNIST(\".\", train=True, download=True, transform=transform)\n",
        "dataset2 = datasets.MNIST(\".\", train=False, transform=transform)\n",
        "train_loader = torch.utils.data.DataLoader(\n",
        "    dataset1, batch_size=batch_size, shuffle=True\n",
        ")\n",
        "test_loader = torch.utils.data.DataLoader(dataset2, batch_size=batch_size)\n",
        "\n",
        "\n",
        "num_classes = 128\n",
        "# model = Net().to(device)\n",
        "\n",
        "model = models.resnet18(True)\n",
        "model.conv1 = nn.Conv2d(1, 64, kernel_size=(7, 7), stride=(2, 2), padding=(3, 3), bias=False)\n",
        "num_ftrs = model.fc.in_features\n",
        "model.fc = nn.Linear(num_ftrs, num_classes)\n",
        "model = model.to(device)\n",
        "\n",
        "optimizer = optim.Adam(model.parameters(), lr=0.0003)\n",
        "num_epochs = 30\n",
        "\n",
        "\n",
        "### pytorch-metric-learning stuff ###\n",
        "distance = distances.CosineSimilarity()\n",
        "reducer = reducers.ThresholdReducer(low=0)\n",
        "loss_func = losses.TripletMarginLoss(margin=0.2, distance=distance, reducer=reducer)\n",
        "mining_func = miners.TripletMarginMiner(margin=0.2, distance=distance, type_of_triplets=\"semihard\")\n",
        "accuracy_calculator = AccuracyCalculator(include=(\"precision_at_1\",), k=1)\n",
        "### pytorch-metric-learning stuff ###"
      ]
    },
    {
      "cell_type": "code",
      "execution_count": 6,
      "metadata": {
        "colab": {
          "base_uri": "https://localhost:8080/"
        },
        "id": "pspw-1UiWaAU",
        "outputId": "83262294-5aa3-4b8e-8c2f-72c6f1ed29e3"
      },
      "outputs": [
        {
          "output_type": "execute_result",
          "data": {
            "text/plain": [
              "Conv2d(1, 64, kernel_size=(7, 7), stride=(2, 2), padding=(3, 3), bias=False)"
            ]
          },
          "metadata": {},
          "execution_count": 6
        }
      ],
      "source": [
        "model.conv1"
      ]
    },
    {
      "cell_type": "markdown",
      "metadata": {
        "id": "pT63-eup56IH"
      },
      "source": [
        "## Train the model"
      ]
    },
    {
      "cell_type": "code",
      "execution_count": 7,
      "metadata": {
        "colab": {
          "base_uri": "https://localhost:8080/"
        },
        "id": "29bSb2W_56II",
        "outputId": "0733b304-81a0-4e75-9b7c-176b7325015f"
      },
      "outputs": [
        {
          "output_type": "stream",
          "name": "stdout",
          "text": [
            "Epoch 1 Iteration 0: Loss = 0.11288091540336609, Number of mined triplets = 77185\n",
            "Epoch 1 Iteration 100: Loss = 0.09515073150396347, Number of mined triplets = 3576\n",
            "Epoch 1 Iteration 200: Loss = 0.09260543435811996, Number of mined triplets = 1596\n",
            "Epoch 1 Iteration 300: Loss = 0.08074184507131577, Number of mined triplets = 383\n",
            "Epoch 1 Iteration 400: Loss = 0.09650678932666779, Number of mined triplets = 1014\n"
          ]
        },
        {
          "output_type": "stream",
          "name": "stderr",
          "text": [
            "100%|██████████| 1875/1875 [00:21<00:00, 88.81it/s]\n",
            "100%|██████████| 313/313 [00:03<00:00, 92.54it/s]\n"
          ]
        },
        {
          "output_type": "stream",
          "name": "stdout",
          "text": [
            "Computing accuracy\n",
            "Test set accuracy (Precision@1) = 0.9770000000000001\n",
            "Epoch 2 Iteration 0: Loss = 0.07411324977874756, Number of mined triplets = 829\n",
            "Epoch 2 Iteration 100: Loss = 0.08873023092746735, Number of mined triplets = 1214\n",
            "Epoch 2 Iteration 200: Loss = 0.07850538194179535, Number of mined triplets = 365\n",
            "Epoch 2 Iteration 300: Loss = 0.09126027673482895, Number of mined triplets = 3243\n",
            "Epoch 2 Iteration 400: Loss = 0.07482392340898514, Number of mined triplets = 1978\n"
          ]
        },
        {
          "output_type": "stream",
          "name": "stderr",
          "text": [
            "100%|██████████| 1875/1875 [00:20<00:00, 90.34it/s]\n",
            "100%|██████████| 313/313 [00:03<00:00, 90.97it/s]\n"
          ]
        },
        {
          "output_type": "stream",
          "name": "stdout",
          "text": [
            "Computing accuracy\n",
            "Test set accuracy (Precision@1) = 0.9835\n",
            "Epoch 3 Iteration 0: Loss = 0.08733764290809631, Number of mined triplets = 152\n",
            "Epoch 3 Iteration 100: Loss = 0.08650051057338715, Number of mined triplets = 1448\n",
            "Epoch 3 Iteration 200: Loss = 0.08928194642066956, Number of mined triplets = 189\n",
            "Epoch 3 Iteration 300: Loss = 0.09491296112537384, Number of mined triplets = 1177\n",
            "Epoch 3 Iteration 400: Loss = 0.09208017587661743, Number of mined triplets = 544\n"
          ]
        },
        {
          "output_type": "stream",
          "name": "stderr",
          "text": [
            "100%|██████████| 1875/1875 [00:20<00:00, 90.56it/s]\n",
            "100%|██████████| 313/313 [00:03<00:00, 91.83it/s]\n"
          ]
        },
        {
          "output_type": "stream",
          "name": "stdout",
          "text": [
            "Computing accuracy\n",
            "Test set accuracy (Precision@1) = 0.9883000000000001\n",
            "Epoch 4 Iteration 0: Loss = 0.07735435664653778, Number of mined triplets = 484\n",
            "Epoch 4 Iteration 100: Loss = 0.09032461792230606, Number of mined triplets = 159\n",
            "Epoch 4 Iteration 200: Loss = 0.09546329826116562, Number of mined triplets = 2454\n",
            "Epoch 4 Iteration 300: Loss = 0.09155413508415222, Number of mined triplets = 628\n",
            "Epoch 4 Iteration 400: Loss = 0.12405406683683395, Number of mined triplets = 398\n"
          ]
        },
        {
          "output_type": "stream",
          "name": "stderr",
          "text": [
            "100%|██████████| 1875/1875 [00:20<00:00, 90.96it/s]\n",
            "100%|██████████| 313/313 [00:03<00:00, 91.62it/s]\n"
          ]
        },
        {
          "output_type": "stream",
          "name": "stdout",
          "text": [
            "Computing accuracy\n",
            "Test set accuracy (Precision@1) = 0.9874\n",
            "Epoch 5 Iteration 0: Loss = 0.1286860853433609, Number of mined triplets = 65\n",
            "Epoch 5 Iteration 100: Loss = 0.06589441001415253, Number of mined triplets = 616\n",
            "Epoch 5 Iteration 200: Loss = 0.08259525895118713, Number of mined triplets = 977\n",
            "Epoch 5 Iteration 300: Loss = 0.133082315325737, Number of mined triplets = 158\n",
            "Epoch 5 Iteration 400: Loss = 0.08593769371509552, Number of mined triplets = 295\n"
          ]
        },
        {
          "output_type": "stream",
          "name": "stderr",
          "text": [
            "100%|██████████| 1875/1875 [00:20<00:00, 90.79it/s]\n",
            "100%|██████████| 313/313 [00:03<00:00, 88.98it/s]\n"
          ]
        },
        {
          "output_type": "stream",
          "name": "stdout",
          "text": [
            "Computing accuracy\n",
            "Test set accuracy (Precision@1) = 0.9881000000000001\n",
            "Epoch 6 Iteration 0: Loss = 0.073752760887146, Number of mined triplets = 74\n",
            "Epoch 6 Iteration 100: Loss = 0.08288384974002838, Number of mined triplets = 1601\n",
            "Epoch 6 Iteration 200: Loss = 0.08672543615102768, Number of mined triplets = 2227\n",
            "Epoch 6 Iteration 300: Loss = 0.12914325296878815, Number of mined triplets = 73\n",
            "Epoch 6 Iteration 400: Loss = 0.10084998607635498, Number of mined triplets = 696\n"
          ]
        },
        {
          "output_type": "stream",
          "name": "stderr",
          "text": [
            "100%|██████████| 1875/1875 [00:21<00:00, 88.80it/s]\n",
            "100%|██████████| 313/313 [00:03<00:00, 88.78it/s]\n"
          ]
        },
        {
          "output_type": "stream",
          "name": "stdout",
          "text": [
            "Computing accuracy\n",
            "Test set accuracy (Precision@1) = 0.9885\n",
            "Epoch 7 Iteration 0: Loss = 0.07145063579082489, Number of mined triplets = 1039\n",
            "Epoch 7 Iteration 100: Loss = 0.11154678463935852, Number of mined triplets = 869\n",
            "Epoch 7 Iteration 200: Loss = 0.07955563813447952, Number of mined triplets = 585\n",
            "Epoch 7 Iteration 300: Loss = 0.07531225681304932, Number of mined triplets = 662\n",
            "Epoch 7 Iteration 400: Loss = 0.0, Number of mined triplets = 0\n"
          ]
        },
        {
          "output_type": "stream",
          "name": "stderr",
          "text": [
            "100%|██████████| 1875/1875 [00:21<00:00, 87.43it/s]\n",
            "100%|██████████| 313/313 [00:03<00:00, 93.87it/s]\n"
          ]
        },
        {
          "output_type": "stream",
          "name": "stdout",
          "text": [
            "Computing accuracy\n",
            "Test set accuracy (Precision@1) = 0.9888\n",
            "Epoch 8 Iteration 0: Loss = 0.10075972229242325, Number of mined triplets = 1174\n",
            "Epoch 8 Iteration 100: Loss = 0.08165950328111649, Number of mined triplets = 158\n",
            "Epoch 8 Iteration 200: Loss = 0.10773198306560516, Number of mined triplets = 18\n",
            "Epoch 8 Iteration 300: Loss = 0.08824217319488525, Number of mined triplets = 1364\n",
            "Epoch 8 Iteration 400: Loss = 0.06671062856912613, Number of mined triplets = 476\n"
          ]
        },
        {
          "output_type": "stream",
          "name": "stderr",
          "text": [
            "100%|██████████| 1875/1875 [00:20<00:00, 90.47it/s]\n",
            "100%|██████████| 313/313 [00:03<00:00, 91.56it/s]\n"
          ]
        },
        {
          "output_type": "stream",
          "name": "stdout",
          "text": [
            "Computing accuracy\n",
            "Test set accuracy (Precision@1) = 0.9898\n",
            "Epoch 9 Iteration 0: Loss = 0.08218636363744736, Number of mined triplets = 1692\n",
            "Epoch 9 Iteration 100: Loss = 0.08695214986801147, Number of mined triplets = 2225\n",
            "Epoch 9 Iteration 200: Loss = 0.14476533234119415, Number of mined triplets = 320\n",
            "Epoch 9 Iteration 300: Loss = 0.0, Number of mined triplets = 0\n",
            "Epoch 9 Iteration 400: Loss = 0.08515851944684982, Number of mined triplets = 15\n"
          ]
        },
        {
          "output_type": "stream",
          "name": "stderr",
          "text": [
            "100%|██████████| 1875/1875 [00:20<00:00, 90.51it/s]\n",
            "100%|██████████| 313/313 [00:03<00:00, 94.22it/s]\n"
          ]
        },
        {
          "output_type": "stream",
          "name": "stdout",
          "text": [
            "Computing accuracy\n",
            "Test set accuracy (Precision@1) = 0.991\n",
            "Epoch 10 Iteration 0: Loss = 0.13688965141773224, Number of mined triplets = 51\n",
            "Epoch 10 Iteration 100: Loss = 0.0, Number of mined triplets = 0\n",
            "Epoch 10 Iteration 200: Loss = 0.08190740644931793, Number of mined triplets = 1641\n",
            "Epoch 10 Iteration 300: Loss = 0.003483608365058899, Number of mined triplets = 2\n",
            "Epoch 10 Iteration 400: Loss = 0.15383093059062958, Number of mined triplets = 64\n"
          ]
        },
        {
          "output_type": "stream",
          "name": "stderr",
          "text": [
            "100%|██████████| 1875/1875 [00:20<00:00, 91.06it/s]\n",
            "100%|██████████| 313/313 [00:03<00:00, 91.91it/s]\n"
          ]
        },
        {
          "output_type": "stream",
          "name": "stdout",
          "text": [
            "Computing accuracy\n",
            "Test set accuracy (Precision@1) = 0.9897\n",
            "Epoch 11 Iteration 0: Loss = 0.0674716979265213, Number of mined triplets = 65\n",
            "Epoch 11 Iteration 100: Loss = 0.04255366697907448, Number of mined triplets = 107\n",
            "Epoch 11 Iteration 200: Loss = 0.05468914285302162, Number of mined triplets = 83\n",
            "Epoch 11 Iteration 300: Loss = 0.06603311747312546, Number of mined triplets = 1248\n",
            "Epoch 11 Iteration 400: Loss = 0.12771958112716675, Number of mined triplets = 464\n"
          ]
        },
        {
          "output_type": "stream",
          "name": "stderr",
          "text": [
            "100%|██████████| 1875/1875 [00:20<00:00, 91.32it/s]\n",
            "100%|██████████| 313/313 [00:03<00:00, 90.44it/s]\n"
          ]
        },
        {
          "output_type": "stream",
          "name": "stdout",
          "text": [
            "Computing accuracy\n",
            "Test set accuracy (Precision@1) = 0.9904000000000001\n",
            "Epoch 12 Iteration 0: Loss = 0.12155976891517639, Number of mined triplets = 25\n",
            "Epoch 12 Iteration 100: Loss = 0.09300551563501358, Number of mined triplets = 1213\n",
            "Epoch 12 Iteration 200: Loss = 0.0858035683631897, Number of mined triplets = 68\n",
            "Epoch 12 Iteration 300: Loss = 0.04091637581586838, Number of mined triplets = 156\n",
            "Epoch 12 Iteration 400: Loss = 0.08636602014303207, Number of mined triplets = 2285\n"
          ]
        },
        {
          "output_type": "stream",
          "name": "stderr",
          "text": [
            "100%|██████████| 1875/1875 [00:21<00:00, 88.03it/s]\n",
            "100%|██████████| 313/313 [00:03<00:00, 90.92it/s]\n"
          ]
        },
        {
          "output_type": "stream",
          "name": "stdout",
          "text": [
            "Computing accuracy\n",
            "Test set accuracy (Precision@1) = 0.9918\n",
            "Epoch 13 Iteration 0: Loss = 0.08458242565393448, Number of mined triplets = 1244\n",
            "Epoch 13 Iteration 100: Loss = 0.019285082817077637, Number of mined triplets = 155\n",
            "Epoch 13 Iteration 200: Loss = 0.10249094665050507, Number of mined triplets = 90\n",
            "Epoch 13 Iteration 300: Loss = 0.0, Number of mined triplets = 0\n",
            "Epoch 13 Iteration 400: Loss = 0.0, Number of mined triplets = 0\n"
          ]
        },
        {
          "output_type": "stream",
          "name": "stderr",
          "text": [
            "100%|██████████| 1875/1875 [00:20<00:00, 90.91it/s]\n",
            "100%|██████████| 313/313 [00:03<00:00, 91.65it/s]\n"
          ]
        },
        {
          "output_type": "stream",
          "name": "stdout",
          "text": [
            "Computing accuracy\n",
            "Test set accuracy (Precision@1) = 0.9914000000000001\n",
            "Epoch 14 Iteration 0: Loss = 0.18760213255882263, Number of mined triplets = 22\n",
            "Epoch 14 Iteration 100: Loss = 0.051818039268255234, Number of mined triplets = 67\n",
            "Epoch 14 Iteration 200: Loss = 0.08212267607450485, Number of mined triplets = 226\n",
            "Epoch 14 Iteration 300: Loss = 0.03667089343070984, Number of mined triplets = 162\n",
            "Epoch 14 Iteration 400: Loss = 0.0, Number of mined triplets = 0\n"
          ]
        },
        {
          "output_type": "stream",
          "name": "stderr",
          "text": [
            "100%|██████████| 1875/1875 [00:20<00:00, 89.87it/s]\n",
            "100%|██████████| 313/313 [00:03<00:00, 91.98it/s]\n"
          ]
        },
        {
          "output_type": "stream",
          "name": "stdout",
          "text": [
            "Computing accuracy\n",
            "Test set accuracy (Precision@1) = 0.9921000000000001\n",
            "Epoch 15 Iteration 0: Loss = 0.05888102203607559, Number of mined triplets = 319\n",
            "Epoch 15 Iteration 100: Loss = 0.09128420799970627, Number of mined triplets = 2015\n",
            "Epoch 15 Iteration 200: Loss = 0.0, Number of mined triplets = 0\n",
            "Epoch 15 Iteration 300: Loss = 0.15719853341579437, Number of mined triplets = 144\n",
            "Epoch 15 Iteration 400: Loss = 0.0, Number of mined triplets = 0\n"
          ]
        },
        {
          "output_type": "stream",
          "name": "stderr",
          "text": [
            "100%|██████████| 1875/1875 [00:21<00:00, 85.93it/s]\n",
            "100%|██████████| 313/313 [00:03<00:00, 83.75it/s]\n"
          ]
        },
        {
          "output_type": "stream",
          "name": "stdout",
          "text": [
            "Computing accuracy\n",
            "Test set accuracy (Precision@1) = 0.9926\n",
            "Epoch 16 Iteration 0: Loss = 0.09536166489124298, Number of mined triplets = 1050\n",
            "Epoch 16 Iteration 100: Loss = 0.0, Number of mined triplets = 0\n",
            "Epoch 16 Iteration 200: Loss = 0.0, Number of mined triplets = 0\n",
            "Epoch 16 Iteration 300: Loss = 0.06352072954177856, Number of mined triplets = 12\n",
            "Epoch 16 Iteration 400: Loss = 0.0, Number of mined triplets = 0\n"
          ]
        },
        {
          "output_type": "stream",
          "name": "stderr",
          "text": [
            "100%|██████████| 1875/1875 [00:23<00:00, 81.51it/s]\n",
            "100%|██████████| 313/313 [00:03<00:00, 81.89it/s]\n"
          ]
        },
        {
          "output_type": "stream",
          "name": "stdout",
          "text": [
            "Computing accuracy\n",
            "Test set accuracy (Precision@1) = 0.9916\n",
            "Epoch 17 Iteration 0: Loss = 0.12619969248771667, Number of mined triplets = 213\n",
            "Epoch 17 Iteration 100: Loss = 0.0, Number of mined triplets = 0\n",
            "Epoch 17 Iteration 200: Loss = 0.0419585183262825, Number of mined triplets = 21\n",
            "Epoch 17 Iteration 300: Loss = 0.12197095155715942, Number of mined triplets = 347\n",
            "Epoch 17 Iteration 400: Loss = 0.07768601179122925, Number of mined triplets = 1215\n"
          ]
        },
        {
          "output_type": "stream",
          "name": "stderr",
          "text": [
            "100%|██████████| 1875/1875 [00:22<00:00, 83.24it/s]\n",
            "100%|██████████| 313/313 [00:03<00:00, 83.52it/s]\n"
          ]
        },
        {
          "output_type": "stream",
          "name": "stdout",
          "text": [
            "Computing accuracy\n",
            "Test set accuracy (Precision@1) = 0.9922000000000001\n",
            "Epoch 18 Iteration 0: Loss = 0.0, Number of mined triplets = 0\n",
            "Epoch 18 Iteration 100: Loss = 0.10228708386421204, Number of mined triplets = 126\n",
            "Epoch 18 Iteration 200: Loss = 0.09396039694547653, Number of mined triplets = 639\n",
            "Epoch 18 Iteration 300: Loss = 0.0, Number of mined triplets = 0\n",
            "Epoch 18 Iteration 400: Loss = 0.07746146619319916, Number of mined triplets = 890\n"
          ]
        },
        {
          "output_type": "stream",
          "name": "stderr",
          "text": [
            "100%|██████████| 1875/1875 [00:22<00:00, 83.06it/s]\n",
            "100%|██████████| 313/313 [00:03<00:00, 83.84it/s]\n"
          ]
        },
        {
          "output_type": "stream",
          "name": "stdout",
          "text": [
            "Computing accuracy\n",
            "Test set accuracy (Precision@1) = 0.9932000000000001\n",
            "Epoch 19 Iteration 0: Loss = 0.10888664424419403, Number of mined triplets = 170\n",
            "Epoch 19 Iteration 100: Loss = 0.08884737640619278, Number of mined triplets = 1844\n",
            "Epoch 19 Iteration 200: Loss = 0.0, Number of mined triplets = 0\n",
            "Epoch 19 Iteration 300: Loss = 0.1401035487651825, Number of mined triplets = 1115\n",
            "Epoch 19 Iteration 400: Loss = 0.0013317614793777466, Number of mined triplets = 1\n"
          ]
        },
        {
          "output_type": "stream",
          "name": "stderr",
          "text": [
            "100%|██████████| 1875/1875 [00:22<00:00, 83.47it/s]\n",
            "100%|██████████| 313/313 [00:03<00:00, 85.08it/s]\n"
          ]
        },
        {
          "output_type": "stream",
          "name": "stdout",
          "text": [
            "Computing accuracy\n",
            "Test set accuracy (Precision@1) = 0.9928\n",
            "Epoch 20 Iteration 0: Loss = 0.09984999895095825, Number of mined triplets = 1517\n",
            "Epoch 20 Iteration 100: Loss = 0.09022094309329987, Number of mined triplets = 334\n",
            "Epoch 20 Iteration 200: Loss = 0.04478223994374275, Number of mined triplets = 221\n",
            "Epoch 20 Iteration 300: Loss = 0.028193026781082153, Number of mined triplets = 30\n",
            "Epoch 20 Iteration 400: Loss = 0.05666149780154228, Number of mined triplets = 21\n"
          ]
        },
        {
          "output_type": "stream",
          "name": "stderr",
          "text": [
            "100%|██████████| 1875/1875 [00:21<00:00, 86.19it/s]\n",
            "100%|██████████| 313/313 [00:03<00:00, 83.94it/s]\n"
          ]
        },
        {
          "output_type": "stream",
          "name": "stdout",
          "text": [
            "Computing accuracy\n",
            "Test set accuracy (Precision@1) = 0.993\n",
            "Epoch 21 Iteration 0: Loss = 0.11163169145584106, Number of mined triplets = 1717\n",
            "Epoch 21 Iteration 100: Loss = 0.0, Number of mined triplets = 0\n",
            "Epoch 21 Iteration 200: Loss = 0.15103556215763092, Number of mined triplets = 147\n",
            "Epoch 21 Iteration 300: Loss = 0.027017466723918915, Number of mined triplets = 131\n",
            "Epoch 21 Iteration 400: Loss = 0.10263719409704208, Number of mined triplets = 716\n"
          ]
        },
        {
          "output_type": "stream",
          "name": "stderr",
          "text": [
            "100%|██████████| 1875/1875 [00:24<00:00, 75.57it/s]\n",
            "100%|██████████| 313/313 [00:03<00:00, 84.76it/s]\n"
          ]
        },
        {
          "output_type": "stream",
          "name": "stdout",
          "text": [
            "Computing accuracy\n",
            "Test set accuracy (Precision@1) = 0.9917\n",
            "Epoch 22 Iteration 0: Loss = 0.0, Number of mined triplets = 0\n",
            "Epoch 22 Iteration 100: Loss = 0.06797125935554504, Number of mined triplets = 472\n",
            "Epoch 22 Iteration 200: Loss = 0.05192343518137932, Number of mined triplets = 593\n",
            "Epoch 22 Iteration 300: Loss = 0.08062703907489777, Number of mined triplets = 266\n",
            "Epoch 22 Iteration 400: Loss = 0.0, Number of mined triplets = 0\n"
          ]
        },
        {
          "output_type": "stream",
          "name": "stderr",
          "text": [
            "100%|██████████| 1875/1875 [00:22<00:00, 84.19it/s]\n",
            "100%|██████████| 313/313 [00:03<00:00, 82.76it/s]\n"
          ]
        },
        {
          "output_type": "stream",
          "name": "stdout",
          "text": [
            "Computing accuracy\n",
            "Test set accuracy (Precision@1) = 0.9937\n",
            "Epoch 23 Iteration 0: Loss = 0.04423713684082031, Number of mined triplets = 107\n",
            "Epoch 23 Iteration 100: Loss = 0.06482028216123581, Number of mined triplets = 177\n",
            "Epoch 23 Iteration 200: Loss = 0.037789732217788696, Number of mined triplets = 40\n",
            "Epoch 23 Iteration 300: Loss = 0.07772436738014221, Number of mined triplets = 686\n",
            "Epoch 23 Iteration 400: Loss = 0.038923781365156174, Number of mined triplets = 70\n"
          ]
        },
        {
          "output_type": "stream",
          "name": "stderr",
          "text": [
            "100%|██████████| 1875/1875 [00:22<00:00, 84.56it/s]\n",
            "100%|██████████| 313/313 [00:03<00:00, 84.32it/s]\n"
          ]
        },
        {
          "output_type": "stream",
          "name": "stdout",
          "text": [
            "Computing accuracy\n",
            "Test set accuracy (Precision@1) = 0.9922000000000001\n",
            "Epoch 24 Iteration 0: Loss = 0.12401453405618668, Number of mined triplets = 130\n",
            "Epoch 24 Iteration 100: Loss = 0.02282741293311119, Number of mined triplets = 12\n",
            "Epoch 24 Iteration 200: Loss = 0.016710268333554268, Number of mined triplets = 25\n",
            "Epoch 24 Iteration 300: Loss = 0.0, Number of mined triplets = 0\n",
            "Epoch 24 Iteration 400: Loss = 0.1400754153728485, Number of mined triplets = 92\n"
          ]
        },
        {
          "output_type": "stream",
          "name": "stderr",
          "text": [
            "100%|██████████| 1875/1875 [00:22<00:00, 83.09it/s]\n",
            "100%|██████████| 313/313 [00:03<00:00, 82.82it/s]\n"
          ]
        },
        {
          "output_type": "stream",
          "name": "stdout",
          "text": [
            "Computing accuracy\n",
            "Test set accuracy (Precision@1) = 0.9924000000000001\n",
            "Epoch 25 Iteration 0: Loss = 0.14326196908950806, Number of mined triplets = 155\n",
            "Epoch 25 Iteration 100: Loss = 0.0, Number of mined triplets = 0\n",
            "Epoch 25 Iteration 200: Loss = 0.0, Number of mined triplets = 0\n",
            "Epoch 25 Iteration 300: Loss = 0.015692593529820442, Number of mined triplets = 164\n",
            "Epoch 25 Iteration 400: Loss = 0.0, Number of mined triplets = 0\n"
          ]
        },
        {
          "output_type": "stream",
          "name": "stderr",
          "text": [
            "100%|██████████| 1875/1875 [00:22<00:00, 84.18it/s]\n",
            "100%|██████████| 313/313 [00:03<00:00, 83.43it/s]\n"
          ]
        },
        {
          "output_type": "stream",
          "name": "stdout",
          "text": [
            "Computing accuracy\n",
            "Test set accuracy (Precision@1) = 0.993\n",
            "Epoch 26 Iteration 0: Loss = 0.09967011213302612, Number of mined triplets = 282\n",
            "Epoch 26 Iteration 100: Loss = 0.10471177101135254, Number of mined triplets = 105\n",
            "Epoch 26 Iteration 200: Loss = 0.049672629684209824, Number of mined triplets = 12\n",
            "Epoch 26 Iteration 300: Loss = 0.032252710312604904, Number of mined triplets = 122\n",
            "Epoch 26 Iteration 400: Loss = 0.0, Number of mined triplets = 0\n"
          ]
        },
        {
          "output_type": "stream",
          "name": "stderr",
          "text": [
            "100%|██████████| 1875/1875 [00:22<00:00, 85.11it/s]\n",
            "100%|██████████| 313/313 [00:03<00:00, 84.60it/s]\n"
          ]
        },
        {
          "output_type": "stream",
          "name": "stdout",
          "text": [
            "Computing accuracy\n",
            "Test set accuracy (Precision@1) = 0.9924000000000001\n",
            "Epoch 27 Iteration 0: Loss = 0.08672580122947693, Number of mined triplets = 74\n",
            "Epoch 27 Iteration 100: Loss = 0.0, Number of mined triplets = 0\n",
            "Epoch 27 Iteration 200: Loss = 0.0, Number of mined triplets = 0\n",
            "Epoch 27 Iteration 300: Loss = 0.06721300631761551, Number of mined triplets = 511\n",
            "Epoch 27 Iteration 400: Loss = 0.0, Number of mined triplets = 0\n"
          ]
        },
        {
          "output_type": "stream",
          "name": "stderr",
          "text": [
            "100%|██████████| 1875/1875 [00:20<00:00, 92.90it/s]\n",
            "100%|██████████| 313/313 [00:03<00:00, 96.39it/s] \n"
          ]
        },
        {
          "output_type": "stream",
          "name": "stdout",
          "text": [
            "Computing accuracy\n",
            "Test set accuracy (Precision@1) = 0.9925\n",
            "Epoch 28 Iteration 0: Loss = 0.0, Number of mined triplets = 0\n",
            "Epoch 28 Iteration 100: Loss = 0.12957419455051422, Number of mined triplets = 116\n",
            "Epoch 28 Iteration 200: Loss = 0.0, Number of mined triplets = 0\n",
            "Epoch 28 Iteration 300: Loss = 0.0, Number of mined triplets = 0\n",
            "Epoch 28 Iteration 400: Loss = 0.0, Number of mined triplets = 0\n"
          ]
        },
        {
          "output_type": "stream",
          "name": "stderr",
          "text": [
            "100%|██████████| 1875/1875 [00:20<00:00, 92.56it/s]\n",
            "100%|██████████| 313/313 [00:03<00:00, 94.81it/s]\n"
          ]
        },
        {
          "output_type": "stream",
          "name": "stdout",
          "text": [
            "Computing accuracy\n",
            "Test set accuracy (Precision@1) = 0.9933000000000001\n",
            "Epoch 29 Iteration 0: Loss = 0.0, Number of mined triplets = 0\n",
            "Epoch 29 Iteration 100: Loss = 0.08871142566204071, Number of mined triplets = 1806\n",
            "Epoch 29 Iteration 200: Loss = 0.01896250993013382, Number of mined triplets = 104\n",
            "Epoch 29 Iteration 300: Loss = 0.0, Number of mined triplets = 0\n",
            "Epoch 29 Iteration 400: Loss = 0.046012721955776215, Number of mined triplets = 205\n"
          ]
        },
        {
          "output_type": "stream",
          "name": "stderr",
          "text": [
            "100%|██████████| 1875/1875 [00:20<00:00, 93.56it/s]\n",
            "100%|██████████| 313/313 [00:03<00:00, 94.19it/s]\n"
          ]
        },
        {
          "output_type": "stream",
          "name": "stdout",
          "text": [
            "Computing accuracy\n",
            "Test set accuracy (Precision@1) = 0.9922000000000001\n",
            "Epoch 30 Iteration 0: Loss = 0.0, Number of mined triplets = 0\n",
            "Epoch 30 Iteration 100: Loss = 0.11411440372467041, Number of mined triplets = 1946\n",
            "Epoch 30 Iteration 200: Loss = 0.0, Number of mined triplets = 0\n",
            "Epoch 30 Iteration 300: Loss = 0.0, Number of mined triplets = 0\n",
            "Epoch 30 Iteration 400: Loss = 0.08093579113483429, Number of mined triplets = 849\n"
          ]
        },
        {
          "output_type": "stream",
          "name": "stderr",
          "text": [
            "100%|██████████| 1875/1875 [00:20<00:00, 93.18it/s]\n",
            "100%|██████████| 313/313 [00:03<00:00, 92.70it/s]\n"
          ]
        },
        {
          "output_type": "stream",
          "name": "stdout",
          "text": [
            "Computing accuracy\n",
            "Test set accuracy (Precision@1) = 0.9931000000000001\n"
          ]
        }
      ],
      "source": [
        "for epoch in range(1, num_epochs + 1):\n",
        "    train(model, loss_func, mining_func, device, train_loader, optimizer, epoch)\n",
        "    test(dataset1, dataset2, model, accuracy_calculator)"
      ]
    }
  ],
  "metadata": {
    "accelerator": "GPU",
    "colab": {
      "collapsed_sections": [],
      "name": "hw5_deeplearning_1970025_김하은_3_TripleMNIST.ipynb",
      "provenance": []
    },
    "kernelspec": {
      "display_name": "Python 3 (ipykernel)",
      "language": "python",
      "name": "python3"
    },
    "language_info": {
      "codemirror_mode": {
        "name": "ipython",
        "version": 3
      },
      "file_extension": ".py",
      "mimetype": "text/x-python",
      "name": "python",
      "nbconvert_exporter": "python",
      "pygments_lexer": "ipython3",
      "version": "3.9.7"
    },
    "widgets": {
      "application/vnd.jupyter.widget-state+json": {
        "94e8605f3a224fd0a6daa8bd408f6c4c": {
          "model_module": "@jupyter-widgets/controls",
          "model_name": "HBoxModel",
          "model_module_version": "1.5.0",
          "state": {
            "_dom_classes": [],
            "_model_module": "@jupyter-widgets/controls",
            "_model_module_version": "1.5.0",
            "_model_name": "HBoxModel",
            "_view_count": null,
            "_view_module": "@jupyter-widgets/controls",
            "_view_module_version": "1.5.0",
            "_view_name": "HBoxView",
            "box_style": "",
            "children": [
              "IPY_MODEL_bac22256d9dc4203978eca2bd6eeb3ba",
              "IPY_MODEL_fa26b36c3f414b6cb774a7d7ddb34b0a",
              "IPY_MODEL_660db4a0d9d84eca9f2437c70e2450dd"
            ],
            "layout": "IPY_MODEL_ab82b1d6f7bd48dfac23c71462723cea"
          }
        },
        "bac22256d9dc4203978eca2bd6eeb3ba": {
          "model_module": "@jupyter-widgets/controls",
          "model_name": "HTMLModel",
          "model_module_version": "1.5.0",
          "state": {
            "_dom_classes": [],
            "_model_module": "@jupyter-widgets/controls",
            "_model_module_version": "1.5.0",
            "_model_name": "HTMLModel",
            "_view_count": null,
            "_view_module": "@jupyter-widgets/controls",
            "_view_module_version": "1.5.0",
            "_view_name": "HTMLView",
            "description": "",
            "description_tooltip": null,
            "layout": "IPY_MODEL_202014a1a0e64f06a5ff9dd9ead41107",
            "placeholder": "​",
            "style": "IPY_MODEL_352cb29aef284734ab2fd22909b119c9",
            "value": ""
          }
        },
        "fa26b36c3f414b6cb774a7d7ddb34b0a": {
          "model_module": "@jupyter-widgets/controls",
          "model_name": "FloatProgressModel",
          "model_module_version": "1.5.0",
          "state": {
            "_dom_classes": [],
            "_model_module": "@jupyter-widgets/controls",
            "_model_module_version": "1.5.0",
            "_model_name": "FloatProgressModel",
            "_view_count": null,
            "_view_module": "@jupyter-widgets/controls",
            "_view_module_version": "1.5.0",
            "_view_name": "ProgressView",
            "bar_style": "success",
            "description": "",
            "description_tooltip": null,
            "layout": "IPY_MODEL_bb9f8183996f4da398359e8a73dbc85a",
            "max": 9912422,
            "min": 0,
            "orientation": "horizontal",
            "style": "IPY_MODEL_b9fc5e5e21ed4de582becb319b8115ae",
            "value": 9912422
          }
        },
        "660db4a0d9d84eca9f2437c70e2450dd": {
          "model_module": "@jupyter-widgets/controls",
          "model_name": "HTMLModel",
          "model_module_version": "1.5.0",
          "state": {
            "_dom_classes": [],
            "_model_module": "@jupyter-widgets/controls",
            "_model_module_version": "1.5.0",
            "_model_name": "HTMLModel",
            "_view_count": null,
            "_view_module": "@jupyter-widgets/controls",
            "_view_module_version": "1.5.0",
            "_view_name": "HTMLView",
            "description": "",
            "description_tooltip": null,
            "layout": "IPY_MODEL_017e099fc13848858675120a35d2d759",
            "placeholder": "​",
            "style": "IPY_MODEL_2d600fefb92e46abaa9d4486c9129e6e",
            "value": " 9913344/? [00:00&lt;00:00, 16077204.87it/s]"
          }
        },
        "ab82b1d6f7bd48dfac23c71462723cea": {
          "model_module": "@jupyter-widgets/base",
          "model_name": "LayoutModel",
          "model_module_version": "1.2.0",
          "state": {
            "_model_module": "@jupyter-widgets/base",
            "_model_module_version": "1.2.0",
            "_model_name": "LayoutModel",
            "_view_count": null,
            "_view_module": "@jupyter-widgets/base",
            "_view_module_version": "1.2.0",
            "_view_name": "LayoutView",
            "align_content": null,
            "align_items": null,
            "align_self": null,
            "border": null,
            "bottom": null,
            "display": null,
            "flex": null,
            "flex_flow": null,
            "grid_area": null,
            "grid_auto_columns": null,
            "grid_auto_flow": null,
            "grid_auto_rows": null,
            "grid_column": null,
            "grid_gap": null,
            "grid_row": null,
            "grid_template_areas": null,
            "grid_template_columns": null,
            "grid_template_rows": null,
            "height": null,
            "justify_content": null,
            "justify_items": null,
            "left": null,
            "margin": null,
            "max_height": null,
            "max_width": null,
            "min_height": null,
            "min_width": null,
            "object_fit": null,
            "object_position": null,
            "order": null,
            "overflow": null,
            "overflow_x": null,
            "overflow_y": null,
            "padding": null,
            "right": null,
            "top": null,
            "visibility": null,
            "width": null
          }
        },
        "202014a1a0e64f06a5ff9dd9ead41107": {
          "model_module": "@jupyter-widgets/base",
          "model_name": "LayoutModel",
          "model_module_version": "1.2.0",
          "state": {
            "_model_module": "@jupyter-widgets/base",
            "_model_module_version": "1.2.0",
            "_model_name": "LayoutModel",
            "_view_count": null,
            "_view_module": "@jupyter-widgets/base",
            "_view_module_version": "1.2.0",
            "_view_name": "LayoutView",
            "align_content": null,
            "align_items": null,
            "align_self": null,
            "border": null,
            "bottom": null,
            "display": null,
            "flex": null,
            "flex_flow": null,
            "grid_area": null,
            "grid_auto_columns": null,
            "grid_auto_flow": null,
            "grid_auto_rows": null,
            "grid_column": null,
            "grid_gap": null,
            "grid_row": null,
            "grid_template_areas": null,
            "grid_template_columns": null,
            "grid_template_rows": null,
            "height": null,
            "justify_content": null,
            "justify_items": null,
            "left": null,
            "margin": null,
            "max_height": null,
            "max_width": null,
            "min_height": null,
            "min_width": null,
            "object_fit": null,
            "object_position": null,
            "order": null,
            "overflow": null,
            "overflow_x": null,
            "overflow_y": null,
            "padding": null,
            "right": null,
            "top": null,
            "visibility": null,
            "width": null
          }
        },
        "352cb29aef284734ab2fd22909b119c9": {
          "model_module": "@jupyter-widgets/controls",
          "model_name": "DescriptionStyleModel",
          "model_module_version": "1.5.0",
          "state": {
            "_model_module": "@jupyter-widgets/controls",
            "_model_module_version": "1.5.0",
            "_model_name": "DescriptionStyleModel",
            "_view_count": null,
            "_view_module": "@jupyter-widgets/base",
            "_view_module_version": "1.2.0",
            "_view_name": "StyleView",
            "description_width": ""
          }
        },
        "bb9f8183996f4da398359e8a73dbc85a": {
          "model_module": "@jupyter-widgets/base",
          "model_name": "LayoutModel",
          "model_module_version": "1.2.0",
          "state": {
            "_model_module": "@jupyter-widgets/base",
            "_model_module_version": "1.2.0",
            "_model_name": "LayoutModel",
            "_view_count": null,
            "_view_module": "@jupyter-widgets/base",
            "_view_module_version": "1.2.0",
            "_view_name": "LayoutView",
            "align_content": null,
            "align_items": null,
            "align_self": null,
            "border": null,
            "bottom": null,
            "display": null,
            "flex": null,
            "flex_flow": null,
            "grid_area": null,
            "grid_auto_columns": null,
            "grid_auto_flow": null,
            "grid_auto_rows": null,
            "grid_column": null,
            "grid_gap": null,
            "grid_row": null,
            "grid_template_areas": null,
            "grid_template_columns": null,
            "grid_template_rows": null,
            "height": null,
            "justify_content": null,
            "justify_items": null,
            "left": null,
            "margin": null,
            "max_height": null,
            "max_width": null,
            "min_height": null,
            "min_width": null,
            "object_fit": null,
            "object_position": null,
            "order": null,
            "overflow": null,
            "overflow_x": null,
            "overflow_y": null,
            "padding": null,
            "right": null,
            "top": null,
            "visibility": null,
            "width": null
          }
        },
        "b9fc5e5e21ed4de582becb319b8115ae": {
          "model_module": "@jupyter-widgets/controls",
          "model_name": "ProgressStyleModel",
          "model_module_version": "1.5.0",
          "state": {
            "_model_module": "@jupyter-widgets/controls",
            "_model_module_version": "1.5.0",
            "_model_name": "ProgressStyleModel",
            "_view_count": null,
            "_view_module": "@jupyter-widgets/base",
            "_view_module_version": "1.2.0",
            "_view_name": "StyleView",
            "bar_color": null,
            "description_width": ""
          }
        },
        "017e099fc13848858675120a35d2d759": {
          "model_module": "@jupyter-widgets/base",
          "model_name": "LayoutModel",
          "model_module_version": "1.2.0",
          "state": {
            "_model_module": "@jupyter-widgets/base",
            "_model_module_version": "1.2.0",
            "_model_name": "LayoutModel",
            "_view_count": null,
            "_view_module": "@jupyter-widgets/base",
            "_view_module_version": "1.2.0",
            "_view_name": "LayoutView",
            "align_content": null,
            "align_items": null,
            "align_self": null,
            "border": null,
            "bottom": null,
            "display": null,
            "flex": null,
            "flex_flow": null,
            "grid_area": null,
            "grid_auto_columns": null,
            "grid_auto_flow": null,
            "grid_auto_rows": null,
            "grid_column": null,
            "grid_gap": null,
            "grid_row": null,
            "grid_template_areas": null,
            "grid_template_columns": null,
            "grid_template_rows": null,
            "height": null,
            "justify_content": null,
            "justify_items": null,
            "left": null,
            "margin": null,
            "max_height": null,
            "max_width": null,
            "min_height": null,
            "min_width": null,
            "object_fit": null,
            "object_position": null,
            "order": null,
            "overflow": null,
            "overflow_x": null,
            "overflow_y": null,
            "padding": null,
            "right": null,
            "top": null,
            "visibility": null,
            "width": null
          }
        },
        "2d600fefb92e46abaa9d4486c9129e6e": {
          "model_module": "@jupyter-widgets/controls",
          "model_name": "DescriptionStyleModel",
          "model_module_version": "1.5.0",
          "state": {
            "_model_module": "@jupyter-widgets/controls",
            "_model_module_version": "1.5.0",
            "_model_name": "DescriptionStyleModel",
            "_view_count": null,
            "_view_module": "@jupyter-widgets/base",
            "_view_module_version": "1.2.0",
            "_view_name": "StyleView",
            "description_width": ""
          }
        },
        "ac7a63fda3da4930b0121074a6efeebe": {
          "model_module": "@jupyter-widgets/controls",
          "model_name": "HBoxModel",
          "model_module_version": "1.5.0",
          "state": {
            "_dom_classes": [],
            "_model_module": "@jupyter-widgets/controls",
            "_model_module_version": "1.5.0",
            "_model_name": "HBoxModel",
            "_view_count": null,
            "_view_module": "@jupyter-widgets/controls",
            "_view_module_version": "1.5.0",
            "_view_name": "HBoxView",
            "box_style": "",
            "children": [
              "IPY_MODEL_64a51753d537423996a1766ef1a6f23c",
              "IPY_MODEL_41f45dee03e049d28b4e904ee9945ff3",
              "IPY_MODEL_8eb1eab72b5a4f808d7aefa9869ff693"
            ],
            "layout": "IPY_MODEL_4c4110f00ba949edb375ccfd22d96fc9"
          }
        },
        "64a51753d537423996a1766ef1a6f23c": {
          "model_module": "@jupyter-widgets/controls",
          "model_name": "HTMLModel",
          "model_module_version": "1.5.0",
          "state": {
            "_dom_classes": [],
            "_model_module": "@jupyter-widgets/controls",
            "_model_module_version": "1.5.0",
            "_model_name": "HTMLModel",
            "_view_count": null,
            "_view_module": "@jupyter-widgets/controls",
            "_view_module_version": "1.5.0",
            "_view_name": "HTMLView",
            "description": "",
            "description_tooltip": null,
            "layout": "IPY_MODEL_f3dcd8da516542c1acb33d8fb7baba66",
            "placeholder": "​",
            "style": "IPY_MODEL_fe7e90492e774e1b959fc781ccbea58f",
            "value": ""
          }
        },
        "41f45dee03e049d28b4e904ee9945ff3": {
          "model_module": "@jupyter-widgets/controls",
          "model_name": "FloatProgressModel",
          "model_module_version": "1.5.0",
          "state": {
            "_dom_classes": [],
            "_model_module": "@jupyter-widgets/controls",
            "_model_module_version": "1.5.0",
            "_model_name": "FloatProgressModel",
            "_view_count": null,
            "_view_module": "@jupyter-widgets/controls",
            "_view_module_version": "1.5.0",
            "_view_name": "ProgressView",
            "bar_style": "success",
            "description": "",
            "description_tooltip": null,
            "layout": "IPY_MODEL_e7c6ebf4fe01447b95d76175a204b143",
            "max": 28881,
            "min": 0,
            "orientation": "horizontal",
            "style": "IPY_MODEL_67bc71551f494cc1868e2fdf437ba68a",
            "value": 28881
          }
        },
        "8eb1eab72b5a4f808d7aefa9869ff693": {
          "model_module": "@jupyter-widgets/controls",
          "model_name": "HTMLModel",
          "model_module_version": "1.5.0",
          "state": {
            "_dom_classes": [],
            "_model_module": "@jupyter-widgets/controls",
            "_model_module_version": "1.5.0",
            "_model_name": "HTMLModel",
            "_view_count": null,
            "_view_module": "@jupyter-widgets/controls",
            "_view_module_version": "1.5.0",
            "_view_name": "HTMLView",
            "description": "",
            "description_tooltip": null,
            "layout": "IPY_MODEL_c9a3e1400eb24089a0c08a4aca277b6e",
            "placeholder": "​",
            "style": "IPY_MODEL_92fb7def288246599b31a86b1b98be86",
            "value": " 29696/? [00:00&lt;00:00, 898963.22it/s]"
          }
        },
        "4c4110f00ba949edb375ccfd22d96fc9": {
          "model_module": "@jupyter-widgets/base",
          "model_name": "LayoutModel",
          "model_module_version": "1.2.0",
          "state": {
            "_model_module": "@jupyter-widgets/base",
            "_model_module_version": "1.2.0",
            "_model_name": "LayoutModel",
            "_view_count": null,
            "_view_module": "@jupyter-widgets/base",
            "_view_module_version": "1.2.0",
            "_view_name": "LayoutView",
            "align_content": null,
            "align_items": null,
            "align_self": null,
            "border": null,
            "bottom": null,
            "display": null,
            "flex": null,
            "flex_flow": null,
            "grid_area": null,
            "grid_auto_columns": null,
            "grid_auto_flow": null,
            "grid_auto_rows": null,
            "grid_column": null,
            "grid_gap": null,
            "grid_row": null,
            "grid_template_areas": null,
            "grid_template_columns": null,
            "grid_template_rows": null,
            "height": null,
            "justify_content": null,
            "justify_items": null,
            "left": null,
            "margin": null,
            "max_height": null,
            "max_width": null,
            "min_height": null,
            "min_width": null,
            "object_fit": null,
            "object_position": null,
            "order": null,
            "overflow": null,
            "overflow_x": null,
            "overflow_y": null,
            "padding": null,
            "right": null,
            "top": null,
            "visibility": null,
            "width": null
          }
        },
        "f3dcd8da516542c1acb33d8fb7baba66": {
          "model_module": "@jupyter-widgets/base",
          "model_name": "LayoutModel",
          "model_module_version": "1.2.0",
          "state": {
            "_model_module": "@jupyter-widgets/base",
            "_model_module_version": "1.2.0",
            "_model_name": "LayoutModel",
            "_view_count": null,
            "_view_module": "@jupyter-widgets/base",
            "_view_module_version": "1.2.0",
            "_view_name": "LayoutView",
            "align_content": null,
            "align_items": null,
            "align_self": null,
            "border": null,
            "bottom": null,
            "display": null,
            "flex": null,
            "flex_flow": null,
            "grid_area": null,
            "grid_auto_columns": null,
            "grid_auto_flow": null,
            "grid_auto_rows": null,
            "grid_column": null,
            "grid_gap": null,
            "grid_row": null,
            "grid_template_areas": null,
            "grid_template_columns": null,
            "grid_template_rows": null,
            "height": null,
            "justify_content": null,
            "justify_items": null,
            "left": null,
            "margin": null,
            "max_height": null,
            "max_width": null,
            "min_height": null,
            "min_width": null,
            "object_fit": null,
            "object_position": null,
            "order": null,
            "overflow": null,
            "overflow_x": null,
            "overflow_y": null,
            "padding": null,
            "right": null,
            "top": null,
            "visibility": null,
            "width": null
          }
        },
        "fe7e90492e774e1b959fc781ccbea58f": {
          "model_module": "@jupyter-widgets/controls",
          "model_name": "DescriptionStyleModel",
          "model_module_version": "1.5.0",
          "state": {
            "_model_module": "@jupyter-widgets/controls",
            "_model_module_version": "1.5.0",
            "_model_name": "DescriptionStyleModel",
            "_view_count": null,
            "_view_module": "@jupyter-widgets/base",
            "_view_module_version": "1.2.0",
            "_view_name": "StyleView",
            "description_width": ""
          }
        },
        "e7c6ebf4fe01447b95d76175a204b143": {
          "model_module": "@jupyter-widgets/base",
          "model_name": "LayoutModel",
          "model_module_version": "1.2.0",
          "state": {
            "_model_module": "@jupyter-widgets/base",
            "_model_module_version": "1.2.0",
            "_model_name": "LayoutModel",
            "_view_count": null,
            "_view_module": "@jupyter-widgets/base",
            "_view_module_version": "1.2.0",
            "_view_name": "LayoutView",
            "align_content": null,
            "align_items": null,
            "align_self": null,
            "border": null,
            "bottom": null,
            "display": null,
            "flex": null,
            "flex_flow": null,
            "grid_area": null,
            "grid_auto_columns": null,
            "grid_auto_flow": null,
            "grid_auto_rows": null,
            "grid_column": null,
            "grid_gap": null,
            "grid_row": null,
            "grid_template_areas": null,
            "grid_template_columns": null,
            "grid_template_rows": null,
            "height": null,
            "justify_content": null,
            "justify_items": null,
            "left": null,
            "margin": null,
            "max_height": null,
            "max_width": null,
            "min_height": null,
            "min_width": null,
            "object_fit": null,
            "object_position": null,
            "order": null,
            "overflow": null,
            "overflow_x": null,
            "overflow_y": null,
            "padding": null,
            "right": null,
            "top": null,
            "visibility": null,
            "width": null
          }
        },
        "67bc71551f494cc1868e2fdf437ba68a": {
          "model_module": "@jupyter-widgets/controls",
          "model_name": "ProgressStyleModel",
          "model_module_version": "1.5.0",
          "state": {
            "_model_module": "@jupyter-widgets/controls",
            "_model_module_version": "1.5.0",
            "_model_name": "ProgressStyleModel",
            "_view_count": null,
            "_view_module": "@jupyter-widgets/base",
            "_view_module_version": "1.2.0",
            "_view_name": "StyleView",
            "bar_color": null,
            "description_width": ""
          }
        },
        "c9a3e1400eb24089a0c08a4aca277b6e": {
          "model_module": "@jupyter-widgets/base",
          "model_name": "LayoutModel",
          "model_module_version": "1.2.0",
          "state": {
            "_model_module": "@jupyter-widgets/base",
            "_model_module_version": "1.2.0",
            "_model_name": "LayoutModel",
            "_view_count": null,
            "_view_module": "@jupyter-widgets/base",
            "_view_module_version": "1.2.0",
            "_view_name": "LayoutView",
            "align_content": null,
            "align_items": null,
            "align_self": null,
            "border": null,
            "bottom": null,
            "display": null,
            "flex": null,
            "flex_flow": null,
            "grid_area": null,
            "grid_auto_columns": null,
            "grid_auto_flow": null,
            "grid_auto_rows": null,
            "grid_column": null,
            "grid_gap": null,
            "grid_row": null,
            "grid_template_areas": null,
            "grid_template_columns": null,
            "grid_template_rows": null,
            "height": null,
            "justify_content": null,
            "justify_items": null,
            "left": null,
            "margin": null,
            "max_height": null,
            "max_width": null,
            "min_height": null,
            "min_width": null,
            "object_fit": null,
            "object_position": null,
            "order": null,
            "overflow": null,
            "overflow_x": null,
            "overflow_y": null,
            "padding": null,
            "right": null,
            "top": null,
            "visibility": null,
            "width": null
          }
        },
        "92fb7def288246599b31a86b1b98be86": {
          "model_module": "@jupyter-widgets/controls",
          "model_name": "DescriptionStyleModel",
          "model_module_version": "1.5.0",
          "state": {
            "_model_module": "@jupyter-widgets/controls",
            "_model_module_version": "1.5.0",
            "_model_name": "DescriptionStyleModel",
            "_view_count": null,
            "_view_module": "@jupyter-widgets/base",
            "_view_module_version": "1.2.0",
            "_view_name": "StyleView",
            "description_width": ""
          }
        },
        "a505e31d2847447699941ea0e253b2fb": {
          "model_module": "@jupyter-widgets/controls",
          "model_name": "HBoxModel",
          "model_module_version": "1.5.0",
          "state": {
            "_dom_classes": [],
            "_model_module": "@jupyter-widgets/controls",
            "_model_module_version": "1.5.0",
            "_model_name": "HBoxModel",
            "_view_count": null,
            "_view_module": "@jupyter-widgets/controls",
            "_view_module_version": "1.5.0",
            "_view_name": "HBoxView",
            "box_style": "",
            "children": [
              "IPY_MODEL_f6075708ff6240ee9589da906a802177",
              "IPY_MODEL_c3f9fb5358bc4cadbb47af5c2472bb30",
              "IPY_MODEL_4e5390288b3c4ea0b4f6b96b072912d4"
            ],
            "layout": "IPY_MODEL_d40976b4e39b4677a85b82de217bc3e6"
          }
        },
        "f6075708ff6240ee9589da906a802177": {
          "model_module": "@jupyter-widgets/controls",
          "model_name": "HTMLModel",
          "model_module_version": "1.5.0",
          "state": {
            "_dom_classes": [],
            "_model_module": "@jupyter-widgets/controls",
            "_model_module_version": "1.5.0",
            "_model_name": "HTMLModel",
            "_view_count": null,
            "_view_module": "@jupyter-widgets/controls",
            "_view_module_version": "1.5.0",
            "_view_name": "HTMLView",
            "description": "",
            "description_tooltip": null,
            "layout": "IPY_MODEL_c42c2dea947148e892b923eb04049413",
            "placeholder": "​",
            "style": "IPY_MODEL_4f68953219bf441ab4112c701adf6a56",
            "value": ""
          }
        },
        "c3f9fb5358bc4cadbb47af5c2472bb30": {
          "model_module": "@jupyter-widgets/controls",
          "model_name": "FloatProgressModel",
          "model_module_version": "1.5.0",
          "state": {
            "_dom_classes": [],
            "_model_module": "@jupyter-widgets/controls",
            "_model_module_version": "1.5.0",
            "_model_name": "FloatProgressModel",
            "_view_count": null,
            "_view_module": "@jupyter-widgets/controls",
            "_view_module_version": "1.5.0",
            "_view_name": "ProgressView",
            "bar_style": "success",
            "description": "",
            "description_tooltip": null,
            "layout": "IPY_MODEL_f3e1d61c390844ca8208ad6c3b07f7e6",
            "max": 1648877,
            "min": 0,
            "orientation": "horizontal",
            "style": "IPY_MODEL_f5bcd810b3f74b478bee79652543e0dd",
            "value": 1648877
          }
        },
        "4e5390288b3c4ea0b4f6b96b072912d4": {
          "model_module": "@jupyter-widgets/controls",
          "model_name": "HTMLModel",
          "model_module_version": "1.5.0",
          "state": {
            "_dom_classes": [],
            "_model_module": "@jupyter-widgets/controls",
            "_model_module_version": "1.5.0",
            "_model_name": "HTMLModel",
            "_view_count": null,
            "_view_module": "@jupyter-widgets/controls",
            "_view_module_version": "1.5.0",
            "_view_name": "HTMLView",
            "description": "",
            "description_tooltip": null,
            "layout": "IPY_MODEL_1c163fa2eb6c4b3fb45261a6195d7e8f",
            "placeholder": "​",
            "style": "IPY_MODEL_30e6b305c515474aab2ec0215d055822",
            "value": " 1649664/? [00:00&lt;00:00, 4700776.52it/s]"
          }
        },
        "d40976b4e39b4677a85b82de217bc3e6": {
          "model_module": "@jupyter-widgets/base",
          "model_name": "LayoutModel",
          "model_module_version": "1.2.0",
          "state": {
            "_model_module": "@jupyter-widgets/base",
            "_model_module_version": "1.2.0",
            "_model_name": "LayoutModel",
            "_view_count": null,
            "_view_module": "@jupyter-widgets/base",
            "_view_module_version": "1.2.0",
            "_view_name": "LayoutView",
            "align_content": null,
            "align_items": null,
            "align_self": null,
            "border": null,
            "bottom": null,
            "display": null,
            "flex": null,
            "flex_flow": null,
            "grid_area": null,
            "grid_auto_columns": null,
            "grid_auto_flow": null,
            "grid_auto_rows": null,
            "grid_column": null,
            "grid_gap": null,
            "grid_row": null,
            "grid_template_areas": null,
            "grid_template_columns": null,
            "grid_template_rows": null,
            "height": null,
            "justify_content": null,
            "justify_items": null,
            "left": null,
            "margin": null,
            "max_height": null,
            "max_width": null,
            "min_height": null,
            "min_width": null,
            "object_fit": null,
            "object_position": null,
            "order": null,
            "overflow": null,
            "overflow_x": null,
            "overflow_y": null,
            "padding": null,
            "right": null,
            "top": null,
            "visibility": null,
            "width": null
          }
        },
        "c42c2dea947148e892b923eb04049413": {
          "model_module": "@jupyter-widgets/base",
          "model_name": "LayoutModel",
          "model_module_version": "1.2.0",
          "state": {
            "_model_module": "@jupyter-widgets/base",
            "_model_module_version": "1.2.0",
            "_model_name": "LayoutModel",
            "_view_count": null,
            "_view_module": "@jupyter-widgets/base",
            "_view_module_version": "1.2.0",
            "_view_name": "LayoutView",
            "align_content": null,
            "align_items": null,
            "align_self": null,
            "border": null,
            "bottom": null,
            "display": null,
            "flex": null,
            "flex_flow": null,
            "grid_area": null,
            "grid_auto_columns": null,
            "grid_auto_flow": null,
            "grid_auto_rows": null,
            "grid_column": null,
            "grid_gap": null,
            "grid_row": null,
            "grid_template_areas": null,
            "grid_template_columns": null,
            "grid_template_rows": null,
            "height": null,
            "justify_content": null,
            "justify_items": null,
            "left": null,
            "margin": null,
            "max_height": null,
            "max_width": null,
            "min_height": null,
            "min_width": null,
            "object_fit": null,
            "object_position": null,
            "order": null,
            "overflow": null,
            "overflow_x": null,
            "overflow_y": null,
            "padding": null,
            "right": null,
            "top": null,
            "visibility": null,
            "width": null
          }
        },
        "4f68953219bf441ab4112c701adf6a56": {
          "model_module": "@jupyter-widgets/controls",
          "model_name": "DescriptionStyleModel",
          "model_module_version": "1.5.0",
          "state": {
            "_model_module": "@jupyter-widgets/controls",
            "_model_module_version": "1.5.0",
            "_model_name": "DescriptionStyleModel",
            "_view_count": null,
            "_view_module": "@jupyter-widgets/base",
            "_view_module_version": "1.2.0",
            "_view_name": "StyleView",
            "description_width": ""
          }
        },
        "f3e1d61c390844ca8208ad6c3b07f7e6": {
          "model_module": "@jupyter-widgets/base",
          "model_name": "LayoutModel",
          "model_module_version": "1.2.0",
          "state": {
            "_model_module": "@jupyter-widgets/base",
            "_model_module_version": "1.2.0",
            "_model_name": "LayoutModel",
            "_view_count": null,
            "_view_module": "@jupyter-widgets/base",
            "_view_module_version": "1.2.0",
            "_view_name": "LayoutView",
            "align_content": null,
            "align_items": null,
            "align_self": null,
            "border": null,
            "bottom": null,
            "display": null,
            "flex": null,
            "flex_flow": null,
            "grid_area": null,
            "grid_auto_columns": null,
            "grid_auto_flow": null,
            "grid_auto_rows": null,
            "grid_column": null,
            "grid_gap": null,
            "grid_row": null,
            "grid_template_areas": null,
            "grid_template_columns": null,
            "grid_template_rows": null,
            "height": null,
            "justify_content": null,
            "justify_items": null,
            "left": null,
            "margin": null,
            "max_height": null,
            "max_width": null,
            "min_height": null,
            "min_width": null,
            "object_fit": null,
            "object_position": null,
            "order": null,
            "overflow": null,
            "overflow_x": null,
            "overflow_y": null,
            "padding": null,
            "right": null,
            "top": null,
            "visibility": null,
            "width": null
          }
        },
        "f5bcd810b3f74b478bee79652543e0dd": {
          "model_module": "@jupyter-widgets/controls",
          "model_name": "ProgressStyleModel",
          "model_module_version": "1.5.0",
          "state": {
            "_model_module": "@jupyter-widgets/controls",
            "_model_module_version": "1.5.0",
            "_model_name": "ProgressStyleModel",
            "_view_count": null,
            "_view_module": "@jupyter-widgets/base",
            "_view_module_version": "1.2.0",
            "_view_name": "StyleView",
            "bar_color": null,
            "description_width": ""
          }
        },
        "1c163fa2eb6c4b3fb45261a6195d7e8f": {
          "model_module": "@jupyter-widgets/base",
          "model_name": "LayoutModel",
          "model_module_version": "1.2.0",
          "state": {
            "_model_module": "@jupyter-widgets/base",
            "_model_module_version": "1.2.0",
            "_model_name": "LayoutModel",
            "_view_count": null,
            "_view_module": "@jupyter-widgets/base",
            "_view_module_version": "1.2.0",
            "_view_name": "LayoutView",
            "align_content": null,
            "align_items": null,
            "align_self": null,
            "border": null,
            "bottom": null,
            "display": null,
            "flex": null,
            "flex_flow": null,
            "grid_area": null,
            "grid_auto_columns": null,
            "grid_auto_flow": null,
            "grid_auto_rows": null,
            "grid_column": null,
            "grid_gap": null,
            "grid_row": null,
            "grid_template_areas": null,
            "grid_template_columns": null,
            "grid_template_rows": null,
            "height": null,
            "justify_content": null,
            "justify_items": null,
            "left": null,
            "margin": null,
            "max_height": null,
            "max_width": null,
            "min_height": null,
            "min_width": null,
            "object_fit": null,
            "object_position": null,
            "order": null,
            "overflow": null,
            "overflow_x": null,
            "overflow_y": null,
            "padding": null,
            "right": null,
            "top": null,
            "visibility": null,
            "width": null
          }
        },
        "30e6b305c515474aab2ec0215d055822": {
          "model_module": "@jupyter-widgets/controls",
          "model_name": "DescriptionStyleModel",
          "model_module_version": "1.5.0",
          "state": {
            "_model_module": "@jupyter-widgets/controls",
            "_model_module_version": "1.5.0",
            "_model_name": "DescriptionStyleModel",
            "_view_count": null,
            "_view_module": "@jupyter-widgets/base",
            "_view_module_version": "1.2.0",
            "_view_name": "StyleView",
            "description_width": ""
          }
        },
        "8548cd4df73c4448930d5d3bc24841d6": {
          "model_module": "@jupyter-widgets/controls",
          "model_name": "HBoxModel",
          "model_module_version": "1.5.0",
          "state": {
            "_dom_classes": [],
            "_model_module": "@jupyter-widgets/controls",
            "_model_module_version": "1.5.0",
            "_model_name": "HBoxModel",
            "_view_count": null,
            "_view_module": "@jupyter-widgets/controls",
            "_view_module_version": "1.5.0",
            "_view_name": "HBoxView",
            "box_style": "",
            "children": [
              "IPY_MODEL_215cb0735b9545b180cd6a1465579ab6",
              "IPY_MODEL_4e3408881ec24714b361c43b9368d8d8",
              "IPY_MODEL_60a8fe3d202c4a4faba6434501086e18"
            ],
            "layout": "IPY_MODEL_c64ba594743c4a5db46848e0cc4674b9"
          }
        },
        "215cb0735b9545b180cd6a1465579ab6": {
          "model_module": "@jupyter-widgets/controls",
          "model_name": "HTMLModel",
          "model_module_version": "1.5.0",
          "state": {
            "_dom_classes": [],
            "_model_module": "@jupyter-widgets/controls",
            "_model_module_version": "1.5.0",
            "_model_name": "HTMLModel",
            "_view_count": null,
            "_view_module": "@jupyter-widgets/controls",
            "_view_module_version": "1.5.0",
            "_view_name": "HTMLView",
            "description": "",
            "description_tooltip": null,
            "layout": "IPY_MODEL_4a9efc26182e43848724a2a5bb581b03",
            "placeholder": "​",
            "style": "IPY_MODEL_e9794a167fa244e8948fb6894a43e8b4",
            "value": ""
          }
        },
        "4e3408881ec24714b361c43b9368d8d8": {
          "model_module": "@jupyter-widgets/controls",
          "model_name": "FloatProgressModel",
          "model_module_version": "1.5.0",
          "state": {
            "_dom_classes": [],
            "_model_module": "@jupyter-widgets/controls",
            "_model_module_version": "1.5.0",
            "_model_name": "FloatProgressModel",
            "_view_count": null,
            "_view_module": "@jupyter-widgets/controls",
            "_view_module_version": "1.5.0",
            "_view_name": "ProgressView",
            "bar_style": "success",
            "description": "",
            "description_tooltip": null,
            "layout": "IPY_MODEL_0e7855240d554f46b99537b63b8432a8",
            "max": 4542,
            "min": 0,
            "orientation": "horizontal",
            "style": "IPY_MODEL_6684621ca1fb4576bdff8a50e8608efd",
            "value": 4542
          }
        },
        "60a8fe3d202c4a4faba6434501086e18": {
          "model_module": "@jupyter-widgets/controls",
          "model_name": "HTMLModel",
          "model_module_version": "1.5.0",
          "state": {
            "_dom_classes": [],
            "_model_module": "@jupyter-widgets/controls",
            "_model_module_version": "1.5.0",
            "_model_name": "HTMLModel",
            "_view_count": null,
            "_view_module": "@jupyter-widgets/controls",
            "_view_module_version": "1.5.0",
            "_view_name": "HTMLView",
            "description": "",
            "description_tooltip": null,
            "layout": "IPY_MODEL_ac2c069812ab4e2f83e977d04fffb50d",
            "placeholder": "​",
            "style": "IPY_MODEL_8943a6ec5763493b868b9b792f2002a5",
            "value": " 5120/? [00:00&lt;00:00, 162917.72it/s]"
          }
        },
        "c64ba594743c4a5db46848e0cc4674b9": {
          "model_module": "@jupyter-widgets/base",
          "model_name": "LayoutModel",
          "model_module_version": "1.2.0",
          "state": {
            "_model_module": "@jupyter-widgets/base",
            "_model_module_version": "1.2.0",
            "_model_name": "LayoutModel",
            "_view_count": null,
            "_view_module": "@jupyter-widgets/base",
            "_view_module_version": "1.2.0",
            "_view_name": "LayoutView",
            "align_content": null,
            "align_items": null,
            "align_self": null,
            "border": null,
            "bottom": null,
            "display": null,
            "flex": null,
            "flex_flow": null,
            "grid_area": null,
            "grid_auto_columns": null,
            "grid_auto_flow": null,
            "grid_auto_rows": null,
            "grid_column": null,
            "grid_gap": null,
            "grid_row": null,
            "grid_template_areas": null,
            "grid_template_columns": null,
            "grid_template_rows": null,
            "height": null,
            "justify_content": null,
            "justify_items": null,
            "left": null,
            "margin": null,
            "max_height": null,
            "max_width": null,
            "min_height": null,
            "min_width": null,
            "object_fit": null,
            "object_position": null,
            "order": null,
            "overflow": null,
            "overflow_x": null,
            "overflow_y": null,
            "padding": null,
            "right": null,
            "top": null,
            "visibility": null,
            "width": null
          }
        },
        "4a9efc26182e43848724a2a5bb581b03": {
          "model_module": "@jupyter-widgets/base",
          "model_name": "LayoutModel",
          "model_module_version": "1.2.0",
          "state": {
            "_model_module": "@jupyter-widgets/base",
            "_model_module_version": "1.2.0",
            "_model_name": "LayoutModel",
            "_view_count": null,
            "_view_module": "@jupyter-widgets/base",
            "_view_module_version": "1.2.0",
            "_view_name": "LayoutView",
            "align_content": null,
            "align_items": null,
            "align_self": null,
            "border": null,
            "bottom": null,
            "display": null,
            "flex": null,
            "flex_flow": null,
            "grid_area": null,
            "grid_auto_columns": null,
            "grid_auto_flow": null,
            "grid_auto_rows": null,
            "grid_column": null,
            "grid_gap": null,
            "grid_row": null,
            "grid_template_areas": null,
            "grid_template_columns": null,
            "grid_template_rows": null,
            "height": null,
            "justify_content": null,
            "justify_items": null,
            "left": null,
            "margin": null,
            "max_height": null,
            "max_width": null,
            "min_height": null,
            "min_width": null,
            "object_fit": null,
            "object_position": null,
            "order": null,
            "overflow": null,
            "overflow_x": null,
            "overflow_y": null,
            "padding": null,
            "right": null,
            "top": null,
            "visibility": null,
            "width": null
          }
        },
        "e9794a167fa244e8948fb6894a43e8b4": {
          "model_module": "@jupyter-widgets/controls",
          "model_name": "DescriptionStyleModel",
          "model_module_version": "1.5.0",
          "state": {
            "_model_module": "@jupyter-widgets/controls",
            "_model_module_version": "1.5.0",
            "_model_name": "DescriptionStyleModel",
            "_view_count": null,
            "_view_module": "@jupyter-widgets/base",
            "_view_module_version": "1.2.0",
            "_view_name": "StyleView",
            "description_width": ""
          }
        },
        "0e7855240d554f46b99537b63b8432a8": {
          "model_module": "@jupyter-widgets/base",
          "model_name": "LayoutModel",
          "model_module_version": "1.2.0",
          "state": {
            "_model_module": "@jupyter-widgets/base",
            "_model_module_version": "1.2.0",
            "_model_name": "LayoutModel",
            "_view_count": null,
            "_view_module": "@jupyter-widgets/base",
            "_view_module_version": "1.2.0",
            "_view_name": "LayoutView",
            "align_content": null,
            "align_items": null,
            "align_self": null,
            "border": null,
            "bottom": null,
            "display": null,
            "flex": null,
            "flex_flow": null,
            "grid_area": null,
            "grid_auto_columns": null,
            "grid_auto_flow": null,
            "grid_auto_rows": null,
            "grid_column": null,
            "grid_gap": null,
            "grid_row": null,
            "grid_template_areas": null,
            "grid_template_columns": null,
            "grid_template_rows": null,
            "height": null,
            "justify_content": null,
            "justify_items": null,
            "left": null,
            "margin": null,
            "max_height": null,
            "max_width": null,
            "min_height": null,
            "min_width": null,
            "object_fit": null,
            "object_position": null,
            "order": null,
            "overflow": null,
            "overflow_x": null,
            "overflow_y": null,
            "padding": null,
            "right": null,
            "top": null,
            "visibility": null,
            "width": null
          }
        },
        "6684621ca1fb4576bdff8a50e8608efd": {
          "model_module": "@jupyter-widgets/controls",
          "model_name": "ProgressStyleModel",
          "model_module_version": "1.5.0",
          "state": {
            "_model_module": "@jupyter-widgets/controls",
            "_model_module_version": "1.5.0",
            "_model_name": "ProgressStyleModel",
            "_view_count": null,
            "_view_module": "@jupyter-widgets/base",
            "_view_module_version": "1.2.0",
            "_view_name": "StyleView",
            "bar_color": null,
            "description_width": ""
          }
        },
        "ac2c069812ab4e2f83e977d04fffb50d": {
          "model_module": "@jupyter-widgets/base",
          "model_name": "LayoutModel",
          "model_module_version": "1.2.0",
          "state": {
            "_model_module": "@jupyter-widgets/base",
            "_model_module_version": "1.2.0",
            "_model_name": "LayoutModel",
            "_view_count": null,
            "_view_module": "@jupyter-widgets/base",
            "_view_module_version": "1.2.0",
            "_view_name": "LayoutView",
            "align_content": null,
            "align_items": null,
            "align_self": null,
            "border": null,
            "bottom": null,
            "display": null,
            "flex": null,
            "flex_flow": null,
            "grid_area": null,
            "grid_auto_columns": null,
            "grid_auto_flow": null,
            "grid_auto_rows": null,
            "grid_column": null,
            "grid_gap": null,
            "grid_row": null,
            "grid_template_areas": null,
            "grid_template_columns": null,
            "grid_template_rows": null,
            "height": null,
            "justify_content": null,
            "justify_items": null,
            "left": null,
            "margin": null,
            "max_height": null,
            "max_width": null,
            "min_height": null,
            "min_width": null,
            "object_fit": null,
            "object_position": null,
            "order": null,
            "overflow": null,
            "overflow_x": null,
            "overflow_y": null,
            "padding": null,
            "right": null,
            "top": null,
            "visibility": null,
            "width": null
          }
        },
        "8943a6ec5763493b868b9b792f2002a5": {
          "model_module": "@jupyter-widgets/controls",
          "model_name": "DescriptionStyleModel",
          "model_module_version": "1.5.0",
          "state": {
            "_model_module": "@jupyter-widgets/controls",
            "_model_module_version": "1.5.0",
            "_model_name": "DescriptionStyleModel",
            "_view_count": null,
            "_view_module": "@jupyter-widgets/base",
            "_view_module_version": "1.2.0",
            "_view_name": "StyleView",
            "description_width": ""
          }
        },
        "8ed2578a64f1443b8806755ec8c266d5": {
          "model_module": "@jupyter-widgets/controls",
          "model_name": "HBoxModel",
          "model_module_version": "1.5.0",
          "state": {
            "_dom_classes": [],
            "_model_module": "@jupyter-widgets/controls",
            "_model_module_version": "1.5.0",
            "_model_name": "HBoxModel",
            "_view_count": null,
            "_view_module": "@jupyter-widgets/controls",
            "_view_module_version": "1.5.0",
            "_view_name": "HBoxView",
            "box_style": "",
            "children": [
              "IPY_MODEL_8bcd2b0cd1c1470aadb28b29aacf9337",
              "IPY_MODEL_b443d077d1d7473d8c2964537834b4f8",
              "IPY_MODEL_77acc3195193412ba3b7ca0120df9928"
            ],
            "layout": "IPY_MODEL_506714be5e1b4d0f9792ef851b90c760"
          }
        },
        "8bcd2b0cd1c1470aadb28b29aacf9337": {
          "model_module": "@jupyter-widgets/controls",
          "model_name": "HTMLModel",
          "model_module_version": "1.5.0",
          "state": {
            "_dom_classes": [],
            "_model_module": "@jupyter-widgets/controls",
            "_model_module_version": "1.5.0",
            "_model_name": "HTMLModel",
            "_view_count": null,
            "_view_module": "@jupyter-widgets/controls",
            "_view_module_version": "1.5.0",
            "_view_name": "HTMLView",
            "description": "",
            "description_tooltip": null,
            "layout": "IPY_MODEL_6f11ccf6a37847fcb55d7b4be7f30b37",
            "placeholder": "​",
            "style": "IPY_MODEL_210b1c72bcea4f13b74ca289b1299b6d",
            "value": "100%"
          }
        },
        "b443d077d1d7473d8c2964537834b4f8": {
          "model_module": "@jupyter-widgets/controls",
          "model_name": "FloatProgressModel",
          "model_module_version": "1.5.0",
          "state": {
            "_dom_classes": [],
            "_model_module": "@jupyter-widgets/controls",
            "_model_module_version": "1.5.0",
            "_model_name": "FloatProgressModel",
            "_view_count": null,
            "_view_module": "@jupyter-widgets/controls",
            "_view_module_version": "1.5.0",
            "_view_name": "ProgressView",
            "bar_style": "success",
            "description": "",
            "description_tooltip": null,
            "layout": "IPY_MODEL_7f859b2c90d74673af8d196c9a7788ba",
            "max": 46830571,
            "min": 0,
            "orientation": "horizontal",
            "style": "IPY_MODEL_84941c74c93d44898dc9a222ebab5482",
            "value": 46830571
          }
        },
        "77acc3195193412ba3b7ca0120df9928": {
          "model_module": "@jupyter-widgets/controls",
          "model_name": "HTMLModel",
          "model_module_version": "1.5.0",
          "state": {
            "_dom_classes": [],
            "_model_module": "@jupyter-widgets/controls",
            "_model_module_version": "1.5.0",
            "_model_name": "HTMLModel",
            "_view_count": null,
            "_view_module": "@jupyter-widgets/controls",
            "_view_module_version": "1.5.0",
            "_view_name": "HTMLView",
            "description": "",
            "description_tooltip": null,
            "layout": "IPY_MODEL_892a15ba2d8841f2ab14f1676a10c649",
            "placeholder": "​",
            "style": "IPY_MODEL_9701b92eca2c4150b299bd3ec3220709",
            "value": " 44.7M/44.7M [00:00&lt;00:00, 188MB/s]"
          }
        },
        "506714be5e1b4d0f9792ef851b90c760": {
          "model_module": "@jupyter-widgets/base",
          "model_name": "LayoutModel",
          "model_module_version": "1.2.0",
          "state": {
            "_model_module": "@jupyter-widgets/base",
            "_model_module_version": "1.2.0",
            "_model_name": "LayoutModel",
            "_view_count": null,
            "_view_module": "@jupyter-widgets/base",
            "_view_module_version": "1.2.0",
            "_view_name": "LayoutView",
            "align_content": null,
            "align_items": null,
            "align_self": null,
            "border": null,
            "bottom": null,
            "display": null,
            "flex": null,
            "flex_flow": null,
            "grid_area": null,
            "grid_auto_columns": null,
            "grid_auto_flow": null,
            "grid_auto_rows": null,
            "grid_column": null,
            "grid_gap": null,
            "grid_row": null,
            "grid_template_areas": null,
            "grid_template_columns": null,
            "grid_template_rows": null,
            "height": null,
            "justify_content": null,
            "justify_items": null,
            "left": null,
            "margin": null,
            "max_height": null,
            "max_width": null,
            "min_height": null,
            "min_width": null,
            "object_fit": null,
            "object_position": null,
            "order": null,
            "overflow": null,
            "overflow_x": null,
            "overflow_y": null,
            "padding": null,
            "right": null,
            "top": null,
            "visibility": null,
            "width": null
          }
        },
        "6f11ccf6a37847fcb55d7b4be7f30b37": {
          "model_module": "@jupyter-widgets/base",
          "model_name": "LayoutModel",
          "model_module_version": "1.2.0",
          "state": {
            "_model_module": "@jupyter-widgets/base",
            "_model_module_version": "1.2.0",
            "_model_name": "LayoutModel",
            "_view_count": null,
            "_view_module": "@jupyter-widgets/base",
            "_view_module_version": "1.2.0",
            "_view_name": "LayoutView",
            "align_content": null,
            "align_items": null,
            "align_self": null,
            "border": null,
            "bottom": null,
            "display": null,
            "flex": null,
            "flex_flow": null,
            "grid_area": null,
            "grid_auto_columns": null,
            "grid_auto_flow": null,
            "grid_auto_rows": null,
            "grid_column": null,
            "grid_gap": null,
            "grid_row": null,
            "grid_template_areas": null,
            "grid_template_columns": null,
            "grid_template_rows": null,
            "height": null,
            "justify_content": null,
            "justify_items": null,
            "left": null,
            "margin": null,
            "max_height": null,
            "max_width": null,
            "min_height": null,
            "min_width": null,
            "object_fit": null,
            "object_position": null,
            "order": null,
            "overflow": null,
            "overflow_x": null,
            "overflow_y": null,
            "padding": null,
            "right": null,
            "top": null,
            "visibility": null,
            "width": null
          }
        },
        "210b1c72bcea4f13b74ca289b1299b6d": {
          "model_module": "@jupyter-widgets/controls",
          "model_name": "DescriptionStyleModel",
          "model_module_version": "1.5.0",
          "state": {
            "_model_module": "@jupyter-widgets/controls",
            "_model_module_version": "1.5.0",
            "_model_name": "DescriptionStyleModel",
            "_view_count": null,
            "_view_module": "@jupyter-widgets/base",
            "_view_module_version": "1.2.0",
            "_view_name": "StyleView",
            "description_width": ""
          }
        },
        "7f859b2c90d74673af8d196c9a7788ba": {
          "model_module": "@jupyter-widgets/base",
          "model_name": "LayoutModel",
          "model_module_version": "1.2.0",
          "state": {
            "_model_module": "@jupyter-widgets/base",
            "_model_module_version": "1.2.0",
            "_model_name": "LayoutModel",
            "_view_count": null,
            "_view_module": "@jupyter-widgets/base",
            "_view_module_version": "1.2.0",
            "_view_name": "LayoutView",
            "align_content": null,
            "align_items": null,
            "align_self": null,
            "border": null,
            "bottom": null,
            "display": null,
            "flex": null,
            "flex_flow": null,
            "grid_area": null,
            "grid_auto_columns": null,
            "grid_auto_flow": null,
            "grid_auto_rows": null,
            "grid_column": null,
            "grid_gap": null,
            "grid_row": null,
            "grid_template_areas": null,
            "grid_template_columns": null,
            "grid_template_rows": null,
            "height": null,
            "justify_content": null,
            "justify_items": null,
            "left": null,
            "margin": null,
            "max_height": null,
            "max_width": null,
            "min_height": null,
            "min_width": null,
            "object_fit": null,
            "object_position": null,
            "order": null,
            "overflow": null,
            "overflow_x": null,
            "overflow_y": null,
            "padding": null,
            "right": null,
            "top": null,
            "visibility": null,
            "width": null
          }
        },
        "84941c74c93d44898dc9a222ebab5482": {
          "model_module": "@jupyter-widgets/controls",
          "model_name": "ProgressStyleModel",
          "model_module_version": "1.5.0",
          "state": {
            "_model_module": "@jupyter-widgets/controls",
            "_model_module_version": "1.5.0",
            "_model_name": "ProgressStyleModel",
            "_view_count": null,
            "_view_module": "@jupyter-widgets/base",
            "_view_module_version": "1.2.0",
            "_view_name": "StyleView",
            "bar_color": null,
            "description_width": ""
          }
        },
        "892a15ba2d8841f2ab14f1676a10c649": {
          "model_module": "@jupyter-widgets/base",
          "model_name": "LayoutModel",
          "model_module_version": "1.2.0",
          "state": {
            "_model_module": "@jupyter-widgets/base",
            "_model_module_version": "1.2.0",
            "_model_name": "LayoutModel",
            "_view_count": null,
            "_view_module": "@jupyter-widgets/base",
            "_view_module_version": "1.2.0",
            "_view_name": "LayoutView",
            "align_content": null,
            "align_items": null,
            "align_self": null,
            "border": null,
            "bottom": null,
            "display": null,
            "flex": null,
            "flex_flow": null,
            "grid_area": null,
            "grid_auto_columns": null,
            "grid_auto_flow": null,
            "grid_auto_rows": null,
            "grid_column": null,
            "grid_gap": null,
            "grid_row": null,
            "grid_template_areas": null,
            "grid_template_columns": null,
            "grid_template_rows": null,
            "height": null,
            "justify_content": null,
            "justify_items": null,
            "left": null,
            "margin": null,
            "max_height": null,
            "max_width": null,
            "min_height": null,
            "min_width": null,
            "object_fit": null,
            "object_position": null,
            "order": null,
            "overflow": null,
            "overflow_x": null,
            "overflow_y": null,
            "padding": null,
            "right": null,
            "top": null,
            "visibility": null,
            "width": null
          }
        },
        "9701b92eca2c4150b299bd3ec3220709": {
          "model_module": "@jupyter-widgets/controls",
          "model_name": "DescriptionStyleModel",
          "model_module_version": "1.5.0",
          "state": {
            "_model_module": "@jupyter-widgets/controls",
            "_model_module_version": "1.5.0",
            "_model_name": "DescriptionStyleModel",
            "_view_count": null,
            "_view_module": "@jupyter-widgets/base",
            "_view_module_version": "1.2.0",
            "_view_name": "StyleView",
            "description_width": ""
          }
        }
      }
    }
  },
  "nbformat": 4,
  "nbformat_minor": 0
}